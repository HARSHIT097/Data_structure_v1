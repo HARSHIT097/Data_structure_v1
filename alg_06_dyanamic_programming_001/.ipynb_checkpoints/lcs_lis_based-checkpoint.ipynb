{
 "cells": [
  {
   "cell_type": "code",
   "execution_count": 1,
   "id": "c87efb1c-9d21-4fce-b88f-2b4a806f6ee6",
   "metadata": {},
   "outputs": [],
   "source": [
    "# 3. DP on Subsequences (Knapsack, LCS, LIS)\n",
    "# ✔ Problems: 0/1 Knapsack, Subset Sum, Longest Increasing Subsequence, Longest Common Subsequence\n",
    "\n",
    "def knapsack(weights, values, capacity):\n",
    "    n = len(weights)\n",
    "    dp = [[0] * (capacity + 1) for _ in range(n + 1)]\n",
    "\n",
    "    for i in range(1, n + 1):\n",
    "        for w in range(capacity + 1):\n",
    "            if weights[i-1] > w:\n",
    "                dp[i][w] = dp[i-1][w]  # Cannot take this item\n",
    "            else:\n",
    "                dp[i][w] = max(dp[i-1][w], values[i-1] + dp[i-1][w - weights[i-1]])\n",
    "\n",
    "    return dp[n][capacity]"
   ]
  },
  {
   "cell_type": "raw",
   "id": "4edaebdc-6500-4f14-88d9-700a3f25ab41",
   "metadata": {},
   "source": [
    "Longest Increasing Subsequence (LIS) → Find the longest increasing subsequence.\n",
    "Solution: Use *DP on Subsequences (Binary Search for O(N log N))."
   ]
  },
  {
   "cell_type": "raw",
   "id": "4e6114d6-395e-41bf-b0d9-94e3a797084b",
   "metadata": {},
   "source": [
    " Longest Common Subsequence (LCS) → Find the longest subsequence common to two strings.\n",
    "    Solution: Use 2D DP with string matching transition."
   ]
  },
  {
   "cell_type": "code",
   "execution_count": null,
   "id": "3ad657fb-ae83-44a9-8966-33aa8ed8f4c2",
   "metadata": {},
   "outputs": [],
   "source": [
    "Longest Increasing Subsequence (LIS) → Find the length of the longest increasing subsequence.\n",
    "    Solution: Use 1D DP with binary search (O(N log N))"
   ]
  },
  {
   "cell_type": "markdown",
   "id": "67b86e83-777f-4b9c-b71e-823904c86555",
   "metadata": {},
   "source": [
    "## Longest Common Subsequence M -- LC 1143 -- M  -- strings"
   ]
  },
  {
   "cell_type": "markdown",
   "id": "648416c9-68e1-4773-901f-d688d0d915ae",
   "metadata": {},
   "source": [
    "Given two strings text1 and text2, return the length of their longest common subsequence. If there is no common subsequence, return 0.\n",
    "\n",
    "A subsequence of a string is a new string generated from the original string with some characters (can be none) deleted without changing the relative order of the remaining characters.\n",
    "\n",
    "For example, \"ace\" is a subsequence of \"abcde\".\n",
    "A common subsequence of two strings is a subsequence that is common to both strings.\n",
    "\n",
    "             \n",
    "            \n",
    "            Example 1:\n",
    "            \n",
    "            Input: text1 = \"abcde\", text2 = \"ace\" \n",
    "            Output: 3  \n",
    "            Explanation: The longest common subsequence is \"ace\" and its length is 3.\n",
    "            Example 2:\n",
    "            \n",
    "            Input: text1 = \"abc\", text2 = \"abc\"\n",
    "            Output: 3\n",
    "            Explanation: The longest common subsequence is \"abc\" and its length is 3.\n",
    "            Example 3:\n",
    "            \n",
    "            Input: text1 = \"abc\", text2 = \"def\"\n",
    "            Output: 0\n",
    "            Explanation: There is no such common subsequence, so the result is 0.\n",
    "             \n",
    "            \n",
    "            Constraints:\n",
    "            \n",
    "            1 <= text1.length, text2.length <= 1000\n",
    "            text1 and text2 consist of only lowercase English characters."
   ]
  },
  {
   "cell_type": "raw",
   "id": "b584fbba-3dbb-47b5-9fc6-d1affd4b73ce",
   "metadata": {},
   "source": [
    "Approach: Dynamic Programming (O(m * n))\n",
    "State Definition:\n",
    "Let dp[i][j] be the LCS length for text1[0:i] and text2[0:j].\n",
    "\n",
    "Transition:\n",
    "            \n",
    "            If text1[i-1] == text2[j-1]:\n",
    "                    dp[i][j]=1+dp[i−1][j−1]\n",
    "            Else:\n",
    "                dp[i][j]=max(dp[i−1][j],dp[i][j−1])"
   ]
  },
  {
   "cell_type": "code",
   "execution_count": 2,
   "id": "2449e667-c22b-47fa-a41b-361f009f0ff9",
   "metadata": {},
   "outputs": [
    {
     "name": "stdout",
     "output_type": "stream",
     "text": [
      "3\n"
     ]
    }
   ],
   "source": [
    "def longestCommonSubsequence(text1, text2):\n",
    "    m, n = len(text1), len(text2)\n",
    "    dp = [[0] * (n + 1) for _ in range(m + 1)]\n",
    "\n",
    "    for i in range(1, m + 1):\n",
    "        for j in range(1, n + 1):\n",
    "            if text1[i - 1] == text2[j - 1]:\n",
    "                dp[i][j] = 1 + dp[i - 1][j - 1]\n",
    "            else:\n",
    "                dp[i][j] = max(dp[i - 1][j], dp[i][j - 1])\n",
    "\n",
    "    return dp[m][n]\n",
    "\n",
    "text1 = \"abcde\"\n",
    "text2 = \"ace\"\n",
    "print(longestCommonSubsequence(text1, text2))  # Output: 3"
   ]
  },
  {
   "cell_type": "raw",
   "id": "8a7cc3a5-a9f3-4de9-bf3a-73dfd9b1144e",
   "metadata": {},
   "source": [
    "⏳ Time Complexity: O(m×n) 💾 Space Complexity: O(m×n)"
   ]
  },
  {
   "cell_type": "raw",
   "id": "343fe6ce-c3d7-4c92-bb53-a3e5df2bc2a7",
   "metadata": {},
   "source": [
    "Longest Common Subsequence (LCS) problem into Python, covering:\n",
    "\n",
    "✅ Top-Down (Recursion + Memoization)\n",
    "\n",
    "✅ Bottom-Up (Tabulation)\n",
    "\n",
    "✅ Space-Optimized (2-row DP)\n",
    "\n",
    "✅ 1D DP (Fully optimized space)\n",
    "\n",
    "📌 Problem Statement\n",
    "Given two strings a and b, find the length of their longest common subsequence.\n",
    "A subsequence appears in the same order, but not necessarily contiguous.\n",
    "\n",
    "🧠 Recurrence Relation\n",
    "If characters match:\n",
    "dp[m][n] = 1 + dp[m-1][n-1]\n",
    "\n",
    "Else:\n",
    "dp[m][n] = max(dp[m-1][n], dp[m][n-1])"
   ]
  },
  {
   "cell_type": "code",
   "execution_count": 28,
   "id": "7bb804ca-ae56-475e-a5f5-bfb80fbdfebb",
   "metadata": {},
   "outputs": [],
   "source": [
    "# ✅ Method 1: Top-Down (Recursion + Memoization)\n",
    "def lcs_top_down(a, b, m=None, n=None, dp=None):\n",
    "    if m is None: m = len(a)\n",
    "    if n is None: n = len(b)\n",
    "    if dp is None:\n",
    "        dp = [[-1] * (n + 1) for _ in range(m + 1)]\n",
    "\n",
    "    if m == 0 or n == 0:\n",
    "        return 0\n",
    "\n",
    "    if dp[m][n] != -1:\n",
    "        return dp[m][n]\n",
    "\n",
    "    if a[m - 1] == b[n - 1]:\n",
    "        dp[m][n] = 1 + lcs_top_down(a, b, m - 1, n - 1, dp)\n",
    "    else:\n",
    "        dp[m][n] = max(\n",
    "            lcs_top_down(a, b, m - 1, n, dp),\n",
    "            lcs_top_down(a, b, m, n - 1, dp)\n",
    "        )\n",
    "\n",
    "    return dp[m][n]"
   ]
  },
  {
   "cell_type": "code",
   "execution_count": 29,
   "id": "a2a7f02f-f2e9-4d7a-bdf4-3aa3b25e79f9",
   "metadata": {},
   "outputs": [],
   "source": [
    "# ✅ Method 2: Bottom-Up Tabulation (2D DP)\n",
    "\n",
    "def lcs_bottom_up(a, b):\n",
    "    m, n = len(a), len(b)\n",
    "    dp = [[0] * (n + 1) for _ in range(m + 1)]\n",
    "\n",
    "    for i in range(1, m + 1):\n",
    "        for j in range(1, n + 1):\n",
    "            if a[i - 1] == b[j - 1]:\n",
    "                dp[i][j] = 1 + dp[i - 1][j - 1]\n",
    "            else:\n",
    "                dp[i][j] = max(dp[i - 1][j], dp[i][j - 1])\n",
    "\n",
    "    return dp[m][n]\n"
   ]
  },
  {
   "cell_type": "code",
   "execution_count": 30,
   "id": "e7c622f9-6e46-42c0-9343-3eae2b62a97e",
   "metadata": {},
   "outputs": [],
   "source": [
    "# ✅ Method 3: Space-Optimized (2-row DP)\n",
    "\n",
    "def lcs_2row(a, b):\n",
    "    m, n = len(a), len(b)\n",
    "    dp = [[0] * (n + 1) for _ in range(2)]\n",
    "\n",
    "    for i in range(1, m + 1):\n",
    "        for j in range(1, n + 1):\n",
    "            if a[i - 1] == b[j - 1]:\n",
    "                dp[i % 2][j] = 1 + dp[(i - 1) % 2][j - 1]\n",
    "            else:\n",
    "                dp[i % 2][j] = max(dp[(i - 1) % 2][j], dp[i % 2][j - 1])\n",
    "\n",
    "    return dp[m % 2][n]"
   ]
  },
  {
   "cell_type": "code",
   "execution_count": 31,
   "id": "cd32c0f9-e4b9-4f3b-80d0-cca3ee1f14df",
   "metadata": {},
   "outputs": [],
   "source": [
    "# ✅ Method 4: Fully Optimized 1D DP\n",
    "def lcs_1d(a, b):\n",
    "    m, n = len(a), len(b)\n",
    "    prev = [0] * (n + 1)\n",
    "\n",
    "    for i in range(1, m + 1):\n",
    "        curr = [0] * (n + 1)\n",
    "        for j in range(1, n + 1):\n",
    "            if a[i - 1] == b[j - 1]:\n",
    "                curr[j] = 1 + prev[j - 1]\n",
    "            else:\n",
    "                curr[j] = max(prev[j], curr[j - 1])\n",
    "        prev = curr\n",
    "\n",
    "    return prev[n]"
   ]
  },
  {
   "cell_type": "code",
   "execution_count": 32,
   "id": "ef538551-7060-4afd-843d-6ff0e4af25eb",
   "metadata": {},
   "outputs": [
    {
     "name": "stdout",
     "output_type": "stream",
     "text": [
      "Top-Down: 3\n",
      "Bottom-Up: 3\n",
      "2-row Optimized: 3\n",
      "1D DP Optimized: 3\n"
     ]
    }
   ],
   "source": [
    "a = \"abcde\"\n",
    "b = \"ace\"\n",
    "\n",
    "print(\"Top-Down:\", lcs_top_down(a, b))\n",
    "print(\"Bottom-Up:\", lcs_bottom_up(a, b))\n",
    "print(\"2-row Optimized:\", lcs_2row(a, b))\n",
    "print(\"1D DP Optimized:\", lcs_1d(a, b))"
   ]
  },
  {
   "cell_type": "markdown",
   "id": "4d8ec183-4b00-41fa-850a-43c135c00280",
   "metadata": {},
   "source": [
    "🧩 Related Problems Using Same Pattern:\n",
    "\n",
    "| Problem                                              | Variation                                                                  |\n",
    "| ---------------------------------------------------- | -------------------------------------------------------------------------- |\n",
    "| ✅ Longest Common Substring                           | Characters must be **contiguous** — use rolling `dp[i][j] = 0 if mismatch` |\n",
    "| ✅ Shortest Common Supersequence                      | `len(A) + len(B) - LCS(A, B)`                                              |\n",
    "| ✅ Min insert/delete to convert A→B                   | `insertions = len(B) - LCS`, `deletions = len(A) - LCS`                    |\n",
    "| ✅ Longest Repeating Subsequence                      | LCS of same string with `i != j`                                           |\n",
    "| ✅ Subsequence of A that's substring of B             | Build LCS + substring check                                                |\n",
    "| ✅ Count how many times A appears as subsequence in B | Use DP with counts instead of lengths                                      |\n",
    "| ✅ Longest Palindromic Subsequence                    | LCS of string and its reverse                                              |\n",
    "| ✅ Count of Palindromic Substrings                    | Center expansion or DP with substrings                                     |\n",
    "| ✅ Min Insert/Delete to Palindrome                    | `len(s) - LPS(s)` where LPS = longest palindromic subsequence              |\n"
   ]
  },
  {
   "cell_type": "code",
   "execution_count": null,
   "id": "245585b4-3f66-44c2-8f63-369197df0eda",
   "metadata": {},
   "outputs": [],
   "source": []
  },
  {
   "cell_type": "markdown",
   "id": "e59d16ec-74a8-44a7-b2f7-195f1a7010de",
   "metadata": {
    "jp-MarkdownHeadingCollapsed": true
   },
   "source": [
    "## Uncrossed Lines -- LC -- 1035 -- M"
   ]
  },
  {
   "cell_type": "raw",
   "id": "3cbcbf4a-cca1-43aa-b7d0-bed1cc7d5768",
   "metadata": {},
   "source": [
    "You are given two integer arrays nums1 and nums2. We write the integers of nums1 and nums2 (in the order they are given) on two separate horizontal lines.\n",
    "\n",
    "We may draw connecting lines: a straight line connecting two numbers nums1[i] and nums2[j] such that:\n",
    "\n",
    "nums1[i] == nums2[j], and\n",
    "the line we draw does not intersect any other connecting (non-horizontal) line.\n",
    "Note that a connecting line cannot intersect even at the endpoints (i.e., each number can only belong to one connecting line).\n",
    "\n",
    "Return the maximum number of connecting lines we can draw in this way.\n",
    "\n",
    "            Example 1:\n",
    "            \n",
    "            \n",
    "            Input: nums1 = [1,4,2], nums2 = [1,2,4]\n",
    "            Output: 2\n",
    "            Explanation: We can draw 2 uncrossed lines as in the diagram.\n",
    "            We cannot draw 3 uncrossed lines, because the line from nums1[1] = 4 to nums2[2] = 4 will intersect the line from nums1[2]=2 to nums2[1]=2.\n",
    "            Example 2:\n",
    "            \n",
    "            Input: nums1 = [2,5,1,2,5], nums2 = [10,5,2,1,5,2]\n",
    "            Output: 3\n",
    "            Example 3:\n",
    "            \n",
    "            Input: nums1 = [1,3,7,1,7,5], nums2 = [1,9,2,5,1]\n",
    "            Output: 2"
   ]
  },
  {
   "cell_type": "code",
   "execution_count": 3,
   "id": "3eeb2d55-edbd-4ca5-8a05-5fa17157c4a2",
   "metadata": {},
   "outputs": [
    {
     "name": "stdout",
     "output_type": "stream",
     "text": [
      "2\n"
     ]
    }
   ],
   "source": [
    "def maxUncrossedLines(nums1, nums2):\n",
    "    m, n = len(nums1), len(nums2)\n",
    "    dp = [[0] * (n + 1) for _ in range(m + 1)]\n",
    "\n",
    "    for i in range(1, m + 1):\n",
    "        for j in range(1, n + 1):\n",
    "            if nums1[i - 1] == nums2[j - 1]:\n",
    "                dp[i][j] = 1 + dp[i - 1][j - 1]\n",
    "            else:\n",
    "                dp[i][j] = max(dp[i - 1][j], dp[i][j - 1])\n",
    "\n",
    "    return dp[m][n]\n",
    "\n",
    "nums1 = [1,4,2]\n",
    "nums2 = [1,2,4]\n",
    "print(maxUncrossedLines(nums1, nums2))  # Output: 2"
   ]
  },
  {
   "cell_type": "raw",
   "id": "b0c66936-c715-4205-aecd-6daaf5c10a26",
   "metadata": {},
   "source": [
    "⏳ Time Complexity: O(m×n) 💾 Space Complexity: O(m×n)"
   ]
  },
  {
   "cell_type": "markdown",
   "id": "930befd6-b5cb-4cae-aa50-693fbde9a0f2",
   "metadata": {
    "jp-MarkdownHeadingCollapsed": true
   },
   "source": [
    "##  Minimum Insertion Steps to Make a String Palindrome -- LC 1312 -- H"
   ]
  },
  {
   "cell_type": "raw",
   "id": "85bb1aec-3720-4bf6-a07d-56bcb0132d85",
   "metadata": {},
   "source": [
    "Given a string s. In one step you can insert any character at any index of the string.\n",
    "\n",
    "Return the minimum number of steps to make s palindrome.\n",
    "\n",
    "A Palindrome String is one that reads the same backward as well as forward.\n",
    "\n",
    " \n",
    "        \n",
    "        Example 1:\n",
    "        \n",
    "        Input: s = \"zzazz\"\n",
    "        Output: 0\n",
    "        Explanation: The string \"zzazz\" is already palindrome we do not need any insertions.\n",
    "        Example 2:\n",
    "        \n",
    "        Input: s = \"mbadm\"\n",
    "        Output: 2\n",
    "        Explanation: String can be \"mbdadbm\" or \"mdbabdm\".\n",
    "        Example 3:\n",
    "        \n",
    "        Input: s = \"leetcode\"\n",
    "        Output: 5\n",
    "        Explanation: Inserting 5 characters the string becomes \"leetcodocteel\"."
   ]
  },
  {
   "cell_type": "raw",
   "id": "d896d733-480b-40a0-8a7d-53ae65fd6fcc",
   "metadata": {},
   "source": [
    "Approach: DP + Longest Palindromic Subsequence (LPS)\n",
    "Find LPS using LCS of s and s[::-1].\n",
    "Compute:\n",
    "Min insertions=len(s)−LPS\n",
    "\n",
    "⏳ Time Complexity: O(n ^2 )\n",
    "💾 Space Complexity:O(n^2 )"
   ]
  },
  {
   "cell_type": "code",
   "execution_count": 4,
   "id": "c24f39ee-5092-419a-aeee-682c4c69c60b",
   "metadata": {},
   "outputs": [
    {
     "name": "stdout",
     "output_type": "stream",
     "text": [
      "2\n"
     ]
    }
   ],
   "source": [
    "def minInsertions(s):\n",
    "    def lcs(a, b):\n",
    "        m, n = len(a), len(b)\n",
    "        dp = [[0] * (n + 1) for _ in range(m + 1)]\n",
    "        for i in range(1, m + 1):\n",
    "            for j in range(1, n + 1):\n",
    "                if a[i - 1] == b[j - 1]:\n",
    "                    dp[i][j] = 1 + dp[i - 1][j - 1]\n",
    "                else:\n",
    "                    dp[i][j] = max(dp[i - 1][j], dp[i][j - 1])\n",
    "        return dp[m][n]\n",
    "\n",
    "    lps_length = lcs(s, s[::-1])\n",
    "    return len(s) - lps_length\n",
    "\n",
    "s = \"mbadm\"\n",
    "print(minInsertions(s))  # Output: 2"
   ]
  },
  {
   "cell_type": "raw",
   "id": "e638ba99-dc8a-4819-b9e0-1d32a205b24a",
   "metadata": {},
   "source": [
    "            LCS (O(n²) DP) → Base case for many problems.\n",
    "            Uncrossed Lines = LCS for integer arrays.\n",
    "            Min Insertions = len(s) - LPS (Palindrome via LCS trick)."
   ]
  },
  {
   "cell_type": "markdown",
   "id": "40bfdce0-8ac1-4b6c-b637-d34be86ad99a",
   "metadata": {},
   "source": [
    "# Longest String Questions"
   ]
  },
  {
   "cell_type": "markdown",
   "id": "0a0293db-2c86-488d-bd78-f2fdeda14321",
   "metadata": {
    "jp-MarkdownHeadingCollapsed": true
   },
   "source": [
    "## 5. Longest Palindromic Substring M"
   ]
  },
  {
   "cell_type": "markdown",
   "id": "b5f343bb-c0d5-4d50-a9d0-4271df0c9f8d",
   "metadata": {},
   "source": [
    "🔹 Given a string s, find the longest palindromic substring.\n",
    "🔹 A substring is contiguous, meaning characters must be in order.\n",
    "\n",
    "Given a string s, return the longest palindromic substring in s.\n",
    "\n",
    " \n",
    "\n",
    "        Example 1:\n",
    "        \n",
    "        Input: s = \"babad\"\n",
    "        Output: \"bab\"\n",
    "        Explanation: \"aba\" is also a valid answer.\n",
    "        Example 2:\n",
    "        \n",
    "        Input: s = \"cbbd\"\n",
    "        Output: \"bb\"\n",
    "         \n",
    "        \n",
    "        Constraints:\n",
    "        \n",
    "        1 <= s.length <= 1000\n",
    "        s consist of only digits and English letters."
   ]
  },
  {
   "cell_type": "markdown",
   "id": "42cdc58c-0b83-4ad3-be18-897d1433a7ac",
   "metadata": {},
   "source": [
    "- Approach 1: Expand Around Center (Best for Interviews)\n",
    "\n",
    "⏳ Time Complexity: O(N ^2)\n",
    "💾 Space Complexity: O(1)"
   ]
  },
  {
   "cell_type": "code",
   "execution_count": 5,
   "id": "030007a0-a9d7-4165-b269-7c51e386ded7",
   "metadata": {},
   "outputs": [
    {
     "name": "stdout",
     "output_type": "stream",
     "text": [
      "bab\n"
     ]
    }
   ],
   "source": [
    "def longestPalindrome(s):\n",
    "    def expandAroundCenter(left, right):\n",
    "        while left >= 0 and right < len(s) and s[left] == s[right]:\n",
    "            left -= 1\n",
    "            right += 1\n",
    "        return s[left+1:right]  # Get the valid palindrome\n",
    "    \n",
    "    max_palindrome = \"\"\n",
    "    for i in range(len(s)):\n",
    "        # Odd length palindromes\n",
    "        odd_pal = expandAroundCenter(i, i)\n",
    "        # Even length palindromes\n",
    "        even_pal = expandAroundCenter(i, i+1)\n",
    "        # Update max palindrome\n",
    "        max_palindrome = max(max_palindrome, odd_pal, even_pal, key=len)\n",
    "    \n",
    "    return max_palindrome\n",
    "\n",
    "s = \"babad\"\n",
    "print(longestPalindrome(s))  # Output: \"bab\" or \"aba\""
   ]
  },
  {
   "cell_type": "raw",
   "id": "e47f8bc1-0194-4f6c-ad91-f6c1b4de6657",
   "metadata": {},
   "source": [
    "- Approach 2: Dynamic Programming\n",
    "Define dp[i][j] = True if s[i:j+1] is a palindrome.\n",
    "\n",
    "⏳ Time Complexity: O(N^2 )\n",
    "💾 Space Complexity: O(N^2 )"
   ]
  },
  {
   "cell_type": "code",
   "execution_count": 6,
   "id": "8b580b77-90f1-47bb-b987-d50d644d413c",
   "metadata": {},
   "outputs": [
    {
     "name": "stdout",
     "output_type": "stream",
     "text": [
      "bb\n"
     ]
    }
   ],
   "source": [
    "def longestPalindrome(s):\n",
    "    n = len(s)\n",
    "    dp = [[False] * n for _ in range(n)]\n",
    "    start, max_len = 0, 1\n",
    "\n",
    "    for i in range(n):\n",
    "        dp[i][i] = True  # Single letter palindromes\n",
    "    \n",
    "    for length in range(2, n+1):  # Length of substring\n",
    "        for i in range(n - length + 1):\n",
    "            j = i + length - 1\n",
    "            if s[i] == s[j]:\n",
    "                if length == 2 or dp[i+1][j-1]:\n",
    "                    dp[i][j] = True\n",
    "                    if length > max_len:\n",
    "                        start, max_len = i, length\n",
    "\n",
    "    return s[start:start + max_len]\n",
    "\n",
    "s = \"cbbd\"\n",
    "print(longestPalindrome(s))  # Output: \"bb\""
   ]
  },
  {
   "cell_type": "markdown",
   "id": "7aff9b28-ee2a-4a0c-b1da-66d541692c49",
   "metadata": {
    "jp-MarkdownHeadingCollapsed": true
   },
   "source": [
    "## 2. Longest Palindromic Subsequence (LPS)\n",
    "🔹 Unlike substrings, subsequences are non-contiguous.\n",
    "🔹 Find the longest subsequence that is a palindrome."
   ]
  },
  {
   "cell_type": "markdown",
   "id": "a1492836-58e1-462e-81e6-0ecedec81fb8",
   "metadata": {},
   "source": [
    "- Approach: Dynamic Programming\n",
    "\n",
    "        Define dp[i][j] as the LPS length for s[i:j+1].\n",
    "        Transition:\n",
    "                    If s[i] == s[j]:\n",
    "                    dp[i][j]=2+dp[i+1][j−1]\n",
    "                    Else:\n",
    "                    dp[i][j]=max(dp[i+1][j],dp[i][j−1])\n",
    "\n",
    "⏳ Time Complexity: O(N^2 ) 💾 Space Complexity: O(N^2 )"
   ]
  },
  {
   "cell_type": "code",
   "execution_count": 7,
   "id": "284818e1-7494-43dd-92aa-24ef27e7c006",
   "metadata": {},
   "outputs": [
    {
     "name": "stdout",
     "output_type": "stream",
     "text": [
      "4\n"
     ]
    }
   ],
   "source": [
    "def longestPalindromeSubseq(s):\n",
    "    n = len(s)\n",
    "    dp = [[0] * n for _ in range(n)]\n",
    "\n",
    "    for i in range(n):\n",
    "        dp[i][i] = 1  # Single letters are palindromes\n",
    "\n",
    "    for length in range(2, n+1):\n",
    "        for i in range(n - length + 1):\n",
    "            j = i + length - 1\n",
    "            if s[i] == s[j]:\n",
    "                dp[i][j] = 2 + dp[i+1][j-1]\n",
    "            else:\n",
    "                dp[i][j] = max(dp[i+1][j], dp[i][j-1])\n",
    "\n",
    "    return dp[0][n-1]\n",
    "\n",
    "s = \"bbbab\"\n",
    "print(longestPalindromeSubseq(s))  # Output: 4 (\"bbbb\")\n"
   ]
  },
  {
   "cell_type": "markdown",
   "id": "8e5b94cf-5078-4e5a-838e-3b54640312b4",
   "metadata": {
    "jp-MarkdownHeadingCollapsed": true
   },
   "source": [
    "## 139. Word Break M"
   ]
  },
  {
   "cell_type": "markdown",
   "id": "3ae51c1d-707a-45cf-a81b-50b8967474e9",
   "metadata": {},
   "source": [
    "Given a string s and a dictionary of strings wordDict, return true if s can be segmented into a space-separated sequence of one or more dictionary words.\n",
    "\n",
    "Note that the same word in the dictionary may be reused multiple times in the segmentation.\n",
    "\n",
    " \n",
    "\n",
    "                Example 1:\n",
    "                \n",
    "                Input: s = \"leetcode\", wordDict = [\"leet\",\"code\"]\n",
    "                Output: true\n",
    "                Explanation: Return true because \"leetcode\" can be segmented as \"leet code\".\n",
    "                Example 2:\n",
    "                \n",
    "                Input: s = \"applepenapple\", wordDict = [\"apple\",\"pen\"]\n",
    "                Output: true\n",
    "                Explanation: Return true because \"applepenapple\" can be segmented as \"apple pen apple\".\n",
    "                Note that you are allowed to reuse a dictionary word.\n",
    "                Example 3:\n",
    "                \n",
    "                Input: s = \"catsandog\", wordDict = [\"cats\",\"dog\",\"sand\",\"and\",\"cat\"]\n",
    "                Output: false\n",
    "                 \n",
    "                \n",
    "                Constraints:\n",
    "                \n",
    "                1 <= s.length <= 300\n",
    "                1 <= wordDict.length <= 1000\n",
    "                1 <= wordDict[i].length <= 20\n",
    "                s and wordDict[i] consist of only lowercase English letters.\n",
    "                All the strings of wordDict are unique.\n",
    "\n",
    "\n",
    "🔹 Given a string s and a dictionary of words, determine if s can be segmented into words."
   ]
  },
  {
   "cell_type": "raw",
   "id": "38ec6e4f-a283-48e9-94aa-41c21c21ad0d",
   "metadata": {},
   "source": [
    "- Approach: Dynamic Programming\n",
    "\n",
    "Define dp[i] = True if s[:i] can be formed using words in wordDict.\n",
    "\n",
    "⏳ Time Complexity: O(N^2 ) 💾 Space Complexity: O(N)"
   ]
  },
  {
   "cell_type": "code",
   "execution_count": 8,
   "id": "f2a02e5f-479f-46c9-92d9-db0709bf1a76",
   "metadata": {},
   "outputs": [
    {
     "name": "stdout",
     "output_type": "stream",
     "text": [
      "True\n"
     ]
    }
   ],
   "source": [
    "def wordBreak(s, wordDict):\n",
    "    wordSet = set(wordDict)\n",
    "    dp = [False] * (len(s) + 1)\n",
    "    dp[0] = True  # Base case (empty string)\n",
    "\n",
    "    for i in range(1, len(s)+1):\n",
    "        for j in range(i):\n",
    "            if dp[j] and s[j:i] in wordSet:\n",
    "                dp[i] = True\n",
    "                break\n",
    "\n",
    "    return dp[len(s)]\n",
    "\n",
    "s = \"leetcode\"\n",
    "wordDict = [\"leet\", \"code\"]\n",
    "print(wordBreak(s, wordDict))  # Output: True"
   ]
  },
  {
   "cell_type": "markdown",
   "id": "c95ba3d4-50b3-457e-8e8f-106eb341f19c",
   "metadata": {
    "jp-MarkdownHeadingCollapsed": true
   },
   "source": [
    "## 72. Edit Distance M"
   ]
  },
  {
   "cell_type": "markdown",
   "id": "25d435dc-9fdd-458e-9875-31d8d4299e52",
   "metadata": {},
   "source": [
    "Given two strings word1 and word2, return the minimum number of operations required to convert word1 to word2.\n",
    "\n",
    "You have the following three operations permitted on a word:\n",
    "\n",
    "                Insert a character\n",
    "                Delete a character\n",
    "                Replace a character\n",
    "                 \n",
    "                \n",
    "                Example 1:\n",
    "                \n",
    "                Input: word1 = \"horse\", word2 = \"ros\"\n",
    "                Output: 3\n",
    "                Explanation: \n",
    "                horse -> rorse (replace 'h' with 'r')\n",
    "                rorse -> rose (remove 'r')\n",
    "                rose -> ros (remove 'e')\n",
    "                Example 2:\n",
    "                \n",
    "                Input: word1 = \"intention\", word2 = \"execution\"\n",
    "                Output: 5\n",
    "                Explanation: \n",
    "                intention -> inention (remove 't')\n",
    "                inention -> enention (replace 'i' with 'e')\n",
    "                enention -> exention (replace 'n' with 'x')\n",
    "                exention -> exection (replace 'n' with 'c')\n",
    "                exection -> execution (insert 'u')\n",
    "                 \n",
    "                \n",
    "                Constraints:\n",
    "                \n",
    "                0 <= word1.length, word2.length <= 500\n",
    "                word1 and word2 consist of lowercase English letters."
   ]
  },
  {
   "cell_type": "raw",
   "id": "54965338-b26a-4ca1-9186-57a43935171e",
   "metadata": {},
   "source": [
    "-- Approach: Dynamic Programming\n",
    "\n",
    "- State Definition\n",
    "Let dp[i][j] be the minimum operations to convert word1[:i] to word2[:j].\n",
    "\n",
    "- Transition\n",
    "\n",
    "    If word1[i-1] == word2[j-1]:\n",
    "            dp[i][j]=dp[i−1][j−1]\n",
    "    else:\n",
    "            dp[i][j]=1+min(insert,delete,replace)\n",
    "                where:\n",
    "                Insert dp[i][j-1]\n",
    "                Delete dp[i-1][j]\n",
    "                Replace dp[i-1][j-1]\n",
    "\n",
    "\n",
    "⏳ Time Complexity:O(m×n)\n",
    "💾 Space Complexity: O(m×n)  "
   ]
  },
  {
   "cell_type": "code",
   "execution_count": 9,
   "id": "0fb3b8f1-e760-40b2-8c1c-68dad7f5e81e",
   "metadata": {},
   "outputs": [
    {
     "name": "stdout",
     "output_type": "stream",
     "text": [
      "3\n"
     ]
    }
   ],
   "source": [
    "def minDistance(word1, word2):\n",
    "    m, n = len(word1), len(word2)\n",
    "    dp = [[0] * (n + 1) for _ in range(m + 1)]\n",
    "\n",
    "    for i in range(m + 1):\n",
    "        dp[i][0] = i  \n",
    "    for j in range(n + 1):\n",
    "        dp[0][j] = j  \n",
    "\n",
    "    for i in range(1, m + 1):\n",
    "        for j in range(1, n + 1):\n",
    "            if word1[i - 1] == word2[j - 1]:\n",
    "                dp[i][j] = dp[i - 1][j - 1]\n",
    "            else:\n",
    "                dp[i][j] = 1 + min(dp[i - 1][j], dp[i][j - 1], dp[i - 1][j - 1])\n",
    "\n",
    "    return dp[m][n]\n",
    "\n",
    "word1, word2 = \"horse\", \"ros\"\n",
    "print(minDistance(word1, word2))  # Output: 3"
   ]
  },
  {
   "cell_type": "markdown",
   "id": "0a5380a4-d661-4d02-9baa-9eb00ada4f2e",
   "metadata": {
    "jp-MarkdownHeadingCollapsed": true
   },
   "source": [
    "## 115. Distinct Subsequences H"
   ]
  },
  {
   "cell_type": "markdown",
   "id": "a2d29729-89fa-45dc-9069-0fac5e36a946",
   "metadata": {},
   "source": [
    "Given two strings s and t, return the number of distinct subsequences of s which equals t.\n",
    "\n",
    "The test cases are generated so that the answer fits on a 32-bit signed integer.\n",
    "\n",
    " \n",
    "\n",
    "            Example 1:\n",
    "            \n",
    "            Input: s = \"rabbbit\", t = \"rabbit\"\n",
    "            Output: 3\n",
    "            Explanation:\n",
    "            As shown below, there are 3 ways you can generate \"rabbit\" from s.\n",
    "            rabbbit\n",
    "            rabbbit\n",
    "            rabbbit\n",
    "            Example 2:\n",
    "            \n",
    "            Input: s = \"babgbag\", t = \"bag\"\n",
    "            Output: 5\n",
    "            Explanation:\n",
    "            As shown below, there are 5 ways you can generate \"bag\" from s.\n",
    "            babgbag\n",
    "            babgbag\n",
    "            babgbag\n",
    "            babgbag\n",
    "            babgbag\n",
    "             \n",
    "            \n",
    "            Constraints:\n",
    "            \n",
    "            1 <= s.length, t.length <= 1000\n",
    "            s and t consist of English letters."
   ]
  },
  {
   "cell_type": "markdown",
   "id": "9ab87218-6b69-4af0-a94e-2c60909b7c1e",
   "metadata": {},
   "source": [
    "🔹 Given strings s and t, find the number of distinct subsequences of s that equal t.\n",
    "\n",
    "Approach: Dynamic Programming\n",
    "\n",
    "- State Definition\n",
    "Let dp[i][j] be the number of ways to form t[:j] using s[:i].\n",
    "\n",
    "- Transition\n",
    "\n",
    "            If s[i-1] == t[j-1], we can:\n",
    "            Use s[i-1] → dp[i-1][j-1]\n",
    "            Ignore s[i-1] → dp[i-1][j]\n",
    "            If s[i-1] ≠ t[j-1], ignore s[i-1] → dp[i-1][j]\n",
    "\n",
    "⏳ Time Complexity: O(m×n)\n",
    "💾 Space Complexity: O(m×n)"
   ]
  },
  {
   "cell_type": "code",
   "execution_count": 11,
   "id": "70aa56ed-e568-4510-8296-e26c1247a0f2",
   "metadata": {},
   "outputs": [
    {
     "name": "stdout",
     "output_type": "stream",
     "text": [
      "3\n"
     ]
    }
   ],
   "source": [
    "def numDistinct(s, t):\n",
    "    m, n = len(s), len(t)\n",
    "    dp = [[0] * (n + 1) for _ in range(m + 1)]\n",
    "\n",
    "    for i in range(m + 1):\n",
    "        dp[i][0] = 1  # An empty `t` is always a subsequence of `s`\n",
    "\n",
    "    for i in range(1, m + 1):\n",
    "        for j in range(1, n + 1):\n",
    "            if s[i - 1] == t[j - 1]:\n",
    "                dp[i][j] = dp[i - 1][j - 1] + dp[i - 1][j]\n",
    "            else:\n",
    "                dp[i][j] = dp[i - 1][j]\n",
    "\n",
    "    return dp[m][n]\n",
    "\n",
    "s, t = \"rabbbit\", \"rabbit\"\n",
    "print(numDistinct(s, t))  # Output: 3\n"
   ]
  },
  {
   "cell_type": "markdown",
   "id": "1f52ea40-c82f-4f23-8e2e-45e68ca3a22b",
   "metadata": {
    "jp-MarkdownHeadingCollapsed": true
   },
   "source": [
    "## 712. Minimum ASCII Delete Sum for Two Strings M"
   ]
  },
  {
   "cell_type": "markdown",
   "id": "5a18b3b8-c33d-4534-be45-1119e8b71f8b",
   "metadata": {},
   "source": [
    "Given two strings s1 and s2, return the lowest ASCII sum of deleted characters to make two strings equal.\n",
    "\n",
    "            Example 1:\n",
    "            \n",
    "            Input: s1 = \"sea\", s2 = \"eat\"\n",
    "            Output: 231\n",
    "            Explanation: Deleting \"s\" from \"sea\" adds the ASCII value of \"s\" (115) to the sum.\n",
    "            Deleting \"t\" from \"eat\" adds 116 to the sum.\n",
    "            At the end, both strings are equal, and 115 + 116 = 231 is the minimum sum possible to achieve this.\n",
    "            Example 2:\n",
    "            \n",
    "            Input: s1 = \"delete\", s2 = \"leet\"\n",
    "            Output: 403\n",
    "            Explanation: Deleting \"dee\" from \"delete\" to turn the string into \"let\",\n",
    "            adds 100[d] + 101[e] + 101[e] to the sum.\n",
    "            Deleting \"e\" from \"leet\" adds 101[e] to the sum.\n",
    "            At the end, both strings are equal to \"let\", and the answer is 100+101+101+101 = 403.\n",
    "            If instead we turned both strings into \"lee\" or \"eet\", we would get answers of 433 or 417, which are higher.\n",
    "             \n",
    "            \n",
    "            Constraints:\n",
    "            \n",
    "            1 <= s1.length, s2.length <= 1000\n",
    "            s1 and s2 consist of lowercase English letters."
   ]
  },
  {
   "cell_type": "markdown",
   "id": "f25cb001-2a3a-43b2-9ee5-0b04edc52763",
   "metadata": {},
   "source": [
    "🔹 Given s1 and s2, return the minimum ASCII sum of deleted characters to make s1 and s2 equal.\n",
    "\n",
    "- Approach: Dynamic Programming\n",
    "\n",
    "- State Definition\n",
    "Let dp[i][j] be the minimum ASCII delete sum to make s1[:i] equal to s2[:j].\n",
    "\n",
    "- Transition\n",
    "\n",
    "        If s1[i-1] == s2[j-1]:\n",
    "        dp[i][j]=dp[i−1][j−1]\n",
    "        Else:\n",
    "        \n",
    "        dp[i][j]=min(dp[i−1][j]+ord(s1[i−1]),dp[i][j−1]+ord(s2[j−1]))\n",
    "\n",
    "⏳ Time Complexity:O(m×n)\n",
    "💾 Space Complexity: O(m×n)"
   ]
  },
  {
   "cell_type": "code",
   "execution_count": 12,
   "id": "e016e9cc-94e0-49d7-9d50-8403b8c3a9de",
   "metadata": {},
   "outputs": [
    {
     "name": "stdout",
     "output_type": "stream",
     "text": [
      "231\n"
     ]
    }
   ],
   "source": [
    "def minimumDeleteSum(s1, s2):\n",
    "    m, n = len(s1), len(s2)\n",
    "    dp = [[0] * (n + 1) for _ in range(m + 1)]\n",
    "\n",
    "    for i in range(1, m + 1):\n",
    "        dp[i][0] = dp[i - 1][0] + ord(s1[i - 1])\n",
    "    for j in range(1, n + 1):\n",
    "        dp[0][j] = dp[0][j - 1] + ord(s2[j - 1])\n",
    "\n",
    "    for i in range(1, m + 1):\n",
    "        for j in range(1, n + 1):\n",
    "            if s1[i - 1] == s2[j - 1]:\n",
    "                dp[i][j] = dp[i - 1][j - 1]\n",
    "            else:\n",
    "                dp[i][j] = min(dp[i - 1][j] + ord(s1[i - 1]), dp[i][j - 1] + ord(s2[j - 1]))\n",
    "\n",
    "    return dp[m][n]\n",
    "\n",
    "s1, s2 = \"sea\", \"eat\"\n",
    "print(minimumDeleteSum(s1, s2))  # Output: 231\n"
   ]
  },
  {
   "cell_type": "markdown",
   "id": "0cd333e1-ecbe-4134-ada5-0e0f30294c5d",
   "metadata": {},
   "source": [
    "            Edit Distance → Think of insert, delete, replace as transformations.\n",
    "            Distinct Subsequences → Use subsequence counting with DP.\n",
    "            Minimum ASCII Delete Sum → Like LCS, but sum ASCII values instead."
   ]
  },
  {
   "cell_type": "markdown",
   "id": "977b270d-d6bb-4b35-bc64-cd6defe9febb",
   "metadata": {
    "jp-MarkdownHeadingCollapsed": true
   },
   "source": [
    "## 300. Longest Increasing Subsequence M"
   ]
  },
  {
   "cell_type": "markdown",
   "id": "d39e93aa-d0ab-4987-94ea-56b0838c61dc",
   "metadata": {},
   "source": [
    "Given an integer array nums, return the length of the longest strictly increasing subsequence.\n",
    "\n",
    "\n",
    "        Example 1:\n",
    "        \n",
    "        Input: nums = [10,9,2,5,3,7,101,18]\n",
    "        Output: 4\n",
    "        Explanation: The longest increasing subsequence is [2,3,7,101], therefore the length is 4.\n",
    "        Example 2:\n",
    "        \n",
    "        Input: nums = [0,1,0,3,2,3]\n",
    "        Output: 4\n",
    "        Example 3:\n",
    "        \n",
    "        Input: nums = [7,7,7,7,7,7,7]\n",
    "        Output: 1\n",
    "         \n",
    "        \n",
    "        Constraints:\n",
    "        \n",
    "        1 <= nums.length <= 2500\n",
    "        -104 <= nums[i] <= 104"
   ]
  },
  {
   "cell_type": "markdown",
   "id": "066dc6cb-fc0e-4c33-b713-e0d122042572",
   "metadata": {},
   "source": [
    "Approach 1: Dynamic Programming (O(n²))\n",
    "\n",
    "- State Definition\n",
    "Let dp[i] be the length of the LIS ending at nums[i].\n",
    "\n",
    "- Transition\n",
    "\n",
    "dp[i]=1+max(dp[j])for all j<i and nums[j]<nums[i]\n",
    "\n",
    "⏳ Time Complexity: O(N^2 ) 💾 Space Complexity: O(n)"
   ]
  },
  {
   "cell_type": "code",
   "execution_count": 13,
   "id": "136441f2-131b-450c-8045-1661b2ceaf42",
   "metadata": {},
   "outputs": [
    {
     "name": "stdout",
     "output_type": "stream",
     "text": [
      "4\n"
     ]
    }
   ],
   "source": [
    "def lengthOfLIS(nums):\n",
    "    n = len(nums)\n",
    "    dp = [1] * n  # Each number alone is an increasing subsequence\n",
    "\n",
    "    for i in range(n):\n",
    "        for j in range(i):\n",
    "            if nums[j] < nums[i]:\n",
    "                dp[i] = max(dp[i], dp[j] + 1)\n",
    "\n",
    "    return max(dp)\n",
    "\n",
    "nums = [10,9,2,5,3,7,101,18]\n",
    "print(lengthOfLIS(nums))  # Output: 4\n"
   ]
  },
  {
   "cell_type": "markdown",
   "id": "e1c1939f-68c2-496b-b2a7-150e5179b778",
   "metadata": {},
   "source": [
    "- Approach 2: Binary Search + Patience Sorting (O(n log n))\n",
    "\n",
    "        Maintain a subsequence list (not the actual LIS, but helps track increasing values).\n",
    "        Use binary search to replace elements.\n",
    "\n",
    "⏳ Time Complexity: O(nlogn)\n",
    "💾 Space Complexity: O(n)"
   ]
  },
  {
   "cell_type": "code",
   "execution_count": 14,
   "id": "808cccea-8e94-4119-91ff-e0bd49585f03",
   "metadata": {},
   "outputs": [
    {
     "name": "stdout",
     "output_type": "stream",
     "text": [
      "4\n"
     ]
    }
   ],
   "source": [
    "import bisect\n",
    "\n",
    "def lengthOfLIS(nums):\n",
    "    sub = []\n",
    "    for num in nums:\n",
    "        i = bisect.bisect_left(sub, num)  # Find index to replace or extend\n",
    "        if i == len(sub):\n",
    "            sub.append(num)\n",
    "        else:\n",
    "            sub[i] = num  # Replace to maintain increasing order\n",
    "    return len(sub)\n",
    "\n",
    "nums = [10,9,2,5,3,7,101,18]\n",
    "print(lengthOfLIS(nums))  # Output: 4"
   ]
  },
  {
   "cell_type": "markdown",
   "id": "2499f53e-cdb4-478a-9ab7-606d99e5acc6",
   "metadata": {
    "jp-MarkdownHeadingCollapsed": true
   },
   "source": [
    "## 673. Number of Longest Increasing Subsequence M"
   ]
  },
  {
   "cell_type": "markdown",
   "id": "496272cd-488c-44e1-b144-31239a8b5f97",
   "metadata": {},
   "source": [
    "Given an integer array nums, return the number of longest increasing subsequences.\n",
    "\n",
    "Notice that the sequence has to be strictly increasing.\n",
    "            \n",
    "             \n",
    "            \n",
    "            Example 1:\n",
    "            \n",
    "            Input: nums = [1,3,5,4,7]\n",
    "            Output: 2\n",
    "            Explanation: The two longest increasing subsequences are [1, 3, 4, 7] and [1, 3, 5, 7].\n",
    "            Example 2:\n",
    "            \n",
    "            Input: nums = [2,2,2,2,2]\n",
    "            Output: 5\n",
    "            Explanation: The length of the longest increasing subsequence is 1, and there are 5 increasing subsequences of length 1, so output 5.\n",
    "             \n",
    "            \n",
    "            Constraints:\n",
    "            \n",
    "            1 <= nums.length <= 2000\n",
    "            -106 <= nums[i] <= 106\n",
    "            The answer is guaranteed to fit inside a 32-bit integer."
   ]
  },
  {
   "cell_type": "markdown",
   "id": "7dd6ee49-4b20-4180-8d53-40a2edf2b62e",
   "metadata": {},
   "source": [
    "- Approach: DP + Count Array (O(n²))\n",
    "\n",
    "\n",
    "-- State Definition\n",
    "\n",
    "            dp[i] → LIS length ending at nums[i].\n",
    "            count[i] → Ways to achieve dp[i].\n",
    "\n",
    "-- Transition\n",
    "\n",
    "            If nums[j] < nums[i],\n",
    "            If dp[j] + 1 > dp[i], update LIS length & reset count\n",
    "            If dp[j] + 1 == dp[i], increment count\n",
    "\n",
    "⏳ Time Complexity:O(n^2)\n",
    "💾 Space Complexity: O(n)"
   ]
  },
  {
   "cell_type": "code",
   "execution_count": 16,
   "id": "845632c3-bf92-4869-85a2-74368271efc5",
   "metadata": {},
   "outputs": [
    {
     "name": "stdout",
     "output_type": "stream",
     "text": [
      "2\n"
     ]
    }
   ],
   "source": [
    "def findNumberOfLIS(nums):\n",
    "    n = len(nums)\n",
    "    dp = [1] * n  # LIS length\n",
    "    count = [1] * n  # Ways to achieve LIS length\n",
    "\n",
    "    max_len = 1\n",
    "    res = 0\n",
    "\n",
    "    for i in range(n):\n",
    "        for j in range(i):\n",
    "            if nums[j] < nums[i]:\n",
    "                if dp[j] + 1 > dp[i]:\n",
    "                    dp[i] = dp[j] + 1\n",
    "                    count[i] = count[j]  # Reset count\n",
    "                elif dp[j] + 1 == dp[i]:\n",
    "                    count[i] += count[j]  # Increment count\n",
    "\n",
    "        max_len = max(max_len, dp[i])\n",
    "\n",
    "    return sum(count[i] for i in range(n) if dp[i] == max_len)\n",
    "\n",
    "nums = [1,3,5,4,7]\n",
    "print(findNumberOfLIS(nums))  # Output: 2\n"
   ]
  },
  {
   "cell_type": "markdown",
   "id": "1ee5d679-713d-489d-9d86-6159d7a959b1",
   "metadata": {},
   "source": [
    "## 646. Maximum Length of Pair Chain m"
   ]
  },
  {
   "cell_type": "markdown",
   "id": "c2a526b9-8c83-4555-8347-02263f5ff712",
   "metadata": {},
   "source": [
    "You are given an array of n pairs pairs where pairs[i] = [lefti, righti] and lefti < righti.\n",
    "\n",
    "A pair p2 = [c, d] follows a pair p1 = [a, b] if b < c. A chain of pairs can be formed in this fashion.\n",
    "\n",
    "Return the length longest chain which can be formed.\n",
    "\n",
    "You do not need to use up all the given intervals. You can select pairs in any order.\n",
    " \n",
    "\n",
    "        Example 1:\n",
    "        \n",
    "        Input: pairs = [[1,2],[2,3],[3,4]]\n",
    "        Output: 2\n",
    "        Explanation: The longest chain is [1,2] -> [3,4].\n",
    "        Example 2:\n",
    "        \n",
    "        Input: pairs = [[1,2],[7,8],[4,5]]\n",
    "        Output: 3\n",
    "        Explanation: The longest chain is [1,2] -> [4,5] -> [7,8].\n",
    "         \n",
    "        \n",
    "        Constraints:\n",
    "        \n",
    "        n == pairs.length\n",
    "        1 <= n <= 1000\n",
    "        -1000 <= lefti < righti <= 1000"
   ]
  },
  {
   "cell_type": "raw",
   "id": "5deacbfc-0b3b-468c-942a-83bbab8fa23b",
   "metadata": {},
   "source": [
    "🔹 Given pairs [a, b], find the maximum length chain such that for each pair (a, b),\n",
    "b < next pair's a.\n",
    "\n",
    "- Approach 1: Greedy + Sorting (O(n log n))\n",
    "\n",
    "        Sort by second value (b) to maximize chain length.\n",
    "        Greedy choice: Always pick the first valid pair.\n",
    "\n",
    " ⏳ Time Complexity: O(nlogn)\n",
    "💾 Space Complexity: O(1) "
   ]
  },
  {
   "cell_type": "code",
   "execution_count": 18,
   "id": "470ad002-6c53-4001-ba12-d5c81ef66c43",
   "metadata": {},
   "outputs": [
    {
     "name": "stdout",
     "output_type": "stream",
     "text": [
      "2\n"
     ]
    }
   ],
   "source": [
    "def findLongestChain(pairs):\n",
    "    pairs.sort(key=lambda x: x[1])  # Sort by end time\n",
    "    cur_end, chain_len = float('-inf'), 0\n",
    "\n",
    "    for a, b in pairs:\n",
    "        if a > cur_end:\n",
    "            cur_end = b\n",
    "            chain_len += 1\n",
    "\n",
    "    return chain_len\n",
    "\n",
    "pairs = [[1,2], [2,3], [3,4]]\n",
    "print(findLongestChain(pairs))  # Output: 2\n"
   ]
  },
  {
   "cell_type": "markdown",
   "id": "95214b1a-b2fb-4604-8883-9259767dc539",
   "metadata": {},
   "source": [
    "            LIS (O(n²) DP) → Classic DP transition problem.\n",
    "            LIS (O(n log n)) → Use binary search for optimization.\n",
    "            Number of LIS → Add count array to track valid LIS.\n",
    "            Pair Chain → Sort + Greedy for optimal sequence."
   ]
  },
  {
   "cell_type": "markdown",
   "id": "d354c9b8-5c51-4853-8cd8-8fa1a0fbd223",
   "metadata": {},
   "source": [
    "## 1218. Longest Arithmetic Subsequence of Given Difference M"
   ]
  },
  {
   "cell_type": "markdown",
   "id": "5e277e12-33f3-44ff-abaa-aa74cfefd64f",
   "metadata": {},
   "source": [
    "Given an integer array arr and an integer difference, return the length of the longest subsequence in arr which is an arithmetic sequence such that the difference between adjacent elements in the subsequence equals difference.\n",
    "\n",
    "A subsequence is a sequence that can be derived from arr by deleting some or no elements without changing the order of the remaining elements.\n",
    "\n",
    " \n",
    "\n",
    "            Example 1:\n",
    "            \n",
    "            Input: arr = [1,2,3,4], difference = 1\n",
    "            Output: 4\n",
    "            Explanation: The longest arithmetic subsequence is [1,2,3,4].\n",
    "            Example 2:\n",
    "            \n",
    "            Input: arr = [1,3,5,7], difference = 1\n",
    "            Output: 1\n",
    "            Explanation: The longest arithmetic subsequence is any single element.\n",
    "            Example 3:\n",
    "            \n",
    "            Input: arr = [1,5,7,8,5,3,4,2,1], difference = -2\n",
    "            Output: 4\n",
    "            Explanation: The longest arithmetic subsequence is [7,5,3,1].\n",
    "             \n",
    "            \n",
    "            Constraints:\n",
    "            \n",
    "            1 <= arr.length <= 105\n",
    "            -104 <= arr[i], difference <= 104"
   ]
  },
  {
   "cell_type": "markdown",
   "id": "737e02f2-cb2a-4c56-9860-559958fc301c",
   "metadata": {},
   "source": [
    "🔹 Given an array arr and an integer difference, find the length of the longest subsequence where the difference between adjacent elements is exactly difference.\n",
    "\n",
    "Approach: HashMap + DP (O(n))\n",
    "- State Definition:\n",
    "\n",
    "Let dp[x] be the length of the longest arithmetic subsequence ending at x.\n",
    "\n",
    "- Transition:\n",
    "\n",
    "    If x - difference exists in dp, \n",
    "        then:\n",
    "        dp[x]=dp[x−difference]+1\n",
    "        Else:\n",
    "        dp[x]=1\n",
    "\n",
    "⏳ Time Complexity:O(n)\n",
    "💾 Space Complexity: O(n)"
   ]
  },
  {
   "cell_type": "code",
   "execution_count": 19,
   "id": "b986acb1-440e-404a-ba58-a64609040815",
   "metadata": {},
   "outputs": [
    {
     "name": "stdout",
     "output_type": "stream",
     "text": [
      "2\n"
     ]
    }
   ],
   "source": [
    "def longestSubsequence(arr, difference):\n",
    "    dp = {}  # Stores length of longest subsequence ending at value `x`\n",
    "    max_length = 0\n",
    "\n",
    "    for x in arr:\n",
    "        dp[x] = dp.get(x - difference, 0) + 1\n",
    "        max_length = max(max_length, dp[x])\n",
    "\n",
    "    return max_length\n",
    "\n",
    "arr = [1,5,7,8,5,3,4,2,1]\n",
    "difference = 2\n",
    "print(longestSubsequence(arr, difference))  # Output: 4\n"
   ]
  },
  {
   "cell_type": "markdown",
   "id": "60345b7c-5717-45d7-8b64-5375c19160ca",
   "metadata": {},
   "source": [
    "## 1027. Longest Arithmetic Subsequence"
   ]
  },
  {
   "cell_type": "markdown",
   "id": "7c376dc8-f849-4d3d-b4ad-b6f456f08b16",
   "metadata": {},
   "source": [
    "Given an array nums of integers, return the length of the longest arithmetic subsequence in nums.\n",
    "\n",
    "Note that:\n",
    "\n",
    "A subsequence is an array that can be derived from another array by deleting some or no elements without changing the order of the remaining elements.\n",
    "A sequence seq is arithmetic if seq[i + 1] - seq[i] are all the same value (for 0 <= i < seq.length - 1).\n",
    " \n",
    "\n",
    "        Example 1:\n",
    "        \n",
    "        Input: nums = [3,6,9,12]\n",
    "        Output: 4\n",
    "        Explanation:  The whole array is an arithmetic sequence with steps of length = 3.\n",
    "        Example 2:\n",
    "        \n",
    "        Input: nums = [9,4,7,2,10]\n",
    "        Output: 3\n",
    "        Explanation:  The longest arithmetic subsequence is [4,7,10].\n",
    "        Example 3:\n",
    "        \n",
    "        Input: nums = [20,1,15,3,10,5,8]\n",
    "        Output: 4\n",
    "        Explanation:  The longest arithmetic subsequence is [20,15,10,5].\n",
    "         \n",
    "        \n",
    "        Constraints:\n",
    "        \n",
    "        2 <= nums.length <= 1000\n",
    "        0 <= nums[i] <= 500"
   ]
  },
  {
   "cell_type": "markdown",
   "id": "16cfe30e-2960-4321-83e5-9c25098d60a7",
   "metadata": {},
   "source": [
    "🔹 Given an array nums, find the length of the longest arithmetic subsequence.\n",
    "\n",
    "Approach: DP + HashMap (O(n²))\n",
    "\n",
    "- State Definition:\n",
    "\n",
    "            Let dp[i][d] store the length of an arithmetic subsequence ending at index i with difference d.\n",
    "\n",
    "- Transition:\n",
    "\n",
    "            If nums[i] - nums[j] = d, then:\n",
    "            \n",
    "            dp[i][d]=dp[j][d]+1\n",
    "\n",
    "\n",
    "⏳ Time Complexity: O(n^2)\n",
    "💾 Space Complexity: O(n^2)"
   ]
  },
  {
   "cell_type": "code",
   "execution_count": 20,
   "id": "88a95ed3-28f1-4b43-8e71-eb1e2cfefe09",
   "metadata": {},
   "outputs": [
    {
     "name": "stdout",
     "output_type": "stream",
     "text": [
      "3\n"
     ]
    }
   ],
   "source": [
    "from collections import defaultdict\n",
    "\n",
    "def longestArithSeqLength(nums):\n",
    "    dp = defaultdict(lambda: defaultdict(int))\n",
    "    max_length = 2  # Min length of any arithmetic sequence\n",
    "\n",
    "    for i in range(len(nums)):\n",
    "        for j in range(i):\n",
    "            d = nums[i] - nums[j]\n",
    "            dp[i][d] = dp[j][d] + 1\n",
    "            max_length = max(max_length, dp[i][d])\n",
    "\n",
    "    return max_length\n",
    "\n",
    "nums = [3,6,9,12]\n",
    "print(longestArithSeqLength(nums))  # Output: 4\n"
   ]
  },
  {
   "cell_type": "code",
   "execution_count": 21,
   "id": "84fc373f-02de-452d-aaa6-774fed10d051",
   "metadata": {},
   "outputs": [
    {
     "name": "stdout",
     "output_type": "stream",
     "text": [
      "4\n"
     ]
    }
   ],
   "source": [
    "from collections import defaultdict\n",
    "\n",
    "def longestArithSeqLength(nums):\n",
    "    n = len(nums)\n",
    "    if n <= 1:\n",
    "        return n\n",
    "\n",
    "    dp = [defaultdict(int) for _ in range(n)]\n",
    "    max_length = 2  # Minimum length of an arithmetic sequence is 2\n",
    "\n",
    "    for i in range(n):\n",
    "        for j in range(i):\n",
    "            diff = nums[i] - nums[j]\n",
    "            dp[i][diff] = dp[j][diff] + 1 if diff in dp[j] else 2\n",
    "            max_length = max(max_length, dp[i][diff])\n",
    "\n",
    "    return max_length\n",
    "\n",
    "# Example usage\n",
    "nums = [3, 6, 9, 12]\n",
    "print(longestArithSeqLength(nums))  # Output: 4\n"
   ]
  },
  {
   "cell_type": "code",
   "execution_count": 22,
   "id": "a4e7eeec-5614-405a-af85-c1a1a23de8f3",
   "metadata": {},
   "outputs": [
    {
     "name": "stdout",
     "output_type": "stream",
     "text": [
      "4\n"
     ]
    }
   ],
   "source": [
    "def longestArithSeqLengthDPTable(nums):\n",
    "    n = len(nums)\n",
    "    if n <= 1:\n",
    "        return n\n",
    "\n",
    "    dp = [[1] * 1001 for _ in range(n)]  # 1001 covers possible differences\n",
    "    max_length = 2\n",
    "\n",
    "    for i in range(n):\n",
    "        for j in range(i):\n",
    "            diff = nums[i] - nums[j] + 500  # Shift diff to be positive\n",
    "            dp[i][diff] = max(dp[i][diff], dp[j][diff] + 1)\n",
    "            max_length = max(max_length, dp[i][diff])\n",
    "\n",
    "    return max_length\n",
    "\n",
    "# Example usage\n",
    "nums = [3, 6, 9, 12]\n",
    "print(longestArithSeqLengthDPTable(nums))  # Output: 4\n"
   ]
  },
  {
   "cell_type": "code",
   "execution_count": 23,
   "id": "6ee1ebf2-3e89-49d7-a1e0-540f92b1e7f3",
   "metadata": {},
   "outputs": [
    {
     "name": "stdout",
     "output_type": "stream",
     "text": [
      "4\n"
     ]
    }
   ],
   "source": [
    "def longestArithSeqLengthBruteForce(nums):\n",
    "    n = len(nums)\n",
    "    max_length = 0\n",
    "\n",
    "    def dfs(index, diff, count):\n",
    "        nonlocal max_length\n",
    "        max_length = max(max_length, count)\n",
    "        for i in range(index + 1, n):\n",
    "            if nums[i] - nums[index] == diff:\n",
    "                dfs(i, diff, count + 1)\n",
    "\n",
    "    for i in range(n):\n",
    "        for j in range(i + 1, n):\n",
    "            dfs(j, nums[j] - nums[i], 2)  # Start with two elements\n",
    "\n",
    "    return max_length\n",
    "\n",
    "# Example usage\n",
    "nums = [3, 6, 9, 12]\n",
    "print(longestArithSeqLengthBruteForce(nums))  # Output: 4\n"
   ]
  },
  {
   "cell_type": "markdown",
   "id": "fbb242f0-e380-4239-bfcf-e24c73a46206",
   "metadata": {},
   "source": [
    "## 354. Russian Doll Envelopes H"
   ]
  },
  {
   "cell_type": "markdown",
   "id": "a1df2eaa-8b54-43e2-a386-e60d6a33bf28",
   "metadata": {},
   "source": [
    "You are given a 2D array of integers envelopes where envelopes[i] = [wi, hi] represents the width and the height of an envelope.\n",
    "\n",
    "One envelope can fit into another if and only if both the width and height of one envelope are greater than the other envelope's width and height.\n",
    "\n",
    "Return the maximum number of envelopes you can Russian doll (i.e., put one inside the other).\n",
    "\n",
    "Note: You cannot rotate an envelope.\n",
    "\n",
    "\n",
    "            Example 1:\n",
    "            \n",
    "            Input: envelopes = [[5,4],[6,4],[6,7],[2,3]]\n",
    "            Output: 3\n",
    "            Explanation: The maximum number of envelopes you can Russian doll is 3 ([2,3] => [5,4] => [6,7]).\n",
    "            Example 2:\n",
    "            \n",
    "            Input: envelopes = [[1,1],[1,1],[1,1]]\n",
    "            Output: 1\n",
    "             \n",
    "            \n",
    "            Constraints:\n",
    "            \n",
    "            1 <= envelopes.length <= 105\n",
    "            envelopes[i].length == 2\n",
    "            1 <= wi, hi <= 105"
   ]
  },
  {
   "cell_type": "raw",
   "id": "03dc4889-cb58-4463-8f4b-58f3ef8fe2a3",
   "metadata": {},
   "source": [
    "🔹 Given envelopes [width, height], find max number of envelopes you can nest.\n",
    "\n",
    "Approach: Sorting + Longest Increasing Subsequence (LIS) (O(n log n))\n",
    "Sort envelopes by increasing width, and decreasing height if width is the same.\n",
    "Find LIS on height.\n",
    "\n",
    "⏳ Time Complexity: O(nlogn)\n",
    "💾 Space Complexity: O(n)"
   ]
  },
  {
   "cell_type": "code",
   "execution_count": 24,
   "id": "e9882d70-da10-49c5-b58b-ab0e38835791",
   "metadata": {},
   "outputs": [
    {
     "name": "stdout",
     "output_type": "stream",
     "text": [
      "3\n"
     ]
    }
   ],
   "source": [
    "import bisect\n",
    "\n",
    "def maxEnvelopes(envelopes):\n",
    "    envelopes.sort(key=lambda x: (x[0], -x[1]))  # Sort by width, then height decreasing\n",
    "    heights = [h for _, h in envelopes]\n",
    "\n",
    "    # Find LIS in heights\n",
    "    sub = []\n",
    "    for h in heights:\n",
    "        i = bisect.bisect_left(sub, h)\n",
    "        if i == len(sub):\n",
    "            sub.append(h)\n",
    "        else:\n",
    "            sub[i] = h\n",
    "\n",
    "    return len(sub)\n",
    "\n",
    "envelopes = [[5,4],[6,4],[6,7],[2,3]]\n",
    "print(maxEnvelopes(envelopes))  # Output: 3"
   ]
  },
  {
   "cell_type": "markdown",
   "id": "e87a381d-6ada-4fa0-bb23-b25a8c443ef7",
   "metadata": {},
   "source": [
    "## 1964. Find the Longest Valid Obstacle Course at Each Position"
   ]
  },
  {
   "cell_type": "raw",
   "id": "b3f32f2d-a961-49f1-9969-29084fb90bda",
   "metadata": {},
   "source": [
    "You want to build some obstacle courses. You are given a 0-indexed integer array obstacles of length n, where obstacles[i] describes the height of the ith obstacle.\n",
    "\n",
    "For every index i between 0 and n - 1 (inclusive), find the length of the longest obstacle course in obstacles such that:\n",
    "\n",
    "You choose any number of obstacles between 0 and i inclusive.\n",
    "You must include the ith obstacle in the course.\n",
    "You must put the chosen obstacles in the same order as they appear in obstacles.\n",
    "Every obstacle (except the first) is taller than or the same height as the obstacle immediately before it.\n",
    "Return an array ans of length n, where ans[i] is the length of the longest obstacle course for index i as described above.\n",
    "\n",
    " \n",
    "\n",
    "            Example 1:\n",
    "            \n",
    "            Input: obstacles = [1,2,3,2]\n",
    "            Output: [1,2,3,3]\n",
    "            Explanation: The longest valid obstacle course at each position is:\n",
    "            - i = 0: [1], [1] has length 1.\n",
    "            - i = 1: [1,2], [1,2] has length 2.\n",
    "            - i = 2: [1,2,3], [1,2,3] has length 3.\n",
    "            - i = 3: [1,2,3,2], [1,2,2] has length 3.\n",
    "            Example 2:\n",
    "            \n",
    "            Input: obstacles = [2,2,1]\n",
    "            Output: [1,2,1]\n",
    "            Explanation: The longest valid obstacle course at each position is:\n",
    "            - i = 0: [2], [2] has length 1.\n",
    "            - i = 1: [2,2], [2,2] has length 2.\n",
    "            - i = 2: [2,2,1], [1] has length 1.\n",
    "            Example 3:\n",
    "            \n",
    "            Input: obstacles = [3,1,5,6,4,2]\n",
    "            Output: [1,1,2,3,2,2]\n",
    "            Explanation: The longest valid obstacle course at each position is:\n",
    "            - i = 0: [3], [3] has length 1.\n",
    "            - i = 1: [3,1], [1] has length 1.\n",
    "            - i = 2: [3,1,5], [3,5] has length 2. [1,5] is also valid.\n",
    "            - i = 3: [3,1,5,6], [3,5,6] has length 3. [1,5,6] is also valid.\n",
    "            - i = 4: [3,1,5,6,4], [3,4] has length 2. [1,4] is also valid.\n",
    "            - i = 5: [3,1,5,6,4,2], [1,2] has length 2.\n",
    "             \n",
    "            \n",
    "            Constraints:\n",
    "            \n",
    "            n == obstacles.length\n",
    "            1 <= n <= 105\n",
    "            1 <= obstacles[i] <= 107"
   ]
  },
  {
   "cell_type": "raw",
   "id": "f9fdfb9a-c376-4259-b682-f831d1882b70",
   "metadata": {},
   "source": [
    "🔹 Given obstacles[i], return an array where answer[i] is the longest valid obstacle course ending at i.\n",
    "\n",
    "            Approach: Binary Search + LIS Variation (O(n log n))\n",
    "            Maintain a subsequence that stores increasing elements.\n",
    "            Use bisect_right to find the longest subsequence we can extend.\n",
    "\n",
    "⏳ Time Complexity: O(nlogn)\n",
    "💾 Space Complexity: O(n)"
   ]
  },
  {
   "cell_type": "code",
   "execution_count": 25,
   "id": "03f1998f-f773-4e08-9e1c-69309ba988fb",
   "metadata": {},
   "outputs": [
    {
     "name": "stdout",
     "output_type": "stream",
     "text": [
      "[1, 2, 3, 3, 2, 4, 3]\n"
     ]
    }
   ],
   "source": [
    "import bisect\n",
    "\n",
    "def longestObstacleCourseAtEachPosition(obstacles):\n",
    "    sub = []\n",
    "    res = []\n",
    "\n",
    "    for obs in obstacles:\n",
    "        i = bisect.bisect_right(sub, obs)  # Find the index to place obs\n",
    "        if i == len(sub):\n",
    "            sub.append(obs)\n",
    "        else:\n",
    "            sub[i] = obs\n",
    "        res.append(i + 1)\n",
    "\n",
    "    return res\n",
    "\n",
    "obstacles = [1,2,3,2,1,5,1]\n",
    "print(longestObstacleCourseAtEachPosition(obstacles))  # Output: [1,2,3,3,2,4,2]\n"
   ]
  },
  {
   "cell_type": "markdown",
   "id": "d7a57a0f-5042-4eed-90f7-0940a69d7ab7",
   "metadata": {},
   "source": [
    "        HashMap + DP (O(n)) → Arithmetic Subsequence with Given Difference.\n",
    "        2D DP (O(n²)) → General Longest Arithmetic Subsequence.\n",
    "        Sorting + LIS (O(n log n)) → Russian Doll Envelopes.\n",
    "        Binary Search + LIS Variation (O(n log n)) → Obstacle Course."
   ]
  },
  {
   "cell_type": "markdown",
   "id": "f6b2105e-d8b3-403c-b02f-adb83dc04974",
   "metadata": {},
   "source": [
    "# Count Based"
   ]
  },
  {
   "cell_type": "code",
   "execution_count": null,
   "id": "939c84f2-123c-4a0b-9cdb-9c5565a1adb4",
   "metadata": {},
   "outputs": [],
   "source": []
  },
  {
   "cell_type": "markdown",
   "id": "12796db1-efed-4ad5-b0e2-50f788f5105a",
   "metadata": {},
   "source": [
    "##  91. Decode Ways"
   ]
  },
  {
   "cell_type": "raw",
   "id": "56a6de46-bc8a-4dd0-9b02-8be4ff5e682d",
   "metadata": {},
   "source": [
    "You have intercepted a secret message encoded as a string of numbers. The message is decoded via the following mapping:\n",
    "\n",
    "\"1\" -> 'A'\n",
    "\n",
    "\"2\" -> 'B'\n",
    "\n",
    "...\n",
    "\n",
    "\"25\" -> 'Y'\n",
    "\n",
    "\"26\" -> 'Z'\n",
    "\n",
    "However, while decoding the message, you realize that there are many different ways you can decode the message because some codes are contained in other codes (\"2\" and \"5\" vs \"25\").\n",
    "\n",
    "For example, \"11106\" can be decoded into:\n",
    "\n",
    "\"AAJF\" with the grouping (1, 1, 10, 6)\n",
    "\"KJF\" with the grouping (11, 10, 6)\n",
    "The grouping (1, 11, 06) is invalid because \"06\" is not a valid code (only \"6\" is valid).\n",
    "Note: there may be strings that are impossible to decode.\n",
    "\n",
    "Given a string s containing only digits, return the number of ways to decode it. If the entire string cannot be decoded in any valid way, return 0.\n",
    "\n",
    "The test cases are generated so that the answer fits in a 32-bit integer.\n",
    "\n",
    " \n",
    "\n",
    "                    Example 1:\n",
    "                    \n",
    "                    Input: s = \"12\"\n",
    "                    \n",
    "                    Output: 2\n",
    "                    \n",
    "                    Explanation:\n",
    "                    \n",
    "                    \"12\" could be decoded as \"AB\" (1 2) or \"L\" (12).\n",
    "                    \n",
    "                    Example 2:\n",
    "                    \n",
    "                    Input: s = \"226\"\n",
    "                    \n",
    "                    Output: 3\n",
    "                    \n",
    "                    Explanation:\n",
    "                    \n",
    "                    \"226\" could be decoded as \"BZ\" (2 26), \"VF\" (22 6), or \"BBF\" (2 2 6).\n",
    "                    \n",
    "                    Example 3:\n",
    "                    \n",
    "                    Input: s = \"06\"\n",
    "                    \n",
    "                    Output: 0\n",
    "                    \n",
    "                    Explanation:\n",
    "                    \n",
    "                    \"06\" cannot be mapped to \"F\" because of the leading zero (\"6\" is different from \"06\"). In this case, the string is not a valid encoding, so return 0.\n",
    "                    \n",
    "                     \n",
    "                    \n",
    "                    Constraints:\n",
    "                    \n",
    "                    1 <= s.length <= 100\n",
    "                    s contains only digits and may contain leading zero(s)."
   ]
  },
  {
   "cell_type": "raw",
   "id": "b92fe5b1-3bb0-44f7-90ff-90c6c2b0b98c",
   "metadata": {},
   "source": [
    "1. Decode Ways (Classic DP String Problem)\n",
    "🔹 Problem: Given a string s containing digits, return the number of ways to decode it (like A-Z mappings: 1 -> A, 2 -> B, ..., 26 -> Z).\n",
    "\n",
    "        Approach: Dynamic Programming (Bottom-Up)\n",
    "        State Definition:\n",
    "        \n",
    "        dp[i] → Number of ways to decode the string up to index i.\n",
    "        Transition:\n",
    "        \n",
    "        If s[i] is a valid digit (1-9), inherit dp[i-1] (single character decode).\n",
    "        If s[i-1:i] forms a valid number (10-26), add dp[i-2] (two-character decode).\n",
    "        Base Case:\n",
    "        \n",
    "        dp[0] = 1 (Empty string has 1 way).\n",
    "        If s[0] == '0', return 0 (invalid start)."
   ]
  },
  {
   "cell_type": "code",
   "execution_count": 26,
   "id": "92bd652e-49d0-4658-99c6-e5f76d3eccff",
   "metadata": {},
   "outputs": [
    {
     "name": "stdout",
     "output_type": "stream",
     "text": [
      "3\n"
     ]
    }
   ],
   "source": [
    "def numDecodings(s):\n",
    "    if not s or s[0] == '0': return 0\n",
    "    n = len(s)\n",
    "    dp = [0] * (n + 1)\n",
    "    dp[0], dp[1] = 1, 1  \n",
    "\n",
    "    for i in range(2, n + 1):\n",
    "        one_digit = int(s[i-1])\n",
    "        two_digit = int(s[i-2:i])\n",
    "\n",
    "        if 1 <= one_digit <= 9:\n",
    "            dp[i] += dp[i - 1]\n",
    "        if 10 <= two_digit <= 26:\n",
    "            dp[i] += dp[i - 2]\n",
    "\n",
    "    return dp[n]\n",
    "\n",
    "print(numDecodings(\"226\"))  # Output: 3 (\"BZ\", \"VF\", \"BBF\")"
   ]
  },
  {
   "cell_type": "raw",
   "id": "7b087e18-a6a2-4791-a13b-dfcb6e60b0a4",
   "metadata": {},
   "source": [
    "⏳ Time Complexity: O(n) 💾 Space Complexity: O(n) (can be reduced to O(1) using two variables)"
   ]
  },
  {
   "cell_type": "code",
   "execution_count": null,
   "id": "774ffcd3-f282-43b9-af9c-41abe7f074ed",
   "metadata": {},
   "outputs": [],
   "source": []
  }
 ],
 "metadata": {
  "kernelspec": {
   "display_name": "Python 3 (ipykernel)",
   "language": "python",
   "name": "python3"
  },
  "language_info": {
   "codemirror_mode": {
    "name": "ipython",
    "version": 3
   },
   "file_extension": ".py",
   "mimetype": "text/x-python",
   "name": "python",
   "nbconvert_exporter": "python",
   "pygments_lexer": "ipython3",
   "version": "3.12.7"
  }
 },
 "nbformat": 4,
 "nbformat_minor": 5
}
