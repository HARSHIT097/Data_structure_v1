{
 "cells": [
  {
   "cell_type": "code",
   "execution_count": 1,
   "id": "b9bed253-5230-4422-a795-73a4da60525d",
   "metadata": {},
   "outputs": [],
   "source": [
    "# 44. DP with Bitmasking (TSP, Assignments, Matching)\n",
    "# ✔ Problems: Traveling Salesman, Assignments, Matching Problems\n",
    "def traveling_salesman(n, dist):\n",
    "    @lru_cache(None)\n",
    "    def dp(mask, i):\n",
    "        if mask == (1 << n) - 1:  # All cities visited\n",
    "            return dist[i][0]  # Return to start\n",
    "\n",
    "        result = float('inf')\n",
    "        for j in range(n):\n",
    "            if mask & (1 << j) == 0:  # Not visited\n",
    "                result = min(result, dist[i][j] + dp(mask | (1 << j), j))\n",
    "\n",
    "        return result\n",
    "\n",
    "    return dp(1, 0)  # Start from city 0 with only it visited\n"
   ]
  },
  {
   "cell_type": "raw",
   "id": "08c58d10-ba11-4bf3-a488-efc4addd5a41",
   "metadata": {},
   "source": [
    "0/1 Knapsack Problem → Given weights and values, maximize value without exceeding weight.\n",
    "Solution: Use *Knapsack DP."
   ]
  },
  {
   "cell_type": "markdown",
   "id": "453dd2cd-2fd5-471b-b021-12f5a2505ecc",
   "metadata": {},
   "source": [
    "# DP + Bitmask"
   ]
  },
  {
   "cell_type": "raw",
   "id": "289fdf4a-e89b-45a1-901d-0995c0799bdd",
   "metadata": {},
   "source": [
    "The number of \"items to assign\" (like people or tasks) is small (typically n <= 15).\n",
    "\n",
    "You need to assign a subset in all possible ways under constraints."
   ]
  },
  {
   "cell_type": "markdown",
   "id": "a59454ab-22a0-45e6-bc47-d702c2917c9d",
   "metadata": {},
   "source": [
    "## ✅ Problem: Hat Assignment (LeetCode 1434 - Number of Ways to Wear Different Hats to Each Other)"
   ]
  },
  {
   "cell_type": "raw",
   "id": "d60bbde5-2694-43e6-9221-e7043b034312",
   "metadata": {},
   "source": [
    "👇 You're given:\n",
    "n people (n <= 10)\n",
    "\n",
    "Each person has a list of hats they like (from hat 1 to 40).\n",
    "\n",
    "Each person must wear exactly one unique hat, no two persons wear the same hat.\n",
    "\n",
    "🧠 Goal:\n",
    "Count the number of valid assignments of hats to people such that:\n",
    "\n",
    "Each person gets exactly one hat from their preference list.\n",
    "\n",
    "No hat is reused.\n",
    "\n",
    "Return count modulo 1e9 + 7.\n",
    "\n",
    "🔍 Core Idea\n",
    "Use a bitmask to represent which people have been assigned hats.\n",
    "\n",
    "Iterate over hats (1 to 40), and for each hat, try to assign it to any preferred person not yet assigned.\n",
    "\n",
    "Use memoization to avoid recomputation: dp[mask][hat_id]."
   ]
  },
  {
   "cell_type": "code",
   "execution_count": 2,
   "id": "bba68399-8347-47c5-86e9-747f4bf5097d",
   "metadata": {},
   "outputs": [],
   "source": [
    "from functools import lru_cache\n",
    "MOD = 10**9 + 7\n",
    "\n",
    "def numberWays(hats):\n",
    "    n = len(hats)\n",
    "    # Build mapping: hat -> list of people who like it\n",
    "    hat_to_people = [[] for _ in range(41)]\n",
    "    for person in range(n):\n",
    "        for hat in hats[person]:\n",
    "            hat_to_people[hat].append(person)\n",
    "\n",
    "    FULL_MASK = (1 << n) - 1  # all people assigned\n",
    "\n",
    "    @lru_cache(maxsize=None)\n",
    "    def dp(mask, hat):\n",
    "        if mask == FULL_MASK:\n",
    "            return 1  # all people got hats\n",
    "        if hat > 40:\n",
    "            return 0  # no more hats left\n",
    "\n",
    "        # Option 1: skip current hat\n",
    "        total = dp(mask, hat + 1)\n",
    "\n",
    "        # Option 2: try assigning hat to any unassigned person who likes it\n",
    "        for person in hat_to_people[hat]:\n",
    "            if not (mask & (1 << person)):  # person not yet assigned\n",
    "                total += dp(mask | (1 << person), hat + 1)\n",
    "                total %= MOD\n",
    "\n",
    "        return total\n",
    "\n",
    "    return dp(0, 1)"
   ]
  },
  {
   "cell_type": "code",
   "execution_count": 3,
   "id": "c7348542-cad4-430d-af4d-8f31f9e804a9",
   "metadata": {},
   "outputs": [
    {
     "name": "stdout",
     "output_type": "stream",
     "text": [
      "Number of valid hat assignments: 1\n"
     ]
    }
   ],
   "source": [
    "hats = [\n",
    "    [3, 4],\n",
    "    [4, 5],\n",
    "    [5]\n",
    "]\n",
    "\n",
    "print(\"Number of valid hat assignments:\", numberWays(hats))"
   ]
  },
  {
   "cell_type": "raw",
   "id": "fe1d6337-a02c-46c2-864c-69a2dad4e9b2",
   "metadata": {},
   "source": [
    "💡 Time Complexity\n",
    "States: 2^n masks × 40 hats = ~1M for n = 10\n",
    "\n",
    "Each state does at most 10 operations (for hat_to_people)\n",
    "\n",
    "Efficient for n ≤ 10"
   ]
  },
  {
   "cell_type": "markdown",
   "id": "34fa2f82-5526-42dc-a11a-a8633cff09f1",
   "metadata": {},
   "source": [
    "🧩 Similar Problems You Can Solve with Bitmask + DP\n",
    "\n",
    "| Problem                                   | Description                                         |\n",
    "| ----------------------------------------- | --------------------------------------------------- |\n",
    "| ✅ **Traveling Salesman Problem**          | Classic bitmask DP with city subsets                |\n",
    "| ✅ **Minimum Cost to Assign Tasks**        | Like TSP but with person-task matrix                |\n",
    "| ✅ **Maximum Students Taking Exam**        | Place students in seats under adjacency constraints |\n",
    "| ✅ **Find the Shortest Superstring**       | Merge strings with max overlap using bitmask        |\n",
    "| ✅ **Minimum Work Sessions**               | Task assignment under session limits                |\n",
    "| ✅ **Perfect Matching in Bipartite Graph** | Count all valid matchings with bitmask              |\n",
    "| ✅ **Assignment Problem (Hungarian)**      | Can be solved with DP + bitmask for small `n`       |\n"
   ]
  },
  {
   "cell_type": "markdown",
   "id": "f4196102-e266-4225-9822-262cb81e67a1",
   "metadata": {},
   "source": [
    "# Digit DP problem \n",
    "\n",
    "— a powerful technique for solving digit-based constraints (like digit counts, leading zeros, no adjacent digits, etc.) within a range like [a, b]."
   ]
  },
  {
   "cell_type": "markdown",
   "id": "3c22d56c-692d-4934-b31d-e7a70eba08c3",
   "metadata": {},
   "source": [
    "## ✅ Problem Summary Given integers a, b, d, and k, find how many integers x in [a, b] have exactly k occurrences of digit d."
   ]
  },
  {
   "cell_type": "raw",
   "id": "0f535b5f-462f-42ad-b2a0-53f7826a4471",
   "metadata": {},
   "source": [
    "✅ We’ll build a digit DP with 3 states:\n",
    "\n",
    "pos: current digit index\n",
    "\n",
    "cnt: how many times we've used digit d so far\n",
    "\n",
    "tight: whether current prefix is still equal to the upper bound\n",
    "\n",
    "🧠 Recurrence:\n",
    "\n",
    "            if cnt > k: return 0\n",
    "            if pos == len(num):\n",
    "                return 1 if cnt == k else 0"
   ]
  },
  {
   "cell_type": "code",
   "execution_count": 4,
   "id": "f3074424-c7ad-4e3c-9bef-b620dea7f36a",
   "metadata": {},
   "outputs": [],
   "source": [
    "from functools import lru_cache\n",
    "\n",
    "def count_numbers_with_k_d_digits(n, d, k):\n",
    "    digits = list(map(int, str(n)))\n",
    "\n",
    "    @lru_cache(maxsize=None)\n",
    "    def dfs(pos, cnt, tight):\n",
    "        if cnt > k:\n",
    "            return 0\n",
    "        if pos == len(digits):\n",
    "            return 1 if cnt == k else 0\n",
    "\n",
    "        res = 0\n",
    "        limit = digits[pos] if tight else 9\n",
    "\n",
    "        for dig in range(0, limit + 1):\n",
    "            new_tight = tight and (dig == limit)\n",
    "            new_cnt = cnt + (1 if dig == d else 0)\n",
    "            res += dfs(pos + 1, new_cnt, new_tight)\n",
    "\n",
    "        return res\n",
    "\n",
    "    return dfs(0, 0, True)"
   ]
  },
  {
   "cell_type": "code",
   "execution_count": 5,
   "id": "d8abc8bc-dd74-4667-9a8e-c9e8f8d5cbbc",
   "metadata": {},
   "outputs": [],
   "source": [
    "def count_in_range(a, b, d, k):\n",
    "    return count_numbers_with_k_d_digits(b, d, k) - count_numbers_with_k_d_digits(a - 1, d, k)\n"
   ]
  },
  {
   "cell_type": "code",
   "execution_count": 6,
   "id": "1921e65e-1f9d-4ef8-b7af-9288dd1d4c68",
   "metadata": {},
   "outputs": [
    {
     "name": "stdout",
     "output_type": "stream",
     "text": [
      "Answer: 18\n"
     ]
    }
   ],
   "source": [
    "a = 100\n",
    "b = 200\n",
    "d = 1\n",
    "k = 2\n",
    "\n",
    "print(\"Answer:\", count_in_range(a, b, d, k))"
   ]
  },
  {
   "cell_type": "markdown",
   "id": "e27f1272-0b0c-4535-ab0d-35c6f622dc9d",
   "metadata": {},
   "source": [
    "🧩 Similar Digit DP Problems (Same Pattern)\n",
    "\n",
    "| Problem                                    | Key Idea                         |\n",
    "| ------------------------------------------ | -------------------------------- |\n",
    "| ✅ Number of Digit One                      | Count digit 1 up to `n`          |\n",
    "| ✅ No Consecutive Ones                      | Add extra state `last_digit`     |\n",
    "| ✅ Numbers with Repeated Digits             | Track `used_digits` with bitmask |\n",
    "| ✅ Numbers ≤ N with Given Digits            | Track validity of digit choices  |\n",
    "| ✅ Count of numbers with sum divisible by k | Add modulus state `sum % k`      |\n"
   ]
  },
  {
   "cell_type": "raw",
   "id": "2d92cf91-f19e-46f5-a619-3110be0b800d",
   "metadata": {},
   "source": [
    "🧠 Key Digit DP Tips\n",
    "Always extract digits of n using:\n",
    "\n",
    "digits = list(map(int, str(n)))\n",
    "\n",
    "Use tight flag to control whether current number is still under n.\n",
    "\n",
    "Use @lru_cache or dp[pos][cnt][tight] memoization.\n",
    "\n",
    "Add leading zero handling when required.\n",
    "\n",
    "Would you like to explore other digit DP variations like:\n",
    "\n",
    "Sum of digits in a range\n",
    "\n",
    "Count numbers without repeated digits\n",
    "\n",
    "Numbers with sum divisible by k\n",
    "?"
   ]
  },
  {
   "cell_type": "markdown",
   "id": "9aa7d315-612e-4282-8fe0-7d3b183a0eac",
   "metadata": {},
   "source": [
    "# 🧠 Pattern 5: Decision Making"
   ]
  },
  {
   "cell_type": "markdown",
   "id": "42b8746d-bfa5-435a-bed8-9846585db2cc",
   "metadata": {},
   "source": [
    "### 📘 Problem Statement Template\n",
    "You are given a set of elements (usually in the form of an array), and at each index or time step, you have to make a decision — either choose or ignore the current item, action, or value.\n",
    "\n",
    "Your goal is to maximize or minimize a result (e.g., profit, cost, score, etc.) by making the best decision at each step based on previous decisions.\n",
    "\n",
    "🧠 Core Idea\n",
    "At each position i, you make a binary decision:\n",
    "\n",
    "Pick the current element → transition depends on the previous state where it was not picked.\n",
    "\n",
    "Skip the current element → carry forward the best result from previous state.\n",
    "\n",
    "                \n",
    "                dp[i][j] = max(\n",
    "                    dp[i-1][j],             # skip current\n",
    "                    dp[i-1][j-1] + value[i] # take current\n",
    "                )\n",
    "\n",
    "Some problems maintain multiple states like \"can buy/sell\", \"cooldown\", \"transactions left\", etc."
   ]
  },
  {
   "cell_type": "code",
   "execution_count": 7,
   "id": "f050e4c8-1ef5-40b3-aeff-6bd4adecfe30",
   "metadata": {},
   "outputs": [],
   "source": [
    "# ✅ Standard Top-Down (Recursion + Memoization)\n",
    "\n",
    "def dfs(i, state):  # state can be anything: can_buy, cooldown, transactions_left\n",
    "    if base_case: return 0\n",
    "    if (i, state) in memo: return memo[(i, state)]\n",
    "\n",
    "    take = dfs(...) + value[i]\n",
    "    skip = dfs(...)\n",
    "\n",
    "    memo[(i, state)] = max(take, skip)\n",
    "    return memo[(i, state)]\n"
   ]
  },
  {
   "cell_type": "raw",
   "id": "935c6c60-1481-4dab-b26c-5416a617aaf4",
   "metadata": {},
   "source": [
    "# 🔁 Bottom-Up (Tabulation)\n",
    "\n",
    "for i in range(1, n):\n",
    "    for j in range(0, k+1):\n",
    "        dp[i][j] = max(\n",
    "            dp[i-1][j],             # skip\n",
    "            dp[i-1][j-1] + arr[i]   # take\n",
    "        )"
   ]
  },
  {
   "cell_type": "markdown",
   "id": "7e774607-42a7-480b-8394-d07bbddcefb6",
   "metadata": {},
   "source": [
    "##### 🔍 Similar Problems Using This Pattern\n",
    "\n",
    "| Problem                                                                                                                              | Description                                             | Notes                                                 |\n",
    "| ------------------------------------------------------------------------------------------------------------------------------------ | ------------------------------------------------------- | ----------------------------------------------------- |\n",
    "| [198. House Robber](https://leetcode.com/problems/house-robber/)                                                                     | Rob houses for max profit without robbing adjacent ones | `dp[i] = max(dp[i-1], dp[i-2] + nums[i])`             |\n",
    "| [121. Best Time to Buy and Sell Stock](https://leetcode.com/problems/best-time-to-buy-and-sell-stock/)                               | Max profit from one transaction                         | Track min price so far                                |\n",
    "| [714. Best Time to Buy and Sell Stock with Fee](https://leetcode.com/problems/best-time-to-buy-and-sell-stock-with-transaction-fee/) | Max profit with unlimited transactions but with fee     | Two states: holding, not holding                      |\n",
    "| [309. Best Time to Buy and Sell Stock with Cooldown](https://leetcode.com/problems/best-time-to-buy-and-sell-stock-with-cooldown/)   | Max profit with cooldown after selling                  | Track states: hold, sold, rest                        |\n",
    "| [123. Best Time to Buy and Sell Stock III](https://leetcode.com/problems/best-time-to-buy-and-sell-stock-iii/)                       | Max profit with at most 2 transactions                  | DP with transaction count                             |\n",
    "| [188. Best Time to Buy and Sell Stock IV](https://leetcode.com/problems/best-time-to-buy-and-sell-stock-iv/)                         | Max profit with at most k transactions                  | DP with dimensions \\[day]\\[transactions]\\[hold state] |\n",
    "| [122. Best Time to Buy and Sell Stock II](https://leetcode.com/problems/best-time-to-buy-and-sell-stock-ii/)                         | Max profit with as many transactions as needed          | Greedy or DP: buy/sell every rise                     |\n",
    "| [337. House Robber III](https://leetcode.com/problems/house-robber-iii/)                                                             | Rob houses in a tree                                    | Tree DP: rob root or not                              |\n"
   ]
  },
  {
   "cell_type": "markdown",
   "id": "dbf54fb8-26fa-40f6-9269-5ac9c61b629f",
   "metadata": {},
   "source": [
    "📝 Summary\n",
    "\n",
    "| Feature          | Description                                                            |\n",
    "| ---------------- | ---------------------------------------------------------------------- |\n",
    "| Problem Type     | Pick or skip decisions                                                 |\n",
    "| State            | Index + conditions (e.g., holding, transactions left, cooldown)        |\n",
    "| Transition       | Based on whether you pick or ignore current item                       |\n",
    "| Common Use Cases | Stock buying/selling, house robbing, taking intervals with constraints |\n",
    "| Time Complexity  | `O(n * k)` where `k` = number of sub-states (e.g., transactions)       |\n"
   ]
  },
  {
   "cell_type": "markdown",
   "id": "819df774-ca6d-4a8a-a589-776ff7426c5c",
   "metadata": {},
   "source": [
    "✅ Dynamic Programming Pattern Mapping Table\n",
    "\n",
    "| **#** | **Pattern**                      | **Problem Statement**                                                               | **Core Recurrence / Idea**                                                                                                        | **Typical Complexity** | **Representative Problems**                                                                                                                                |\n",
    "| ----: | -------------------------------- | ----------------------------------------------------------------------------------- | --------------------------------------------------------------------------------------------------------------------------------- | ---------------------- | ---------------------------------------------------------------------------------------------------------------------------------------------------------- |\n",
    "| **1** | Minimum / Maximum Path to Target | Min/max cost, path, or steps to reach target                                        | `dp[i] = min(dp[i-x₁], ..., dp[i-xₖ]) + cost[i]`                                                                                  | `O(n * k)`             | 746. Min Cost Climbing Stairs<br>64. Minimum Path Sum<br>322. Coin Change<br>983. Min Cost for Tickets<br>120. Triangle                                    |\n",
    "| **2** | Distinct Ways to Reach a Target  | Count number of distinct ways to reach a target using allowed steps                 | `dp[i] = dp[i - x₁] + ... + dp[i - xₖ]`                                                                                           | `O(n * k)`             | 70. Climbing Stairs<br>62. Unique Paths<br>494. Target Sum<br>377. Combination Sum IV<br>935. Knight Dialer                                                |\n",
    "| **3** | Merging Intervals                | Find best value (min/max) from partitioned/merged subintervals                      | `dp[i][j] = min(dp[i][k] + merge[k] + dp[k+1][j])`                                                                                | `O(n³)`                | 1130. Min Cost Tree from Leaf Values<br>312. Burst Balloons<br>1039. Min Triangulation<br>1000. Merge Stones<br>546. Remove Boxes                          |\n",
    "| **4** | DP on Strings                    | Align, compare, transform or partition one or two strings                           | `dp[i][j] = dp[i-1][j-1] + 1` or `max(dp[i-1][j], dp[i][j-1])` (for 2 strings)<br>`dp[i][j]` based on `s[i] == s[j]` for 1 string | `O(n²)`                | 1143. Longest Common Subsequence<br>72. Edit Distance<br>647. Palindromic Substrings<br>516. Longest Palindromic Subsequence<br>115. Distinct Subsequences |\n",
    "| **5** | Decision Making                  | At each step, choose to include or exclude current item to maximize/minimize result | `dp[i][state] = max(skip, take)`<br>`state` may include `holding`, `cooldown`, `transactions`                                     | `O(n * state)`         | 198. House Robber<br>121. Best Time to Buy/Sell Stock<br>714. With Fee<br>309. With Cooldown<br>123. Buy/Sell Stock III<br>188. Buy/Sell Stock IV          |\n",
    "\n",
    "\n",
    "\n",
    "🧩 Explanation Key\n",
    "    \n",
    "x₁, x₂, ..., xₖ → allowed steps, coins, etc.\n",
    "\n",
    "merge[k] → cost/value/score to merge at partition k\n",
    "\n",
    "state → Boolean flags or counters (e.g., holding stock, number of transactions left)\n",
    "\n",
    "dp[i][j] → often used for 2D problems involving substrings or intervals   "
   ]
  },
  {
   "cell_type": "code",
   "execution_count": null,
   "id": "a11887ad-3261-46da-8bce-d8662bb32eaf",
   "metadata": {},
   "outputs": [],
   "source": []
  }
 ],
 "metadata": {
  "kernelspec": {
   "display_name": "Python 3 (ipykernel)",
   "language": "python",
   "name": "python3"
  },
  "language_info": {
   "codemirror_mode": {
    "name": "ipython",
    "version": 3
   },
   "file_extension": ".py",
   "mimetype": "text/x-python",
   "name": "python",
   "nbconvert_exporter": "python",
   "pygments_lexer": "ipython3",
   "version": "3.12.7"
  }
 },
 "nbformat": 4,
 "nbformat_minor": 5
}
