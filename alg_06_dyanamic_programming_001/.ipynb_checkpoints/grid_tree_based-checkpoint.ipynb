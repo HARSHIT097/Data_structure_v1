{
 "cells": [
  {
   "cell_type": "code",
   "execution_count": 1,
   "id": "81e558c8-ab87-4adb-af77-e232750d5f0f",
   "metadata": {},
   "outputs": [],
   "source": [
    "# 2D DP (Grid Problems, Knapsack, Edit Distance)\n",
    "# ✔ Problems: Minimum Path Sum, Unique Paths, Edit Distance, Knapsack\n",
    "def minPathSum(grid):\n",
    "    m, n = len(grid), len(grid[0])\n",
    "    dp = [[0] * n for _ in range(m)]\n",
    "    dp[0][0] = grid[0][0]\n",
    "\n",
    "    for i in range(m):\n",
    "        for j in range(n):\n",
    "            if i == 0 and j == 0:\n",
    "                continue\n",
    "            dp[i][j] = grid[i][j] + min(dp[i-1][j] if i > 0 else float('inf'),\n",
    "                                        dp[i][j-1] if j > 0 else float('inf'))\n",
    "\n",
    "    return dp[-1][-1]"
   ]
  },
  {
   "cell_type": "code",
   "execution_count": 2,
   "id": "19fa5f51-af82-4b8b-b27a-7204f529303e",
   "metadata": {},
   "outputs": [],
   "source": [
    "# Template for 2D DP (Grid Problems)\n",
    "# Used for problems like path-finding in a matrix.\n",
    "\n",
    "def uniquePaths(m, n):\n",
    "    dp = [[1] * n for _ in range(m)]  # Initialize DP table\n",
    "\n",
    "    for i in range(1, m):\n",
    "        for j in range(1, n):\n",
    "            dp[i][j] = dp[i-1][j] + dp[i][j-1]  # Transition formula\n",
    "    \n",
    "    return dp[m-1][n-1]  # Return bottom-right cell value"
   ]
  },
  {
   "cell_type": "raw",
   "id": "dce2f933-ae7b-4078-91d1-10fbb38b42ce",
   "metadata": {},
   "source": [
    "Edit Distance (Levenshtein Distance) → Convert one string into another with minimum edits.\n",
    "Solution: Use *2D DP (Grid-like transitions)."
   ]
  },
  {
   "cell_type": "raw",
   "id": "fc0ca6b3-e031-4537-bd7f-134019261f35",
   "metadata": {},
   "source": [
    " Edit Distance (Levenshtein Distance) → Find the minimum number of operations to convert one string to another.\n",
    "    Solution: Use 2D DP with insert/delete/replace operations."
   ]
  },
  {
   "cell_type": "raw",
   "id": "0cced3fc-d7c2-42ce-a0cb-65fad71bb8e1",
   "metadata": {},
   "source": [
    "    \n",
    "    Minimum Path Sum in a Grid → Find the minimum sum path from top-left to bottom-right in a grid.\n",
    "    Solution: Use 2D DP transition formula."
   ]
  },
  {
   "cell_type": "code",
   "execution_count": null,
   "id": "dbabcd9d-11f6-4924-aace-83298cecdf44",
   "metadata": {},
   "outputs": [],
   "source": [
    "    2D DP Problems (Grid & Substrings)\n",
    "    Unique Paths in a Grid → Find the number of ways to reach the bottom-right of an m x n grid.\n",
    "    Solution: Use 2D DP template."
   ]
  },
  {
   "cell_type": "markdown",
   "id": "7a104be1-3fa9-458a-bb9f-5a31be01381b",
   "metadata": {},
   "source": [
    "# DP on Grids problem (Minimum Path Sum)"
   ]
  },
  {
   "cell_type": "markdown",
   "id": "7cc9b996-1e63-4974-a7b8-a73f311daf9c",
   "metadata": {},
   "source": [
    "## Problem"
   ]
  },
  {
   "cell_type": "raw",
   "id": "6ed55a88-3cb8-4610-92d2-e228c0f8eb82",
   "metadata": {},
   "source": [
    "✅ Problem Statement\n",
    "Given a m x n grid filled with non-negative numbers, find a path from the top-left to bottom-right which minimizes the sum of values along the path.\n",
    "\n",
    "Only movements allowed:\n",
    "\n",
    "Right or\n",
    "\n",
    "Down\n",
    "\n",
    "🧠 DP Recurrence:\n",
    "To reach cell (i, j) with minimum cost:\n",
    "\n",
    "        dp[i][j] = grid[i][j] + min(dp[i-1][j], dp[i][j-1])\n"
   ]
  },
  {
   "cell_type": "code",
   "execution_count": 4,
   "id": "008aa44d-6a87-43c7-8f73-ddcdd71c1cfb",
   "metadata": {},
   "outputs": [],
   "source": [
    "# ✅ Method 1: Top-Down (Recursion + Memoization)\n",
    "\n",
    "import sys\n",
    "sys.setrecursionlimit(10000)\n",
    "\n",
    "def min_cost_top_down(grid):\n",
    "    m, n = len(grid), len(grid[0])\n",
    "    dp = [[-1] * n for _ in range(m)]\n",
    "\n",
    "    def dfs(i, j):\n",
    "        if i < 0 or j < 0:\n",
    "            return float('inf')\n",
    "        if i == 0 and j == 0:\n",
    "            return grid[0][0]\n",
    "        if dp[i][j] != -1:\n",
    "            return dp[i][j]\n",
    "        dp[i][j] = grid[i][j] + min(dfs(i - 1, j), dfs(i, j - 1))\n",
    "        return dp[i][j]\n",
    "\n",
    "    return dfs(m - 1, n - 1)"
   ]
  },
  {
   "cell_type": "code",
   "execution_count": 5,
   "id": "3b84ad26-193e-4eec-a8fa-b37b8f37331f",
   "metadata": {},
   "outputs": [],
   "source": [
    "# ✅ Method 2: Bottom-Up (Tabulation)\n",
    "\n",
    "def min_cost_bottom_up(grid):\n",
    "    m, n = len(grid), len(grid[0])\n",
    "    dp = [[0] * n for _ in range(m)]\n",
    "\n",
    "    dp[0][0] = grid[0][0]\n",
    "\n",
    "    # Fill first column\n",
    "    for i in range(1, m):\n",
    "        dp[i][0] = dp[i - 1][0] + grid[i][0]\n",
    "\n",
    "    # Fill first row\n",
    "    for j in range(1, n):\n",
    "        dp[0][j] = dp[0][j - 1] + grid[0][j]\n",
    "\n",
    "    # Fill the rest of the grid\n",
    "    for i in range(1, m):\n",
    "        for j in range(1, n):\n",
    "            dp[i][j] = grid[i][j] + min(dp[i - 1][j], dp[i][j - 1])\n",
    "\n",
    "    return dp[m - 1][n - 1]\n"
   ]
  },
  {
   "cell_type": "code",
   "execution_count": 6,
   "id": "edfac5bb-5a22-4ad0-8a60-a55da84ce034",
   "metadata": {},
   "outputs": [],
   "source": [
    "# ✅ Method 3: Space Optimized (1D DP)\n",
    "# We can use a single row array (since each cell only depends on the current and previous row):\n",
    "\n",
    "def min_cost_optimized(grid):\n",
    "    m, n = len(grid), len(grid[0])\n",
    "    dp = [float('inf')] * n\n",
    "\n",
    "    for i in range(m):\n",
    "        for j in range(n):\n",
    "            if i == 0 and j == 0:\n",
    "                dp[j] = grid[0][0]\n",
    "            elif i == 0:\n",
    "                dp[j] = dp[j - 1] + grid[i][j]\n",
    "            elif j == 0:\n",
    "                dp[j] = dp[j] + grid[i][j]\n",
    "            else:\n",
    "                dp[j] = grid[i][j] + min(dp[j], dp[j - 1])\n",
    "\n",
    "    return dp[-1]"
   ]
  },
  {
   "cell_type": "code",
   "execution_count": 7,
   "id": "92bc2215-da50-4e26-83bc-9a6ac5a6e0a6",
   "metadata": {},
   "outputs": [
    {
     "name": "stdout",
     "output_type": "stream",
     "text": [
      "Top-Down: 7\n",
      "Bottom-Up: 7\n",
      "Optimized: 7\n"
     ]
    }
   ],
   "source": [
    "grid = [\n",
    "    [1, 3, 1],\n",
    "    [1, 5, 1],\n",
    "    [4, 2, 1]\n",
    "]\n",
    "\n",
    "print(\"Top-Down:\", min_cost_top_down(grid))\n",
    "print(\"Bottom-Up:\", min_cost_bottom_up(grid))\n",
    "print(\"Optimized:\", min_cost_optimized(grid))\n",
    "# Path: 1 → 3 → 1 → 1 → 1 = 7"
   ]
  },
  {
   "cell_type": "markdown",
   "id": "c8893a80-4aca-447b-b4a3-0b130d7c30fd",
   "metadata": {},
   "source": [
    "🧩 Similar Problems & Variations\n",
    "\n",
    "| Problem                | Variation                                                        |\n",
    "| ---------------------- | ---------------------------------------------------------------- |\n",
    "| ✅ **Unique Paths**     | Count paths from top-left to bottom-right                        |\n",
    "| ✅ **Unique Paths II**  | Same as above with **obstacles**                                 |\n",
    "| ✅ **Minimum Path Sum** | Current problem                                                  |\n",
    "| ✅ **Dungeon Game**     | Must **survive** with minimum health (backward DP)               |\n",
    "| ✅ **Cherry Pickup**    | Maximize total cherries (hard variant with 2D DP + reverse path) |\n"
   ]
  },
  {
   "cell_type": "markdown",
   "id": "b289fca5-7771-4b52-bfec-b368a54dfe18",
   "metadata": {},
   "source": [
    "# Tree"
   ]
  },
  {
   "cell_type": "markdown",
   "id": "9b3ab331-1eed-4846-a8fc-da444a5f8c24",
   "metadata": {},
   "source": [
    "## ✅ Problem 1: Max Coins from Non-Adjacent Nodes in Tree"
   ]
  },
  {
   "cell_type": "raw",
   "id": "ce850f1b-dabd-432f-82fb-2db0bfc90f96",
   "metadata": {},
   "source": [
    "📘 Problem Summary:\n",
    "Given a tree where each node has coins, pick a subset of nodes such that:\n",
    "\n",
    "No adjacent nodes are chosen.\n",
    "\n",
    "Maximize the sum of selected coins.\n",
    "\n",
    "This is equivalent to the House Robber on Trees problem (Leetcode: House Robber III).\n",
    "\n",
    "🧠 DP Idea:\n",
    "For each node u, we maintain:\n",
    "\n",
    "dp1[u]: Max coins including node u\n",
    "\n",
    "dp2[u]: Max coins excluding node u"
   ]
  },
  {
   "cell_type": "code",
   "execution_count": 8,
   "id": "c0e811b7-ac77-4202-8e54-b1a932f087bf",
   "metadata": {},
   "outputs": [],
   "source": [
    "from collections import defaultdict\n",
    "\n",
    "def max_coins_tree(n, coins, edges):\n",
    "    adj = defaultdict(list)\n",
    "    for u, v in edges:\n",
    "        adj[u].append(v)\n",
    "        adj[v].append(u)\n",
    "\n",
    "    dp1 = [0] * (n + 1)\n",
    "    dp2 = [0] * (n + 1)\n",
    "\n",
    "    def dfs(u, parent):\n",
    "        sum1 = 0  # if we include u\n",
    "        sum2 = 0  # if we exclude u\n",
    "        for v in adj[u]:\n",
    "            if v == parent:\n",
    "                continue\n",
    "            dfs(v, u)\n",
    "            sum1 += dp2[v]  # we can't take children if we take current\n",
    "            sum2 += max(dp1[v], dp2[v])  # we can take or skip child\n",
    "        dp1[u] = coins[u - 1] + sum1\n",
    "        dp2[u] = sum2\n",
    "\n",
    "    dfs(1, -1)  # Assuming root is node 1\n",
    "    return max(dp1[1], dp2[1])"
   ]
  },
  {
   "cell_type": "code",
   "execution_count": 9,
   "id": "6e566061-82d2-4177-94e9-8915c7c12beb",
   "metadata": {},
   "outputs": [
    {
     "name": "stdout",
     "output_type": "stream",
     "text": [
      "Max Coins: 11\n"
     ]
    }
   ],
   "source": [
    "n = 5\n",
    "coins = [1, 2, 3, 4, 5]\n",
    "edges = [(1, 2), (1, 3), (3, 4), (3, 5)]\n",
    "\n",
    "print(\"Max Coins:\", max_coins_tree(n, coins, edges))"
   ]
  },
  {
   "cell_type": "markdown",
   "id": "685e933f-1b0e-43d6-bff8-c838f8f49bea",
   "metadata": {},
   "source": [
    "## ✅ Problem 2: Tree Diameter"
   ]
  },
  {
   "cell_type": "raw",
   "id": "95727c35-b56e-49c6-b948-5fb1e79316c0",
   "metadata": {},
   "source": [
    "📘 Problem Summary:\n",
    "Given a tree, find the length of the longest path between any two nodes.\n",
    "\n",
    "This is called the diameter of the tree.\n",
    "\n",
    "🧠 DP Idea:\n",
    "We define:\n",
    "\n",
    "f[u]: longest path starting from u into one of its subtrees\n",
    "\n",
    "g[u]: longest path that passes through u, going into two of its subtrees"
   ]
  },
  {
   "cell_type": "code",
   "execution_count": 10,
   "id": "a0226987-ddb8-419e-91b0-7bcbd92e9c3d",
   "metadata": {},
   "outputs": [],
   "source": [
    "from collections import defaultdict\n",
    "\n",
    "def tree_diameter(n, edges):\n",
    "    adj = defaultdict(list)\n",
    "    for u, v in edges:\n",
    "        adj[u].append(v)\n",
    "        adj[v].append(u)\n",
    "\n",
    "    f = [0] * (n + 1)\n",
    "    g = [0] * (n + 1)\n",
    "    diameter = [0]  # use list to mutate in inner function\n",
    "\n",
    "    def dfs(u, parent):\n",
    "        longest = second_longest = 0\n",
    "        for v in adj[u]:\n",
    "            if v == parent:\n",
    "                continue\n",
    "            dfs(v, u)\n",
    "            length = f[v]\n",
    "            if length > longest:\n",
    "                second_longest = longest\n",
    "                longest = length\n",
    "            elif length > second_longest:\n",
    "                second_longest = length\n",
    "        f[u] = 1 + longest\n",
    "        g[u] = 1 + longest + second_longest\n",
    "        diameter[0] = max(diameter[0], f[u], g[u])\n",
    "\n",
    "    dfs(1, -1)\n",
    "    return diameter[0] - 1  # subtract 1 if length is #edges, not nodes"
   ]
  },
  {
   "cell_type": "code",
   "execution_count": 11,
   "id": "04b95020-a2ea-4faa-a077-ebf40e811379",
   "metadata": {},
   "outputs": [
    {
     "name": "stdout",
     "output_type": "stream",
     "text": [
      "Tree Diameter: 4\n"
     ]
    }
   ],
   "source": [
    "n = 6\n",
    "edges = [(1, 2), (1, 3), (2, 4), (2, 5), (5, 6)]\n",
    "\n",
    "print(\"Tree Diameter:\", tree_diameter(n, edges))"
   ]
  },
  {
   "cell_type": "markdown",
   "id": "f8fc9065-ce67-414e-baf3-20bd49a9c389",
   "metadata": {},
   "source": [
    "🧩 Similar Problems:\n",
    "\n",
    "| Problem                                  | Technique                                            |\n",
    "| ---------------------------------------- | ---------------------------------------------------- |\n",
    "| ✅ **Diameter of Binary Tree**            | Same as above on binary tree                         |\n",
    "| ✅ **House Robber III**                   | Tree DP with include/exclude                         |\n",
    "| ✅ **Binary Tree Max Path Sum**           | Similar to `f[u]` + `f[v]` where nodes are arbitrary |\n",
    "| ✅ **Unique BSTs II**                     | DP + Tree Construction                               |\n",
    "| ✅ **Minimum Vertex Cover in Tree**       | Classic Tree DP with include/exclude logic           |\n",
    "| ✅ **Max Weight Independent Set in Tree** | This problem exactly                                 |\n"
   ]
  },
  {
   "cell_type": "markdown",
   "id": "a3560985-7ce6-4dbc-aae3-045240feda8f",
   "metadata": {},
   "source": [
    "# 🎲 Pattern 2: Distinct Ways to Reach a Target"
   ]
  },
  {
   "cell_type": "raw",
   "id": "326575ab-27cf-4a49-8f36-1684f7f17111",
   "metadata": {},
   "source": [
    "📘 Problem Statement Template\n",
    "Given a target (e.g., steps, sum, or position), determine how many distinct ways we can reach the target using a set of allowed steps, choices, or paths. You may take steps/actions multiple times (or sometimes with constraints). Return the total number of distinct combinations/paths/ways.\n",
    "\n",
    "🧠 Core Idea\n",
    "Each state is the sum of all the ways you could’ve reached it from a previous state.\n",
    "\n",
    "##### Generic Recurrence:\n",
    "dp[i] = dp[i - x1] + dp[i - x2] + ... + dp[i - xk]"
   ]
  },
  {
   "cell_type": "code",
   "execution_count": 12,
   "id": "5615811b-92ee-4187-bb1a-cdbd11cae331",
   "metadata": {},
   "outputs": [],
   "source": [
    "# ✅ Top-Down (Recursion + Memoization)\n",
    "\n",
    "def dfs(target):\n",
    "    if target == base_case:\n",
    "        return 1\n",
    "    if target in memo:\n",
    "        return memo[target]\n",
    "\n",
    "    result = 0\n",
    "    for step in allowed_steps:\n",
    "        if target - step >= 0:\n",
    "            result += dfs(target - step)\n",
    "    memo[target] = result\n",
    "    return result"
   ]
  },
  {
   "cell_type": "raw",
   "id": "5e4f53f2-4d90-4334-ba91-a9eeb3615164",
   "metadata": {},
   "source": [
    "# 🔁 Bottom-Up (Tabulation)\n",
    "dp = [0] * (target + 1)\n",
    "dp[0] = 1  # base case: 1 way to make target 0\n",
    "\n",
    "for i in range(1, target + 1):\n",
    "    for step in allowed_steps:\n",
    "        if i - step >= 0:\n",
    "            dp[i] += dp[i - step]"
   ]
  },
  {
   "cell_type": "markdown",
   "id": "dbba991e-c257-4938-98a2-fa5797a01fb1",
   "metadata": {},
   "source": [
    "🔍 Similar Problems\n",
    "\n",
    "| Problem                                                                                                                                                     | Description                              |\n",
    "| ----------------------------------------------------------------------------------------------------------------------------------------------------------- | ---------------------------------------- |\n",
    "| [70. Climbing Stairs](https://leetcode.com/problems/climbing-stairs/)                                                                                       | Ways to climb stairs taking 1 or 2 steps |\n",
    "| [62. Unique Paths](https://leetcode.com/problems/unique-paths/)                                                                                             | Ways to reach bottom-right in grid       |\n",
    "| [377. Combination Sum IV](https://leetcode.com/problems/combination-sum-iv/)                                                                                | Number of combinations to make target    |\n",
    "| [494. Target Sum](https://leetcode.com/problems/target-sum/)                                                                                                | Assign +/- signs to reach target sum     |\n",
    "| [935. Knight Dialer](https://leetcode.com/problems/knight-dialer/)                                                                                          | Number of sequences using knight moves   |\n",
    "| [576. Out of Boundary Paths](https://leetcode.com/problems/out-of-boundary-paths/)                                                                          | Paths that lead out of grid in N moves   |\n",
    "| [1269. Number of Ways to Stay in the Same Place After Some Steps](https://leetcode.com/problems/number-of-ways-to-stay-in-the-same-place-after-some-steps/) | Stay at position 0 after K steps         |\n"
   ]
  },
  {
   "cell_type": "code",
   "execution_count": null,
   "id": "2f4de5cb-e9a0-4b50-8aa8-2e1910e9447b",
   "metadata": {},
   "outputs": [],
   "source": []
  }
 ],
 "metadata": {
  "kernelspec": {
   "display_name": "Python 3 (ipykernel)",
   "language": "python",
   "name": "python3"
  },
  "language_info": {
   "codemirror_mode": {
    "name": "ipython",
    "version": 3
   },
   "file_extension": ".py",
   "mimetype": "text/x-python",
   "name": "python",
   "nbconvert_exporter": "python",
   "pygments_lexer": "ipython3",
   "version": "3.12.7"
  }
 },
 "nbformat": 4,
 "nbformat_minor": 5
}
