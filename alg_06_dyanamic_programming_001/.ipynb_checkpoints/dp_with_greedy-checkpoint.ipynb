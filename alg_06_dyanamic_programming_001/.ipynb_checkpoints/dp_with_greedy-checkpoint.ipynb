{
 "cells": [
  {
   "cell_type": "code",
   "execution_count": null,
   "id": "63a5ddc8-ba46-4d11-8877-49571cd4b22b",
   "metadata": {},
   "outputs": [],
   "source": [
    "Jump Game → Determine if you can reach the last index of an array where nums[i] represents the max jump length.\n",
    "    Solution: Use DP or greedy approach."
   ]
  }
 ],
 "metadata": {
  "kernelspec": {
   "display_name": "Python 3 (ipykernel)",
   "language": "python",
   "name": "python3"
  },
  "language_info": {
   "codemirror_mode": {
    "name": "ipython",
    "version": 3
   },
   "file_extension": ".py",
   "mimetype": "text/x-python",
   "name": "python",
   "nbconvert_exporter": "python",
   "pygments_lexer": "ipython3",
   "version": "3.12.7"
  }
 },
 "nbformat": 4,
 "nbformat_minor": 5
}
