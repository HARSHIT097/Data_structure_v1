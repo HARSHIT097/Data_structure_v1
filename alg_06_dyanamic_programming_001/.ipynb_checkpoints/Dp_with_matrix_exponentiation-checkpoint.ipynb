{
 "cells": [
  {
   "cell_type": "code",
   "execution_count": 1,
   "id": "30d8cf03-85bd-4e06-93c2-f5ea13bc55ed",
   "metadata": {},
   "outputs": [],
   "source": [
    "# 44. DP with Bitmasking (TSP, Assignments, Matching)\n",
    "# ✔ Problems: Traveling Salesman, Assignments, Matching Problems\n",
    "def traveling_salesman(n, dist):\n",
    "    @lru_cache(None)\n",
    "    def dp(mask, i):\n",
    "        if mask == (1 << n) - 1:  # All cities visited\n",
    "            return dist[i][0]  # Return to start\n",
    "\n",
    "        result = float('inf')\n",
    "        for j in range(n):\n",
    "            if mask & (1 << j) == 0:  # Not visited\n",
    "                result = min(result, dist[i][j] + dp(mask | (1 << j), j))\n",
    "\n",
    "        return result\n",
    "\n",
    "    return dp(1, 0)  # Start from city 0 with only it visited\n"
   ]
  },
  {
   "cell_type": "code",
   "execution_count": null,
   "id": "ffd913c5-ea5d-48c0-b5dd-c361b6f781bb",
   "metadata": {},
   "outputs": [],
   "source": []
  }
 ],
 "metadata": {
  "kernelspec": {
   "display_name": "Python 3 (ipykernel)",
   "language": "python",
   "name": "python3"
  },
  "language_info": {
   "codemirror_mode": {
    "name": "ipython",
    "version": 3
   },
   "file_extension": ".py",
   "mimetype": "text/x-python",
   "name": "python",
   "nbconvert_exporter": "python",
   "pygments_lexer": "ipython3",
   "version": "3.12.7"
  }
 },
 "nbformat": 4,
 "nbformat_minor": 5
}
