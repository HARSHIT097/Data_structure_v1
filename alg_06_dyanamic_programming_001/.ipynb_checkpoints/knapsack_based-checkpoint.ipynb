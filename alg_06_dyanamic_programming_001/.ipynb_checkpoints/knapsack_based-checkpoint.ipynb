{
 "cells": [
  {
   "cell_type": "markdown",
   "id": "380cbf88-5a5f-4147-8afe-fed13d640b86",
   "metadata": {},
   "source": [
    "# knapsack\n",
    "\n",
    "✅ Perfect Squares\n",
    "\n",
    "DP: Classic \"min steps to reach target\".\n",
    "BFS: Treat as shortest path problem.\n",
    "\n",
    "\n",
    "✅ Coin Change II\n",
    "\n",
    "Unbounded Knapsack DP (each coin can be used unlimited times).\n",
    "Order matters: Coins are picked one by one to avoid overcounting."
   ]
  },
  {
   "cell_type": "raw",
   "id": "f2d9482d-47f9-41db-bb66-c95ce1b42182",
   "metadata": {},
   "source": [
    "Partition Equal Subset Sum → Can we split an array into two subsets of equal sum?\n",
    "Solution: Use *Subset Sum DP."
   ]
  },
  {
   "cell_type": "raw",
   "id": "c30cc324-bdb7-4559-a4e3-9a60a9d6acd3",
   "metadata": {},
   "source": [
    "0/1 Knapsack Problem → Given weights and values, maximize value without exceeding weight.\n",
    "Solution: Use *Knapsack DP."
   ]
  },
  {
   "cell_type": "raw",
   "id": "8d0d3c81-fcdc-4285-a53e-9d12040ff206",
   "metadata": {},
   "source": [
    "Palindrome Partitioning → Given a string, find the minimum cuts needed to partition it into palindromic substrings.\n",
    "    Solution: Use 2D DP with palindrome checking."
   ]
  },
  {
   "cell_type": "code",
   "execution_count": null,
   "id": "d7b70214-10a9-48fb-b423-cc9da4e322ef",
   "metadata": {},
   "outputs": [],
   "source": [
    "    Coin Change Problem → Find the minimum number of coins needed to make a given amount.\n",
    "    Solution: Use 1D DP (similar to unbounded knapsack)."
   ]
  },
  {
   "cell_type": "markdown",
   "id": "6932332d-7c51-43fb-9256-c16251a3e70d",
   "metadata": {},
   "source": [
    "## 322. Coin Change"
   ]
  },
  {
   "cell_type": "raw",
   "id": "429dc1d0-56c1-4111-98dd-722a35d75f81",
   "metadata": {},
   "source": [
    "You are given an integer array coins representing coins of different denominations and an integer amount representing a total amount of money.\n",
    "\n",
    "Return the fewest number of coins that you need to make up that amount. If that amount of money cannot be made up by any combination of the coins, return -1.\n",
    "\n",
    "You may assume that you have an infinite number of each kind of coin.\n",
    "\n",
    " \n",
    "                \n",
    "                Example 1:\n",
    "                \n",
    "                Input: coins = [1,2,5], amount = 11\n",
    "                Output: 3\n",
    "                Explanation: 11 = 5 + 5 + 1\n",
    "                Example 2:\n",
    "                \n",
    "                Input: coins = [2], amount = 3\n",
    "                Output: -1\n",
    "                Example 3:\n",
    "                \n",
    "                Input: coins = [1], amount = 0\n",
    "                Output: 0\n",
    "                 \n",
    "                \n",
    "                Constraints:\n",
    "                \n",
    "                1 <= coins.length <= 12\n",
    "                1 <= coins[i] <= 231 - 1\n",
    "                0 <= amount <= 104"
   ]
  },
  {
   "cell_type": "raw",
   "id": "c523ebc4-5eb5-4c60-9c5c-e0d1dc2a542a",
   "metadata": {},
   "source": [
    "🔹 Problem: Given coins[] and amount, find minimum number of coins to make amount (or return -1 if impossible).\n",
    "\n",
    "Approach: Dynamic Programming (Bottom-Up)\n",
    "- State Definition:\n",
    "\n",
    "            dp[i] → Minimum coins required to make sum i.\n",
    "\n",
    "- Transition:\n",
    "\n",
    "            Try every coin:\n",
    "            dp[i]=min(dp[i],dp[i−coin]+1)\n",
    "            Base Case:\n",
    "            \n",
    "            dp[0] = 0 (No coins needed for amount 0)\n",
    "            dp[i] = ∞ (Impossible to form initially)\n",
    "\n",
    "⏳ Time Complexity: O(n×amount)\n",
    "💾 Space Complexity: O(amount)                       "
   ]
  },
  {
   "cell_type": "code",
   "execution_count": 1,
   "id": "1219d086-b782-4621-8381-c6daff690d2c",
   "metadata": {},
   "outputs": [
    {
     "name": "stdout",
     "output_type": "stream",
     "text": [
      "3\n"
     ]
    }
   ],
   "source": [
    "import math\n",
    "\n",
    "def coinChange(coins, amount):\n",
    "    dp = [math.inf] * (amount + 1)\n",
    "    dp[0] = 0  # Base case\n",
    "\n",
    "    for i in range(1, amount + 1):\n",
    "        for coin in coins:\n",
    "            if i >= coin:\n",
    "                dp[i] = min(dp[i], dp[i - coin] + 1)\n",
    "\n",
    "    return dp[amount] if dp[amount] != math.inf else -1\n",
    "\n",
    "print(coinChange([1,2,5], 11))  # Output: 3 (5+5+1)\n"
   ]
  },
  {
   "cell_type": "code",
   "execution_count": null,
   "id": "e8713c73-c03e-4c9b-9045-ed0abb5c2502",
   "metadata": {},
   "outputs": [],
   "source": []
  }
 ],
 "metadata": {
  "kernelspec": {
   "display_name": "Python 3 (ipykernel)",
   "language": "python",
   "name": "python3"
  },
  "language_info": {
   "codemirror_mode": {
    "name": "ipython",
    "version": 3
   },
   "file_extension": ".py",
   "mimetype": "text/x-python",
   "name": "python",
   "nbconvert_exporter": "python",
   "pygments_lexer": "ipython3",
   "version": "3.12.7"
  }
 },
 "nbformat": 4,
 "nbformat_minor": 5
}
