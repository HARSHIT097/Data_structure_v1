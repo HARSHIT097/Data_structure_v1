{
 "cells": [
  {
   "cell_type": "markdown",
   "id": "9e271e50-d273-40a7-9f73-574467dbd673",
   "metadata": {
    "jp-MarkdownHeadingCollapsed": true
   },
   "source": [
    "## 983. Minimum Cost For Tickets"
   ]
  },
  {
   "cell_type": "raw",
   "id": "f5266e51-e88f-4bbf-bbac-41b6d415316f",
   "metadata": {},
   "source": [
    "You have planned some train traveling one year in advance. The days of the year in which you will travel are given as an integer array days. Each day is an integer from 1 to 365.\n",
    "\n",
    "                Train tickets are sold in three different ways:\n",
    "                \n",
    "                a 1-day pass is sold for costs[0] dollars,\n",
    "                a 7-day pass is sold for costs[1] dollars, and\n",
    "                a 30-day pass is sold for costs[2] dollars.\n",
    "                The passes allow that many days of consecutive travel.\n",
    "                \n",
    "                For example, if we get a 7-day pass on day 2, then we can travel for 7 days: 2, 3, 4, 5, 6, 7, and 8.\n",
    "                Return the minimum number of dollars you need to travel every day in the given list of days.\n",
    "                \n",
    "                 \n",
    "                \n",
    "                Example 1:\n",
    "                \n",
    "                Input: days = [1,4,6,7,8,20], costs = [2,7,15]\n",
    "                Output: 11\n",
    "                Explanation: For example, here is one way to buy passes that lets you travel your travel plan:\n",
    "                On day 1, you bought a 1-day pass for costs[0] = $2, which covered day 1.\n",
    "                On day 3, you bought a 7-day pass for costs[1] = $7, which covered days 3, 4, ..., 9.\n",
    "                On day 20, you bought a 1-day pass for costs[0] = $2, which covered day 20.\n",
    "                In total, you spent $11 and covered all the days of your travel.\n",
    "                Example 2:\n",
    "                \n",
    "                Input: days = [1,2,3,4,5,6,7,8,9,10,30,31], costs = [2,7,15]\n",
    "                Output: 17\n",
    "                Explanation: For example, here is one way to buy passes that lets you travel your travel plan:\n",
    "                On day 1, you bought a 30-day pass for costs[2] = $15 which covered days 1, 2, ..., 30.\n",
    "                On day 31, you bought a 1-day pass for costs[0] = $2 which covered day 31.\n",
    "                In total, you spent $17 and covered all the days of your travel.\n",
    "                 \n",
    "                \n",
    "                Constraints:\n",
    "                \n",
    "                1 <= days.length <= 365\n",
    "                1 <= days[i] <= 365\n",
    "                days is in strictly increasing order.\n",
    "                costs.length == 3\n",
    "                1 <= costs[i] <= 1000"
   ]
  },
  {
   "cell_type": "raw",
   "id": "07ee9a4b-5730-405c-bc7e-3b937d40589f",
   "metadata": {},
   "source": [
    "Minimum Cost For Tickets (DP - Interval Based)\n",
    "🔹 Problem: You have days[] where you need a ticket. You can buy:\n",
    "\n",
    "1-day ticket for costs[0]\n",
    "7-day ticket for costs[1]\n",
    "30-day ticket for costs[2]\n",
    "Find minimum cost to cover all travel days.\n",
    "\n",
    "            Approach: Dynamic Programming (Bottom-Up)\n",
    "            State Definition:\n",
    "            \n",
    "            dp[i] → Minimum cost to travel up to day i.\n",
    "            Transition:\n",
    "            \n",
    "            If i is not a travel day → dp[i] = dp[i-1]\n",
    "            Otherwise:\n",
    "            \n",
    "            dp[i]=min(dp[i−1]+costs[0],dp[i−7]+costs[1],dp[i−30]+costs[2])\n",
    "            (Handle out-of-bounds cases properly.)\n",
    "            Base Case:\n",
    "            \n",
    "            dp[0] = 0 (No cost before starting).\n",
    "⏳ Time Complexity: O(n)\n",
    "💾 Space Complexity: O(n) (Can optimize using a deque for a sliding window)"
   ]
  },
  {
   "cell_type": "code",
   "execution_count": 1,
   "id": "5f1f41b4-bcff-4d85-8561-6f79aad52829",
   "metadata": {},
   "outputs": [
    {
     "name": "stdout",
     "output_type": "stream",
     "text": [
      "11\n"
     ]
    }
   ],
   "source": [
    "def mincostTickets(days, costs):\n",
    "    last_day = days[-1]\n",
    "    days_set = set(days)\n",
    "    dp = [0] * (last_day + 1)\n",
    "\n",
    "    for i in range(1, last_day + 1):\n",
    "        if i not in days_set:\n",
    "            dp[i] = dp[i - 1]  # No need to buy a ticket\n",
    "        else:\n",
    "            dp[i] = min(dp[max(0, i - 1)] + costs[0], \n",
    "                        dp[max(0, i - 7)] + costs[1], \n",
    "                        dp[max(0, i - 30)] + costs[2])\n",
    "    \n",
    "    return dp[last_day]\n",
    "\n",
    "print(mincostTickets([1,4,6,7,8,20], [2,7,15]))  # Output: 11"
   ]
  },
  {
   "cell_type": "markdown",
   "id": "c575efca-b141-4464-b4c7-8b8d5effb5d7",
   "metadata": {},
   "source": [
    "# 🧩 Pattern 3: Merging Intervals"
   ]
  },
  {
   "cell_type": "markdown",
   "id": "90716827-5d97-4e23-b46c-b112d131bca2",
   "metadata": {
    "jp-MarkdownHeadingCollapsed": true
   },
   "source": [
    "##### 📘 Problem Statement Template\n",
    "You are given an array (or structure) where performing an operation on a subinterval yields some cost, score, or structure (e.g., merging, bursting, triangulating, etc.).\n",
    "\n",
    "Your task is to partition the interval optimally (by trying every possible position k in the range [i, j]) and compute the optimal (usually minimum or maximum) value of merging or processing this interval.\n",
    "\n",
    "Return the best result for the entire interval (e.g., from index 0 to n-1).\n",
    "\n",
    "🧠 Core Idea\n",
    "Split every interval [i, j] at every possible position k, and compute the optimal result by recursively solving left [i, k] and right [k+1, j], and then merging their result with a cost/value at k.\n",
    "\n",
    "##### General recurrence:\n",
    "    \n",
    "dp[i][j] = min/max(dp[i][k] + merge_result[k] + dp[k+1][j])\n",
    "\n",
    "Think of this as a \"divide & merge\" approach, where:\n",
    "\n",
    "You divide the problem at every possible index k\n",
    "\n",
    "Recursively solve left and right intervals\n",
    "\n",
    "Merge the two sub-solutions using a given formula"
   ]
  },
  {
   "cell_type": "code",
   "execution_count": 2,
   "id": "2dfaf27e-8ff6-460d-a8da-0ecb5fbcb9d1",
   "metadata": {},
   "outputs": [],
   "source": [
    "# ✅ Top-Down (Memoized Recursion)\n",
    "\n",
    "def dfs(i, j):\n",
    "    if i > j:\n",
    "        return 0\n",
    "    if (i, j) in memo:\n",
    "        return memo[(i, j)]\n",
    "\n",
    "    result = float('inf')  # or -inf for max\n",
    "    for k in range(i, j + 1):\n",
    "        left = dfs(i, k - 1)\n",
    "        right = dfs(k + 1, j)\n",
    "        result = min(result, left + merge_cost(k, i, j) + right)\n",
    "    memo[(i, j)] = result\n",
    "    return result\n"
   ]
  },
  {
   "cell_type": "raw",
   "id": "ab0b4fee-84de-4ec1-a266-299b6bdab57c",
   "metadata": {},
   "source": [
    "# 🔁 Bottom-Up (Tabulation)\n",
    "\n",
    "dp = [[inf] * n for _ in range(n)]\n",
    "\n",
    "for length in range(1, n):  # length of interval\n",
    "    for i in range(n - length):\n",
    "        j = i + length\n",
    "        for k in range(i, j):\n",
    "            dp[i][j] = min(dp[i][j], dp[i][k] + merge_result[k] + dp[k+1][j])"
   ]
  },
  {
   "cell_type": "markdown",
   "id": "128b6573-e097-4f42-a68b-0d71dd73a768",
   "metadata": {},
   "source": [
    "🔍 Similar Problems Using This Pattern\n",
    "\n",
    "| Problem                                                                                                               | Description                                       |\n",
    "| --------------------------------------------------------------------------------------------------------------------- | ------------------------------------------------- |\n",
    "| [1130. Minimum Cost Tree From Leaf Values](https://leetcode.com/problems/minimum-cost-tree-from-leaf-values/)         | Build a binary tree with minimum cost from leaves |\n",
    "| [312. Burst Balloons](https://leetcode.com/problems/burst-balloons/)                                                  | Max coins from bursting balloons in best order    |\n",
    "| [1000. Minimum Cost to Merge Stones](https://leetcode.com/problems/minimum-cost-to-merge-stones/)                     | Merge adjacent piles of stones                    |\n",
    "| [1039. Minimum Score Triangulation of Polygon](https://leetcode.com/problems/minimum-score-triangulation-of-polygon/) | Min cost of triangulating a polygon               |\n",
    "| [546. Remove Boxes](https://leetcode.com/problems/remove-boxes/)                                                      | Max points from removing boxes in groups          |\n",
    "| [96. Unique Binary Search Trees](https://leetcode.com/problems/unique-binary-search-trees/)                           | Count unique BSTs that can be formed              |\n",
    "| [375. Guess Number Higher or Lower II](https://leetcode.com/problems/guess-number-higher-or-lower-ii/)                | Min cost to guarantee win a number guessing game  |\n",
    "\n"
   ]
  },
  {
   "cell_type": "markdown",
   "id": "7e7e7e7f-aa12-4a71-9872-99d3abfe2522",
   "metadata": {},
   "source": [
    "📝 Summary\n",
    "\n",
    "| Feature         | Description                                                 |\n",
    "| --------------- | ----------------------------------------------------------- |\n",
    "| Problem Type    | Interval Partitioning / Merging                             |\n",
    "| Common Formula  | `dp[i][j] = min/max(dp[i][k] + result[k] + dp[k+1][j])`     |\n",
    "| Key Strategy    | Try every possible split `k`, recursively solve and merge   |\n",
    "| Time Complexity | Usually `O(n^3)` due to 3 nested loops                      |\n",
    "| Use Cases       | Polygon triangulation, merging files/stones, guessing games |\n"
   ]
  },
  {
   "cell_type": "markdown",
   "id": "bc73b2ca-85db-4c70-bff0-f838875bbc2c",
   "metadata": {
    "jp-MarkdownHeadingCollapsed": true
   },
   "source": [
    "## ✅ Problem: Burst Balloons (Leetcode 312)\n",
    "\n",
    "🎯 Burst Balloons is a classic Interval Dynamic Programming problem. It's often considered one of the harder problems because it involves thinking in reverse and modeling DP on intervals, not positions."
   ]
  },
  {
   "cell_type": "raw",
   "id": "263c9845-ad3f-4dc5-b027-ed87e6b75d9f",
   "metadata": {},
   "source": [
    "🧾 Statement:\n",
    "You are given n balloons, each with a number nums[i].\n",
    "You burst them one at a time. When you burst balloon i, you get:\n",
    "\n",
    "                coins = nums[left] * nums[i] * nums[right]\n",
    "                            Where left and right are adjacent balloons after the burst.\n",
    "\n",
    "Return the maximum coins you can collect by bursting all the balloons wisely.\n",
    "\n",
    "                Input: nums = [3,1,5,8]\n",
    "                Output: 167\n",
    "                Explanation:\n",
    "                nums = [3,1,5,8] → add virtual 1 at both ends: [1,3,1,5,8,1]\n",
    "                Best burst order:\n",
    "                burst 1 → 3 * 1 * 5 = 15\n",
    "                burst 5 → 3 * 5 * 8 = 120\n",
    "                burst 3 → 1 * 3 * 8 = 24\n",
    "                burst 8 → 1 * 8 * 1 = 8\n",
    "                Total = 15 + 120 + 24 + 8 = 167\n"
   ]
  },
  {
   "cell_type": "raw",
   "id": "61578985-6bae-4e15-bccd-7d4faa765738",
   "metadata": {},
   "source": [
    "❌ Brute Force: Try All Orders (TLE)\n",
    "Try every permutation of burst orders\n",
    "\n",
    "Each burst changes neighbors → hard to track\n",
    "\n",
    "O(n!) → TLE even for n = 10\n",
    "\n",
    "✅ Optimal Solution: Interval DP (Think Backwards)\n",
    "🔧 Idea:\n",
    "Add 1 to both ends: nums = [1] + nums + [1]\n",
    "\n",
    "Let dp[i][j] be the max coins obtained by bursting balloons in the open interval (i, j)\n",
    "\n",
    "We do not burst i or j, only those between\n",
    "\n",
    "🔁 Transition:\n",
    "For every k in (i+1, j) (balloon to burst last in interval (i, j)):\n",
    "\n",
    "                dp[i][j] = max(dp[i][j],\n",
    "                               nums[i] * nums[k] * nums[j] + dp[i][k] + dp[k][j])\n",
    "\n",
    "This is like choosing k as the last balloon to burst in range (i, j) and splitting the problem into subproblems (i, k) and (k, j)."
   ]
  },
  {
   "cell_type": "code",
   "execution_count": 2,
   "id": "1100cbb5-0637-4fd7-b90c-2f2c0da6a2b1",
   "metadata": {},
   "outputs": [],
   "source": [
    "# ✅ Bottom-Up DP Code\n",
    "\n",
    "def maxCoins(nums):\n",
    "    nums = [1] + nums + [1]\n",
    "    n = len(nums)\n",
    "    dp = [[0]*n for _ in range(n)]\n",
    "\n",
    "    for length in range(2, n):  # interval length\n",
    "        for left in range(0, n - length):\n",
    "            right = left + length\n",
    "            for k in range(left + 1, right):\n",
    "                dp[left][right] = max(dp[left][right],\n",
    "                    nums[left] * nums[k] * nums[right] +\n",
    "                    dp[left][k] + dp[k][right])\n",
    "\n",
    "    return dp[0][n - 1]\n"
   ]
  },
  {
   "cell_type": "raw",
   "id": "7d97827f-c635-424c-a9f5-ab5eecee19e4",
   "metadata": {},
   "source": [
    "⏱️ Time: O(n³)\n",
    "💾 Space: O(n²)\n",
    "Works for n ≤ 500 (acceptable for Leetcode)"
   ]
  },
  {
   "cell_type": "markdown",
   "id": "4bfda019-0966-4dd0-83de-08f8710f56b9",
   "metadata": {},
   "source": [
    "🧠 Why Think Backwards?\n",
    "Forward bursting causes neighbors to shift (messy)\n",
    "\n",
    "Instead, choose the last balloon to burst in an interval → stable neighbors\n",
    "\n",
    "Elegant reversal of logic → fits interval DP template\n",
    "\n",
    "✅ Summary Table\n",
    "\n",
    "| Approach    | Time  | Space | Notes                      |\n",
    "| ----------- | ----- | ----- | -------------------------- |\n",
    "| Brute Force | O(n!) | O(n)  | ❌ TLE                      |\n",
    "| Interval DP | O(n³) | O(n²) | ✅ Best solution (template) |\n",
    "\n"
   ]
  },
  {
   "cell_type": "raw",
   "id": "50d37a5e-cae5-43f4-ad69-9bcf84e2de34",
   "metadata": {},
   "source": [
    "🔁 Follow-up Interview Questions\n",
    "Print actual bursting order?\n",
    "→ Store k in another table, reconstruct using traceback\n",
    "\n",
    "Variants:\n",
    "\n",
    "Minimum cost to burst balloons\n",
    "\n",
    "Burst with color constraints or reuse rules\n",
    "\n",
    "Memory optimization:\n",
    "→ Can reduce space in some variants, but O(n²) needed for full DP\n"
   ]
  },
  {
   "cell_type": "raw",
   "id": "eb3ecb59-f760-4f5f-a47b-0bfa79a4d4dc",
   "metadata": {},
   "source": [
    "# 🧠 Interval DP Template\n",
    "\n",
    "for length in range(2, n):\n",
    "    for left in range(0, n - length):\n",
    "        right = left + length\n",
    "        for k in range(left + 1, right):\n",
    "            dp[left][right] = max(dp[left][right],\n",
    "                dp[left][k] + dp[k][right] + value)"
   ]
  },
  {
   "cell_type": "raw",
   "id": "82764d6e-b8f6-4a0c-b9f3-ffb1edbfa489",
   "metadata": {},
   "source": [
    "Would you like to:\n",
    "\n",
    "Explore print burst order logic?\n",
    "\n",
    "Solve Matrix Chain Multiplication, which uses the same template?\n",
    "\n",
    "Or shift to Palindrome Partitioning (another interval DP)?\n",
    "\n",
    "You're deep into advanced DP now — great momentum! 🧠🔥"
   ]
  },
  {
   "cell_type": "markdown",
   "id": "9195ef86-ec5c-4439-8687-bf426a6e0e14",
   "metadata": {},
   "source": [
    "## next"
   ]
  },
  {
   "cell_type": "code",
   "execution_count": null,
   "id": "5560fb1c-2fcd-4f1e-b390-6e230babfaa0",
   "metadata": {},
   "outputs": [],
   "source": []
  }
 ],
 "metadata": {
  "kernelspec": {
   "display_name": "Python 3 (ipykernel)",
   "language": "python",
   "name": "python3"
  },
  "language_info": {
   "codemirror_mode": {
    "name": "ipython",
    "version": 3
   },
   "file_extension": ".py",
   "mimetype": "text/x-python",
   "name": "python",
   "nbconvert_exporter": "python",
   "pygments_lexer": "ipython3",
   "version": "3.12.1"
  }
 },
 "nbformat": 4,
 "nbformat_minor": 5
}
