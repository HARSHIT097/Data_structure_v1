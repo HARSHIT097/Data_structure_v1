{
 "cells": [
  {
   "cell_type": "markdown",
   "id": "9e271e50-d273-40a7-9f73-574467dbd673",
   "metadata": {},
   "source": [
    "## 983. Minimum Cost For Tickets"
   ]
  },
  {
   "cell_type": "raw",
   "id": "f5266e51-e88f-4bbf-bbac-41b6d415316f",
   "metadata": {},
   "source": [
    "You have planned some train traveling one year in advance. The days of the year in which you will travel are given as an integer array days. Each day is an integer from 1 to 365.\n",
    "\n",
    "                Train tickets are sold in three different ways:\n",
    "                \n",
    "                a 1-day pass is sold for costs[0] dollars,\n",
    "                a 7-day pass is sold for costs[1] dollars, and\n",
    "                a 30-day pass is sold for costs[2] dollars.\n",
    "                The passes allow that many days of consecutive travel.\n",
    "                \n",
    "                For example, if we get a 7-day pass on day 2, then we can travel for 7 days: 2, 3, 4, 5, 6, 7, and 8.\n",
    "                Return the minimum number of dollars you need to travel every day in the given list of days.\n",
    "                \n",
    "                 \n",
    "                \n",
    "                Example 1:\n",
    "                \n",
    "                Input: days = [1,4,6,7,8,20], costs = [2,7,15]\n",
    "                Output: 11\n",
    "                Explanation: For example, here is one way to buy passes that lets you travel your travel plan:\n",
    "                On day 1, you bought a 1-day pass for costs[0] = $2, which covered day 1.\n",
    "                On day 3, you bought a 7-day pass for costs[1] = $7, which covered days 3, 4, ..., 9.\n",
    "                On day 20, you bought a 1-day pass for costs[0] = $2, which covered day 20.\n",
    "                In total, you spent $11 and covered all the days of your travel.\n",
    "                Example 2:\n",
    "                \n",
    "                Input: days = [1,2,3,4,5,6,7,8,9,10,30,31], costs = [2,7,15]\n",
    "                Output: 17\n",
    "                Explanation: For example, here is one way to buy passes that lets you travel your travel plan:\n",
    "                On day 1, you bought a 30-day pass for costs[2] = $15 which covered days 1, 2, ..., 30.\n",
    "                On day 31, you bought a 1-day pass for costs[0] = $2 which covered day 31.\n",
    "                In total, you spent $17 and covered all the days of your travel.\n",
    "                 \n",
    "                \n",
    "                Constraints:\n",
    "                \n",
    "                1 <= days.length <= 365\n",
    "                1 <= days[i] <= 365\n",
    "                days is in strictly increasing order.\n",
    "                costs.length == 3\n",
    "                1 <= costs[i] <= 1000"
   ]
  },
  {
   "cell_type": "raw",
   "id": "07ee9a4b-5730-405c-bc7e-3b937d40589f",
   "metadata": {},
   "source": [
    "Minimum Cost For Tickets (DP - Interval Based)\n",
    "🔹 Problem: You have days[] where you need a ticket. You can buy:\n",
    "\n",
    "1-day ticket for costs[0]\n",
    "7-day ticket for costs[1]\n",
    "30-day ticket for costs[2]\n",
    "Find minimum cost to cover all travel days.\n",
    "\n",
    "            Approach: Dynamic Programming (Bottom-Up)\n",
    "            State Definition:\n",
    "            \n",
    "            dp[i] → Minimum cost to travel up to day i.\n",
    "            Transition:\n",
    "            \n",
    "            If i is not a travel day → dp[i] = dp[i-1]\n",
    "            Otherwise:\n",
    "            \n",
    "            dp[i]=min(dp[i−1]+costs[0],dp[i−7]+costs[1],dp[i−30]+costs[2])\n",
    "            (Handle out-of-bounds cases properly.)\n",
    "            Base Case:\n",
    "            \n",
    "            dp[0] = 0 (No cost before starting).\n",
    "⏳ Time Complexity: O(n)\n",
    "💾 Space Complexity: O(n) (Can optimize using a deque for a sliding window)"
   ]
  },
  {
   "cell_type": "code",
   "execution_count": 1,
   "id": "5f1f41b4-bcff-4d85-8561-6f79aad52829",
   "metadata": {},
   "outputs": [
    {
     "name": "stdout",
     "output_type": "stream",
     "text": [
      "11\n"
     ]
    }
   ],
   "source": [
    "def mincostTickets(days, costs):\n",
    "    last_day = days[-1]\n",
    "    days_set = set(days)\n",
    "    dp = [0] * (last_day + 1)\n",
    "\n",
    "    for i in range(1, last_day + 1):\n",
    "        if i not in days_set:\n",
    "            dp[i] = dp[i - 1]  # No need to buy a ticket\n",
    "        else:\n",
    "            dp[i] = min(dp[max(0, i - 1)] + costs[0], \n",
    "                        dp[max(0, i - 7)] + costs[1], \n",
    "                        dp[max(0, i - 30)] + costs[2])\n",
    "    \n",
    "    return dp[last_day]\n",
    "\n",
    "print(mincostTickets([1,4,6,7,8,20], [2,7,15]))  # Output: 11"
   ]
  },
  {
   "cell_type": "markdown",
   "id": "c575efca-b141-4464-b4c7-8b8d5effb5d7",
   "metadata": {},
   "source": [
    "# 🧩 Pattern 3: Merging Intervals"
   ]
  },
  {
   "cell_type": "markdown",
   "id": "90716827-5d97-4e23-b46c-b112d131bca2",
   "metadata": {},
   "source": [
    "##### 📘 Problem Statement Template\n",
    "You are given an array (or structure) where performing an operation on a subinterval yields some cost, score, or structure (e.g., merging, bursting, triangulating, etc.).\n",
    "\n",
    "Your task is to partition the interval optimally (by trying every possible position k in the range [i, j]) and compute the optimal (usually minimum or maximum) value of merging or processing this interval.\n",
    "\n",
    "Return the best result for the entire interval (e.g., from index 0 to n-1).\n",
    "\n",
    "🧠 Core Idea\n",
    "Split every interval [i, j] at every possible position k, and compute the optimal result by recursively solving left [i, k] and right [k+1, j], and then merging their result with a cost/value at k.\n",
    "\n",
    "##### General recurrence:\n",
    "    \n",
    "dp[i][j] = min/max(dp[i][k] + merge_result[k] + dp[k+1][j])\n",
    "\n",
    "Think of this as a \"divide & merge\" approach, where:\n",
    "\n",
    "You divide the problem at every possible index k\n",
    "\n",
    "Recursively solve left and right intervals\n",
    "\n",
    "Merge the two sub-solutions using a given formula"
   ]
  },
  {
   "cell_type": "code",
   "execution_count": 2,
   "id": "2dfaf27e-8ff6-460d-a8da-0ecb5fbcb9d1",
   "metadata": {},
   "outputs": [],
   "source": [
    "# ✅ Top-Down (Memoized Recursion)\n",
    "\n",
    "def dfs(i, j):\n",
    "    if i > j:\n",
    "        return 0\n",
    "    if (i, j) in memo:\n",
    "        return memo[(i, j)]\n",
    "\n",
    "    result = float('inf')  # or -inf for max\n",
    "    for k in range(i, j + 1):\n",
    "        left = dfs(i, k - 1)\n",
    "        right = dfs(k + 1, j)\n",
    "        result = min(result, left + merge_cost(k, i, j) + right)\n",
    "    memo[(i, j)] = result\n",
    "    return result\n"
   ]
  },
  {
   "cell_type": "raw",
   "id": "ab0b4fee-84de-4ec1-a266-299b6bdab57c",
   "metadata": {},
   "source": [
    "# 🔁 Bottom-Up (Tabulation)\n",
    "\n",
    "dp = [[inf] * n for _ in range(n)]\n",
    "\n",
    "for length in range(1, n):  # length of interval\n",
    "    for i in range(n - length):\n",
    "        j = i + length\n",
    "        for k in range(i, j):\n",
    "            dp[i][j] = min(dp[i][j], dp[i][k] + merge_result[k] + dp[k+1][j])"
   ]
  },
  {
   "cell_type": "markdown",
   "id": "128b6573-e097-4f42-a68b-0d71dd73a768",
   "metadata": {},
   "source": [
    "🔍 Similar Problems Using This Pattern\n",
    "\n",
    "| Problem                                                                                                               | Description                                       |\n",
    "| --------------------------------------------------------------------------------------------------------------------- | ------------------------------------------------- |\n",
    "| [1130. Minimum Cost Tree From Leaf Values](https://leetcode.com/problems/minimum-cost-tree-from-leaf-values/)         | Build a binary tree with minimum cost from leaves |\n",
    "| [312. Burst Balloons](https://leetcode.com/problems/burst-balloons/)                                                  | Max coins from bursting balloons in best order    |\n",
    "| [1000. Minimum Cost to Merge Stones](https://leetcode.com/problems/minimum-cost-to-merge-stones/)                     | Merge adjacent piles of stones                    |\n",
    "| [1039. Minimum Score Triangulation of Polygon](https://leetcode.com/problems/minimum-score-triangulation-of-polygon/) | Min cost of triangulating a polygon               |\n",
    "| [546. Remove Boxes](https://leetcode.com/problems/remove-boxes/)                                                      | Max points from removing boxes in groups          |\n",
    "| [96. Unique Binary Search Trees](https://leetcode.com/problems/unique-binary-search-trees/)                           | Count unique BSTs that can be formed              |\n",
    "| [375. Guess Number Higher or Lower II](https://leetcode.com/problems/guess-number-higher-or-lower-ii/)                | Min cost to guarantee win a number guessing game  |\n",
    "\n"
   ]
  },
  {
   "cell_type": "markdown",
   "id": "7e7e7e7f-aa12-4a71-9872-99d3abfe2522",
   "metadata": {},
   "source": [
    "📝 Summary\n",
    "\n",
    "| Feature         | Description                                                 |\n",
    "| --------------- | ----------------------------------------------------------- |\n",
    "| Problem Type    | Interval Partitioning / Merging                             |\n",
    "| Common Formula  | `dp[i][j] = min/max(dp[i][k] + result[k] + dp[k+1][j])`     |\n",
    "| Key Strategy    | Try every possible split `k`, recursively solve and merge   |\n",
    "| Time Complexity | Usually `O(n^3)` due to 3 nested loops                      |\n",
    "| Use Cases       | Polygon triangulation, merging files/stones, guessing games |\n"
   ]
  },
  {
   "cell_type": "code",
   "execution_count": null,
   "id": "d72f5297-8c1d-4f04-9bd8-87ec0af89196",
   "metadata": {},
   "outputs": [],
   "source": []
  }
 ],
 "metadata": {
  "kernelspec": {
   "display_name": "Python 3 (ipykernel)",
   "language": "python",
   "name": "python3"
  },
  "language_info": {
   "codemirror_mode": {
    "name": "ipython",
    "version": 3
   },
   "file_extension": ".py",
   "mimetype": "text/x-python",
   "name": "python",
   "nbconvert_exporter": "python",
   "pygments_lexer": "ipython3",
   "version": "3.12.7"
  }
 },
 "nbformat": 4,
 "nbformat_minor": 5
}
