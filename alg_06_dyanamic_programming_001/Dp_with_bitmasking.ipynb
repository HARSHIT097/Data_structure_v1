{
 "cells": [
  {
   "cell_type": "code",
   "execution_count": 1,
   "id": "b9bed253-5230-4422-a795-73a4da60525d",
   "metadata": {},
   "outputs": [],
   "source": [
    "# 44. DP with Bitmasking (TSP, Assignments, Matching)\n",
    "# ✔ Problems: Traveling Salesman, Assignments, Matching Problems\n",
    "def traveling_salesman(n, dist):\n",
    "    @lru_cache(None)\n",
    "    def dp(mask, i):\n",
    "        if mask == (1 << n) - 1:  # All cities visited\n",
    "            return dist[i][0]  # Return to start\n",
    "\n",
    "        result = float('inf')\n",
    "        for j in range(n):\n",
    "            if mask & (1 << j) == 0:  # Not visited\n",
    "                result = min(result, dist[i][j] + dp(mask | (1 << j), j))\n",
    "\n",
    "        return result\n",
    "\n",
    "    return dp(1, 0)  # Start from city 0 with only it visited\n"
   ]
  },
  {
   "cell_type": "raw",
   "id": "08c58d10-ba11-4bf3-a488-efc4addd5a41",
   "metadata": {},
   "source": [
    "0/1 Knapsack Problem → Given weights and values, maximize value without exceeding weight.\n",
    "Solution: Use *Knapsack DP."
   ]
  },
  {
   "cell_type": "code",
   "execution_count": null,
   "id": "4ca6a0c6-13f5-45d2-8c56-069d63496b02",
   "metadata": {},
   "outputs": [],
   "source": []
  }
 ],
 "metadata": {
  "kernelspec": {
   "display_name": "Python 3 (ipykernel)",
   "language": "python",
   "name": "python3"
  },
  "language_info": {
   "codemirror_mode": {
    "name": "ipython",
    "version": 3
   },
   "file_extension": ".py",
   "mimetype": "text/x-python",
   "name": "python",
   "nbconvert_exporter": "python",
   "pygments_lexer": "ipython3",
   "version": "3.12.7"
  }
 },
 "nbformat": 4,
 "nbformat_minor": 5
}
