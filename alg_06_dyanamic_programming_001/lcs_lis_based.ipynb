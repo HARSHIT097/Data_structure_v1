{
 "cells": [
  {
   "cell_type": "code",
   "execution_count": 1,
   "id": "c87efb1c-9d21-4fce-b88f-2b4a806f6ee6",
   "metadata": {},
   "outputs": [],
   "source": [
    "# 3. DP on Subsequences (Knapsack, LCS, LIS)\n",
    "# ✔ Problems: 0/1 Knapsack, Subset Sum, Longest Increasing Subsequence, Longest Common Subsequence\n",
    "\n",
    "def knapsack(weights, values, capacity):\n",
    "    n = len(weights)\n",
    "    dp = [[0] * (capacity + 1) for _ in range(n + 1)]\n",
    "\n",
    "    for i in range(1, n + 1):\n",
    "        for w in range(capacity + 1):\n",
    "            if weights[i-1] > w:\n",
    "                dp[i][w] = dp[i-1][w]  # Cannot take this item\n",
    "            else:\n",
    "                dp[i][w] = max(dp[i-1][w], values[i-1] + dp[i-1][w - weights[i-1]])\n",
    "\n",
    "    return dp[n][capacity]"
   ]
  },
  {
   "cell_type": "raw",
   "id": "4edaebdc-6500-4f14-88d9-700a3f25ab41",
   "metadata": {},
   "source": [
    "Longest Increasing Subsequence (LIS) → Find the longest increasing subsequence.\n",
    "Solution: Use *DP on Subsequences (Binary Search for O(N log N))."
   ]
  },
  {
   "cell_type": "raw",
   "id": "4e6114d6-395e-41bf-b0d9-94e3a797084b",
   "metadata": {},
   "source": [
    " Longest Common Subsequence (LCS) → Find the longest subsequence common to two strings.\n",
    "    Solution: Use 2D DP with string matching transition."
   ]
  },
  {
   "cell_type": "code",
   "execution_count": null,
   "id": "3ad657fb-ae83-44a9-8966-33aa8ed8f4c2",
   "metadata": {},
   "outputs": [],
   "source": [
    "Longest Increasing Subsequence (LIS) → Find the length of the longest increasing subsequence.\n",
    "    Solution: Use 1D DP with binary search (O(N log N))"
   ]
  }
 ],
 "metadata": {
  "kernelspec": {
   "display_name": "Python 3 (ipykernel)",
   "language": "python",
   "name": "python3"
  },
  "language_info": {
   "codemirror_mode": {
    "name": "ipython",
    "version": 3
   },
   "file_extension": ".py",
   "mimetype": "text/x-python",
   "name": "python",
   "nbconvert_exporter": "python",
   "pygments_lexer": "ipython3",
   "version": "3.12.7"
  }
 },
 "nbformat": 4,
 "nbformat_minor": 5
}
