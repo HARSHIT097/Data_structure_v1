{
 "cells": [
  {
   "cell_type": "markdown",
   "id": "d2788e84-9239-4a06-8a4b-76a2ef08ec2d",
   "metadata": {},
   "source": [
    "# General 1D all medium"
   ]
  },
  {
   "cell_type": "markdown",
   "id": "c85bb115-a959-49c7-a186-29491858ac14",
   "metadata": {},
   "source": [
    "## 2140. Solving Questions With Brainpower"
   ]
  },
  {
   "cell_type": "markdown",
   "id": "e8046b5b-f946-42d4-815a-10ad2184942d",
   "metadata": {},
   "source": [
    "You are given a 0-indexed 2D integer array questions where questions[i] = [pointsi, brainpoweri].\n",
    "\n",
    "The array describes the questions of an exam, where you have to process the questions in order (i.e., starting from question 0) and make a decision whether to solve or skip each question. Solving question i will earn you pointsi points but you will be unable to solve each of the next brainpoweri questions. If you skip question i, you get to make the decision on the next question.\n",
    "\n",
    "For example, given questions = [[3, 2], [4, 3], [4, 4], [2, 5]]:\n",
    "If question 0 is solved, you will earn 3 points but you will be unable to solve questions 1 and 2.\n",
    "If instead, question 0 is skipped and question 1 is solved, you will earn 4 points but you will be unable to solve questions 2 and 3.\n",
    "Return the maximum points you can earn for the exam.\n",
    "\n",
    " \n",
    "\n",
    "            Example 1:\n",
    "            \n",
    "            Input: questions = [[3,2],[4,3],[4,4],[2,5]]\n",
    "            Output: 5\n",
    "            Explanation: The maximum points can be earned by solving questions 0 and 3.\n",
    "            - Solve question 0: Earn 3 points, will be unable to solve the next 2 questions\n",
    "            - Unable to solve questions 1 and 2\n",
    "            - Solve question 3: Earn 2 points\n",
    "            Total points earned: 3 + 2 = 5. There is no other way to earn 5 or more points.\n",
    "            Example 2:\n",
    "            \n",
    "            Input: questions = [[1,1],[2,2],[3,3],[4,4],[5,5]]\n",
    "            Output: 7\n",
    "            Explanation: The maximum points can be earned by solving questions 1 and 4.\n",
    "            - Skip question 0\n",
    "            - Solve question 1: Earn 2 points, will be unable to solve the next 2 questions\n",
    "            - Unable to solve questions 2 and 3\n",
    "            - Solve question 4: Earn 5 points\n",
    "            Total points earned: 2 + 5 = 7. There is no other way to earn 7 or more points.\n",
    "             \n",
    "            \n",
    "            Constraints:\n",
    "            \n",
    "            1 <= questions.length <= 105\n",
    "            questions[i].length == 2\n",
    "            1 <= pointsi, brainpoweri <= 105"
   ]
  },
  {
   "cell_type": "raw",
   "id": "c8b48e56-7c29-4916-a84b-169488ae8ee3",
   "metadata": {},
   "source": [
    "🔹 Problem: Given a questions array where each question has [points, brainpower], find the maximum points you can earn by solving non-overlapping questions.\n",
    "\n",
    "If you solve questions[i], you must skip the next brainpower[i] questions.\n",
    "Approach: Dynamic Programming (Top-Down or Bottom-Up)\n",
    "\n",
    "- State Definition:\n",
    "\n",
    "        dp[i] → Maximum points possible starting from question i.\n",
    "\n",
    "- Transition:\n",
    "        \n",
    "        Either skip this question:\n",
    "        dp[i]=dp[i+1]\n",
    "        Or solve it and jump to the next available question:\n",
    "        \n",
    "        dp[i]=max(dp[i],questions[i][0]+dp[i+1+questions[i][1]])\n",
    "        Base Case:\n",
    "        \n",
    "        dp[n] = 0 (Past last question)\n",
    "\n",
    "\n",
    "  ⏳ Time Complexity:O(n)\n",
    "💾 Space Complexity: O(n) (Optimizable to O(1))"
   ]
  },
  {
   "cell_type": "code",
   "execution_count": 1,
   "id": "058b39d4-aaa8-4f93-9b4c-fb6898dc03f9",
   "metadata": {},
   "outputs": [
    {
     "name": "stdout",
     "output_type": "stream",
     "text": [
      "5\n"
     ]
    }
   ],
   "source": [
    "def mostPoints(questions):\n",
    "    n = len(questions)\n",
    "    dp = [0] * (n + 1)\n",
    "\n",
    "    for i in range(n - 1, -1, -1):\n",
    "        points, brainpower = questions[i]\n",
    "        next_index = i + 1 + brainpower\n",
    "        dp[i] = max(dp[i + 1], points + (dp[next_index] if next_index < n else 0))\n",
    "\n",
    "    return dp[0]\n",
    "\n",
    "print(mostPoints([[3,2],[4,3],[4,4],[2,5]]))  # Output: 5"
   ]
  },
  {
   "cell_type": "markdown",
   "id": "37544268-fa59-4709-8a73-a73955cd4332",
   "metadata": {},
   "source": [
    "## 790. Domino and Tromino Tiling"
   ]
  },
  {
   "cell_type": "markdown",
   "id": "f4b67fa1-4670-4bbd-b0eb-dc2b3f508262",
   "metadata": {},
   "source": [
    "You have two types of tiles: a 2 x 1 domino shape and a tromino shape. You may rotate these shapes.\n",
    "\n",
    "\n",
    "Given an integer n, return the number of ways to tile an 2 x n board. Since the answer may be very large, return it modulo 109 + 7.\n",
    "\n",
    "In a tiling, every square must be covered by a tile. Two tilings are different if and only if there are two 4-directionally adjacent cells on the board such that exactly one of the tilings has both squares occupied by a tile.\n",
    "           \n",
    "            \n",
    "            Example 1:\n",
    "            \n",
    "            \n",
    "            Input: n = 3\n",
    "            Output: 5\n",
    "            Explanation: The five different ways are show above.\n",
    "            Example 2:\n",
    "            \n",
    "            Input: n = 1\n",
    "            Output: 1"
   ]
  },
  {
   "cell_type": "raw",
   "id": "dd1123f7-9329-42e9-9b67-bbd216d2df38",
   "metadata": {},
   "source": [
    "3. Domino and Tromino Tiling (Fibonacci-like DP)\n",
    "            🔹 Problem: Find the number of ways to tile a 2 x n board using:\n",
    "            \n",
    "            2×1 dominoes\n",
    "            L-shaped trominoes\n",
    "            Approach: Dynamic Programming (Bottom-Up)\n",
    "            State Definition:\n",
    "            \n",
    "            dp[i] → Number of ways to tile a 2 × i board.\n",
    "            Transition:\n",
    "            \n",
    "            Domino placement: Cover the last 2 × 1 space → dp[i] = dp[i - 1]\n",
    "            Two vertical dominoes: Cover last 2 × 2 → dp[i] += dp[i - 2]\n",
    "            Tromino placement: Covers 2 × 3 → dp[i] += 2 * dp[i - 3] (because of two configurations)\n",
    "            Base Case:\n",
    "            \n",
    "            dp[0] = 1 (Empty board)\n",
    "            dp[1] = 1 (One domino)\n",
    "            dp[2] = 2 (Two vertical or one horizontal)"
   ]
  },
  {
   "cell_type": "code",
   "execution_count": null,
   "id": "0000baa6-0ab7-48de-bebf-6ba631482c27",
   "metadata": {},
   "outputs": [],
   "source": []
  },
  {
   "cell_type": "code",
   "execution_count": 3,
   "id": "b80e6cc7-5e98-4e9a-8ca2-6587a5831e00",
   "metadata": {},
   "outputs": [
    {
     "name": "stdout",
     "output_type": "stream",
     "text": [
      "5\n"
     ]
    }
   ],
   "source": [
    "def numTilings(n):\n",
    "    if n == 1: return 1\n",
    "    if n == 2: return 2\n",
    "    MOD = 10**9 + 7\n",
    "    dp = [0] * (n + 1)\n",
    "    dp[0], dp[1], dp[2] = 1, 1, 2  \n",
    "\n",
    "    for i in range(3, n + 1):\n",
    "        dp[i] = (dp[i - 1] + dp[i - 2] + 2 * sum(dp[:i-2])) % MOD  # Sum accounts for tromino placements\n",
    "\n",
    "    return dp[n]\n",
    "\n",
    "print(numTilings(3))  # Output: 5\n"
   ]
  },
  {
   "cell_type": "raw",
   "id": "f5a0a1f6-8518-4f6c-8944-198b56cd5ede",
   "metadata": {},
   "source": [
    "⏳ Time Complexity: O(n)\n",
    "💾 Space Complexity: O(n) (Can be optimized to O(1) using a sliding window approach)"
   ]
  },
  {
   "cell_type": "raw",
   "id": "1e19073d-d7ea-4769-a084-f8bb8f5f659a",
   "metadata": {},
   "source": [
    "            Decode Ways → DP on Strings, similar to Fibonacci sequence.\n",
    "            Min Cost for Tickets → DP on Intervals, Sliding Window Optimization Possible.\n",
    "            Domino & Tromino Tiling → Combinatorial DP, related to Fibonacci but with additional states."
   ]
  },
  {
   "cell_type": "markdown",
   "id": "64a591e1-0bcf-4ea8-9741-4023fddf7508",
   "metadata": {},
   "source": [
    "## Next"
   ]
  },
  {
   "cell_type": "code",
   "execution_count": null,
   "id": "d42a06dc-bc51-4665-8ddf-7b9818805ec1",
   "metadata": {},
   "outputs": [],
   "source": []
  }
 ],
 "metadata": {
  "kernelspec": {
   "display_name": "Python 3 (ipykernel)",
   "language": "python",
   "name": "python3"
  },
  "language_info": {
   "codemirror_mode": {
    "name": "ipython",
    "version": 3
   },
   "file_extension": ".py",
   "mimetype": "text/x-python",
   "name": "python",
   "nbconvert_exporter": "python",
   "pygments_lexer": "ipython3",
   "version": "3.12.7"
  }
 },
 "nbformat": 4,
 "nbformat_minor": 5
}
