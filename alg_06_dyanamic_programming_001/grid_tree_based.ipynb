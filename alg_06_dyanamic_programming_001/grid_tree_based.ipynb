{
 "cells": [
  {
   "cell_type": "code",
   "execution_count": 1,
   "id": "81e558c8-ab87-4adb-af77-e232750d5f0f",
   "metadata": {},
   "outputs": [],
   "source": [
    "# 2D DP (Grid Problems, Knapsack, Edit Distance)\n",
    "# ✔ Problems: Minimum Path Sum, Unique Paths, Edit Distance, Knapsack\n",
    "def minPathSum(grid):\n",
    "    m, n = len(grid), len(grid[0])\n",
    "    dp = [[0] * n for _ in range(m)]\n",
    "    dp[0][0] = grid[0][0]\n",
    "\n",
    "    for i in range(m):\n",
    "        for j in range(n):\n",
    "            if i == 0 and j == 0:\n",
    "                continue\n",
    "            dp[i][j] = grid[i][j] + min(dp[i-1][j] if i > 0 else float('inf'),\n",
    "                                        dp[i][j-1] if j > 0 else float('inf'))\n",
    "\n",
    "    return dp[-1][-1]"
   ]
  },
  {
   "cell_type": "code",
   "execution_count": 2,
   "id": "19fa5f51-af82-4b8b-b27a-7204f529303e",
   "metadata": {},
   "outputs": [],
   "source": [
    "# Template for 2D DP (Grid Problems)\n",
    "# Used for problems like path-finding in a matrix.\n",
    "\n",
    "def uniquePaths(m, n):\n",
    "    dp = [[1] * n for _ in range(m)]  # Initialize DP table\n",
    "\n",
    "    for i in range(1, m):\n",
    "        for j in range(1, n):\n",
    "            dp[i][j] = dp[i-1][j] + dp[i][j-1]  # Transition formula\n",
    "    \n",
    "    return dp[m-1][n-1]  # Return bottom-right cell value"
   ]
  },
  {
   "cell_type": "raw",
   "id": "dce2f933-ae7b-4078-91d1-10fbb38b42ce",
   "metadata": {},
   "source": [
    "Edit Distance (Levenshtein Distance) → Convert one string into another with minimum edits.\n",
    "Solution: Use *2D DP (Grid-like transitions)."
   ]
  },
  {
   "cell_type": "raw",
   "id": "fc0ca6b3-e031-4537-bd7f-134019261f35",
   "metadata": {},
   "source": [
    " Edit Distance (Levenshtein Distance) → Find the minimum number of operations to convert one string to another.\n",
    "    Solution: Use 2D DP with insert/delete/replace operations."
   ]
  },
  {
   "cell_type": "raw",
   "id": "0cced3fc-d7c2-42ce-a0cb-65fad71bb8e1",
   "metadata": {},
   "source": [
    "    \n",
    "    Minimum Path Sum in a Grid → Find the minimum sum path from top-left to bottom-right in a grid.\n",
    "    Solution: Use 2D DP transition formula."
   ]
  },
  {
   "cell_type": "code",
   "execution_count": null,
   "id": "dbabcd9d-11f6-4924-aace-83298cecdf44",
   "metadata": {},
   "outputs": [],
   "source": [
    "    2D DP Problems (Grid & Substrings)\n",
    "    Unique Paths in a Grid → Find the number of ways to reach the bottom-right of an m x n grid.\n",
    "    Solution: Use 2D DP template."
   ]
  }
 ],
 "metadata": {
  "kernelspec": {
   "display_name": "Python 3 (ipykernel)",
   "language": "python",
   "name": "python3"
  },
  "language_info": {
   "codemirror_mode": {
    "name": "ipython",
    "version": 3
   },
   "file_extension": ".py",
   "mimetype": "text/x-python",
   "name": "python",
   "nbconvert_exporter": "python",
   "pygments_lexer": "ipython3",
   "version": "3.12.7"
  }
 },
 "nbformat": 4,
 "nbformat_minor": 5
}
