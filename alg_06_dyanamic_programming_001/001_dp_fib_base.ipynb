{
 "cells": [
  {
   "cell_type": "code",
   "execution_count": 1,
   "id": "9366b121-6f01-4681-ade2-9855dca12c2a",
   "metadata": {},
   "outputs": [],
   "source": [
    "# 1. 1D DP (Fibonacci, Climbing Stairs, House Robber, max sum Subarray)\n",
    "\n",
    "def fib(n):\n",
    "    if n <= 1:\n",
    "        return n\n",
    "\n",
    "    dp = [0] * (n + 1)\n",
    "    dp[1] = 1\n",
    "\n",
    "    for i in range(2, n + 1):\n",
    "        dp[i] = dp[i - 1] + dp[i - 2]\n",
    "\n",
    "    return dp[n]"
   ]
  },
  {
   "cell_type": "raw",
   "id": "540b35bd-0e81-4e6c-83e0-1b89078fff9a",
   "metadata": {},
   "source": [
    "Climbing Stairs → Given n steps, you can climb 1 or 2 at a time. How many ways?\n",
    "Solution: Use *1D DP (Fibonacci variant)."
   ]
  },
  {
   "cell_type": "raw",
   "id": "48d2a637-6b3b-4691-96e0-d5824c1127b7",
   "metadata": {},
   "source": [
    "    1D DP Problems\n",
    "    Climbing Stairs → Find the number of ways to reach the top of n steps, where you can take 1 or 2 steps at a time.\n",
    "    Solution: Use 1D DP template.\n",
    "    \n",
    "    House Robber → Given a list of non-adjacent houses with money, find the maximum amount that can be robbed.\n",
    "    Solution: Use 1D DP with max-robbery transition."
   ]
  },
  {
   "cell_type": "markdown",
   "id": "4415782f-78bc-44af-bf33-1eb5522d2233",
   "metadata": {
    "jp-MarkdownHeadingCollapsed": true
   },
   "source": [
    "## Climbing Stairs -- LC 70 -- E"
   ]
  },
  {
   "cell_type": "markdown",
   "id": "5cb79f2e-32d3-404f-b63f-b855459a6c6c",
   "metadata": {},
   "source": [
    "You are climbing a staircase. It takes n steps to reach the top.\n",
    "\n",
    "Each time you can either climb 1 or 2 steps. In how many distinct ways can you climb to the top?\n",
    "\n",
    "            Example 1:\n",
    "            \n",
    "            Input: n = 2\n",
    "            Output: 2\n",
    "            Explanation: There are two ways to climb to the top.\n",
    "            1. 1 step + 1 step\n",
    "            2. 2 steps\n",
    "            Example 2:\n",
    "            \n",
    "            Input: n = 3\n",
    "            Output: 3\n",
    "            Explanation: There are three ways to climb to the top.\n",
    "            1. 1 step + 1 step + 1 step\n",
    "            2. 1 step + 2 steps\n",
    "            3. 2 steps + 1 step\n",
    "             \n",
    "            \n",
    "            Constraints:\n",
    "            \n",
    "            1 <= n <= 45"
   ]
  },
  {
   "cell_type": "raw",
   "id": "60c2a5d9-e6fb-423a-9aa7-138f3f59f04c",
   "metadata": {},
   "source": [
    "1. Base Template - Recursion (Top-Down)\n",
    "This follows recursive DP (memoization).\n",
    "\n",
    "Recurrence Relation:\n",
    "Since you can take either 1 step or 2 steps:\n",
    "\n",
    "            f(n)=f(n−1)+f(n−2)\n",
    "            where:\n",
    "            \n",
    "            f(n-1): Ways to reach the top if you take 1 step.\n",
    "            f(n-2): Ways to reach the top if you take 2 steps.\n",
    "This is similar to the Fibonacci sequence."
   ]
  },
  {
   "cell_type": "code",
   "execution_count": 2,
   "id": "8ea93075-9c20-4c4d-b434-7ae03b21be00",
   "metadata": {},
   "outputs": [
    {
     "name": "stdout",
     "output_type": "stream",
     "text": [
      "8\n"
     ]
    }
   ],
   "source": [
    "def climbStairs(n):\n",
    "    if n <= 2:\n",
    "        return n\n",
    "    return climbStairs(n - 1) + climbStairs(n - 2)\n",
    "\n",
    "print(climbStairs(5))  # Output: 8"
   ]
  },
  {
   "cell_type": "raw",
   "id": "fc52faf4-1736-4d1b-8649-1c2671d8d6d0",
   "metadata": {},
   "source": [
    "⏳ Time Complexity: O(2 ^n ) (Exponential)\n",
    "💾 Space Complexity: O(n) (Recursion Stack)"
   ]
  },
  {
   "cell_type": "markdown",
   "id": "45e7f88c-0747-4d42-82dd-56d6283860ac",
   "metadata": {},
   "source": [
    "###### 2. Optimized DP (Top-Down - Memoization)\n",
    "Instead of recomputing the same values, we store them in a cache (dictionary or list).\n",
    "\n",
    "- ⏳ Time Complexity: O(n)\n",
    "\n",
    "- 💾 Space Complexity: O(n) (Recursion Stack + Memo Table)"
   ]
  },
  {
   "cell_type": "code",
   "execution_count": 3,
   "id": "c8fd5e0a-baaf-4a28-ada4-b2e16dfcb36d",
   "metadata": {},
   "outputs": [
    {
     "name": "stdout",
     "output_type": "stream",
     "text": [
      "8\n"
     ]
    }
   ],
   "source": [
    "def climbStairs(n, memo={}):\n",
    "    if n in memo:\n",
    "        return memo[n]\n",
    "    if n <= 2:\n",
    "        return n\n",
    "    memo[n] = climbStairs(n - 1, memo) + climbStairs(n - 2, memo)\n",
    "    return memo[n]\n",
    "\n",
    "print(climbStairs(5))  # Output: 8"
   ]
  },
  {
   "cell_type": "markdown",
   "id": "cd3be6bd-8b79-4e6a-90de-164756b99e5b",
   "metadata": {},
   "source": [
    "###### 3. DP (Bottom-Up) - Tabulation\n",
    "Using a DP array, we calculate values iteratively.\n",
    "\n",
    "- ⏳ Time Complexity: O(n)\n",
    "- 💾 Space Complexity: O(n) "
   ]
  },
  {
   "cell_type": "code",
   "execution_count": 4,
   "id": "9118e40f-5919-43b3-ba32-e88f357eb41d",
   "metadata": {},
   "outputs": [
    {
     "name": "stdout",
     "output_type": "stream",
     "text": [
      "8\n"
     ]
    }
   ],
   "source": [
    "def climbStairs(n):\n",
    "    if n <= 2:\n",
    "        return n\n",
    "    dp = [0] * (n + 1)\n",
    "    dp[1], dp[2] = 1, 2\n",
    "    for i in range(3, n + 1):\n",
    "        dp[i] = dp[i - 1] + dp[i - 2]\n",
    "    return dp[n]\n",
    "\n",
    "print(climbStairs(5))  # Output: 8"
   ]
  },
  {
   "cell_type": "markdown",
   "id": "2b267750-aefb-4ad1-8bd7-461d58ee6734",
   "metadata": {},
   "source": [
    "##### 4. Space Optimized DP (Only 2 Variables)\n",
    "Since we only need previous two values, we can eliminate the DP array.\n",
    "\n",
    "- ⏳ Time Complexity: O(n)\n",
    "- 💾 Space Complexity: O(1) (Constant Space)"
   ]
  },
  {
   "cell_type": "code",
   "execution_count": 5,
   "id": "e5c612c7-5df5-40b9-887e-9aad4b1ca18b",
   "metadata": {},
   "outputs": [
    {
     "name": "stdout",
     "output_type": "stream",
     "text": [
      "8\n"
     ]
    }
   ],
   "source": [
    "def climbStairs(n):\n",
    "    if n <= 2:\n",
    "        return n\n",
    "    prev2, prev1 = 1, 2\n",
    "    for _ in range(3, n + 1):\n",
    "        curr = prev1 + prev2\n",
    "        prev2, prev1 = prev1, curr\n",
    "    return prev1\n",
    "\n",
    "print(climbStairs(5))  # Output: 8"
   ]
  },
  {
   "cell_type": "raw",
   "id": "4450e359-5003-4c2e-ab09-3c2047713a6e",
   "metadata": {},
   "source": [
    "5. Mathematical Approach (Fibonacci Formula)\n",
    "We can use Binet’s Formula for Fibonacci numbers.\n",
    "\n",
    "⏳ Time Complexity: O(1)\n",
    "💾 Space Complexity: O(1)"
   ]
  },
  {
   "cell_type": "code",
   "execution_count": 6,
   "id": "12976276-ec2c-4577-91fe-43e484f5463b",
   "metadata": {},
   "outputs": [
    {
     "name": "stdout",
     "output_type": "stream",
     "text": [
      "8\n"
     ]
    }
   ],
   "source": [
    "import math\n",
    "\n",
    "def climbStairs(n):\n",
    "    sqrt5 = math.sqrt(5)\n",
    "    phi = (1 + sqrt5) / 2\n",
    "    return round((phi**(n+1)) / sqrt5)\n",
    "\n",
    "print(climbStairs(5))  # Output: 8"
   ]
  },
  {
   "cell_type": "markdown",
   "id": "d776bbd5-c7a5-4578-9607-c7409d7f1453",
   "metadata": {
    "jp-MarkdownHeadingCollapsed": true
   },
   "source": [
    "## 509. Fibonacci Number -- LC 509 -- E"
   ]
  },
  {
   "cell_type": "markdown",
   "id": "8d4ce43c-2c73-4178-af84-1847f7da79a6",
   "metadata": {},
   "source": [
    "The Fibonacci numbers, commonly denoted F(n) form a sequence, called the Fibonacci sequence, such that each number is the sum of the two preceding ones, starting from 0 and 1. That is,\n",
    "\n",
    "            F(0) = 0, F(1) = 1\n",
    "            F(n) = F(n - 1) + F(n - 2), for n > 1.\n",
    "            Given n, calculate F(n).\n",
    "\n",
    " \n",
    "\n",
    "            Example 1:\n",
    "            \n",
    "            Input: n = 2\n",
    "            Output: 1\n",
    "            Explanation: F(2) = F(1) + F(0) = 1 + 0 = 1.\n",
    "            Example 2:\n",
    "            \n",
    "            Input: n = 3\n",
    "            Output: 2\n",
    "            Explanation: F(3) = F(2) + F(1) = 1 + 1 = 2.\n",
    "            Example 3:\n",
    "            \n",
    "            Input: n = 4\n",
    "            Output: 3\n",
    "            Explanation: F(4) = F(3) + F(2) = 2 + 1 = 3.\n",
    "             \n",
    "            \n",
    "            Constraints:\n",
    "            \n",
    "            0 <= n <= 30"
   ]
  },
  {
   "cell_type": "code",
   "execution_count": 9,
   "id": "8155a02d-d14d-4f4f-99dd-3ff3de17dd12",
   "metadata": {},
   "outputs": [
    {
     "name": "stdout",
     "output_type": "stream",
     "text": [
      "55\n"
     ]
    }
   ],
   "source": [
    "## Approach 1: Recursion (Exponential Time - Not Optimal)\n",
    "\n",
    "def fib(n):\n",
    "    if n <= 1:\n",
    "        return n\n",
    "    return fib(n - 1) + fib(n - 2)\n",
    "\n",
    "print(fib(10))  # Output: 55\n",
    "\n",
    "# ⏳ Time Complexity: O(2 ^n ) 💾 Space Complexity: O(n) (Recursion Stack)"
   ]
  },
  {
   "cell_type": "code",
   "execution_count": 10,
   "id": "2be756e8-ee8c-4821-b82d-cae043e69205",
   "metadata": {},
   "outputs": [
    {
     "name": "stdout",
     "output_type": "stream",
     "text": [
      "55\n"
     ]
    }
   ],
   "source": [
    "## Approach 2: Memoization (Top-Down DP)\n",
    "\n",
    "def fib(n, memo={}):\n",
    "    if n in memo:\n",
    "        return memo[n]\n",
    "    if n <= 1:\n",
    "        return n\n",
    "    memo[n] = fib(n - 1, memo) + fib(n - 2, memo)\n",
    "    return memo[n]\n",
    "\n",
    "print(fib(10))  # Output: 55\n",
    "#⏳ Time Complexity: O(n)\n",
    "# 💾 Space Complexity: O(n)"
   ]
  },
  {
   "cell_type": "code",
   "execution_count": 11,
   "id": "8f902531-c37e-4743-b48e-4111d07aabd6",
   "metadata": {},
   "outputs": [
    {
     "name": "stdout",
     "output_type": "stream",
     "text": [
      "55\n"
     ]
    }
   ],
   "source": [
    "## Approach 3: Bottom-Up DP (Tabulation)\n",
    "\n",
    "def fib(n):\n",
    "    if n <= 1:\n",
    "        return n\n",
    "    dp = [0] * (n + 1)\n",
    "    dp[1] = 1\n",
    "    for i in range(2, n + 1):\n",
    "        dp[i] = dp[i - 1] + dp[i - 2]\n",
    "    return dp[n]\n",
    "\n",
    "print(fib(10))  # Output: 55\n",
    "\n",
    "#⏳ Time Complexity: O(n)\n",
    "# 💾 Space Complexity: O(n)"
   ]
  },
  {
   "cell_type": "code",
   "execution_count": 12,
   "id": "6ee25759-ed17-444d-b882-1580ff8cd742",
   "metadata": {},
   "outputs": [
    {
     "name": "stdout",
     "output_type": "stream",
     "text": [
      "55\n"
     ]
    }
   ],
   "source": [
    "## Approach 4: Space-Optimized DP\n",
    "\n",
    "def fib(n):\n",
    "    if n <= 1:\n",
    "        return n\n",
    "    prev2, prev1 = 0, 1\n",
    "    for _ in range(2, n + 1):\n",
    "        curr = prev1 + prev2\n",
    "        prev2, prev1 = prev1, curr\n",
    "    return prev1\n",
    "\n",
    "print(fib(10))  # Output: 55\n",
    "#⏳ Time Complexity: O(n)\n",
    "#💾 Space Complexity: O(1)"
   ]
  },
  {
   "cell_type": "code",
   "execution_count": 13,
   "id": "accb1d1f-a3b3-4a41-8c96-0aaa95c14a00",
   "metadata": {},
   "outputs": [
    {
     "name": "stdout",
     "output_type": "stream",
     "text": [
      "55\n"
     ]
    }
   ],
   "source": [
    "## Approach 5: Fibonacci Formula (Binet's Formula)\n",
    "import math\n",
    "\n",
    "def fib(n):\n",
    "    sqrt5 = math.sqrt(5)\n",
    "    phi = (1 + sqrt5) / 2\n",
    "    return round((phi**n) / sqrt5)\n",
    "\n",
    "print(fib(10))  # Output: 55\n",
    "\n",
    "# ⏳ Time Complexity: O(1)\n",
    "# 💾 Space Complexity: O(1)"
   ]
  },
  {
   "cell_type": "markdown",
   "id": "79101fa2-fd3c-41b3-8f89-3d8b81d12bbb",
   "metadata": {},
   "source": [
    "## N-th Tribonacci Number -- LC 1137 -- Easy"
   ]
  },
  {
   "cell_type": "markdown",
   "id": "9ae2fd15-ede0-4f42-bc35-1757bba5f2c0",
   "metadata": {},
   "source": [
    "The Tribonacci sequence Tn is defined as follows: \n",
    "\n",
    "T0 = 0, T1 = 1, T2 = 1, and Tn+3 = Tn + Tn+1 + Tn+2 for n >= 0.\n",
    "\n",
    "Given n, return the value of Tn.\n",
    "            \n",
    "            Example 1:\n",
    "            \n",
    "            Input: n = 4\n",
    "            Output: 4\n",
    "            Explanation:\n",
    "            T_3 = 0 + 1 + 1 = 2\n",
    "            T_4 = 1 + 1 + 2 = 4\n",
    "            Example 2:\n",
    "            \n",
    "            Input: n = 25\n",
    "            Output: 1389537\n",
    "             \n",
    "            \n",
    "            Constraints:\n",
    "            \n",
    "            0 <= n <= 37\n",
    "            The answer is guaranteed to fit within a 32-bit integer, ie. answer <= 2^31 - 1"
   ]
  },
  {
   "cell_type": "code",
   "execution_count": 14,
   "id": "3a9ba187-d35a-4160-957b-daa98d0b7aea",
   "metadata": {},
   "outputs": [
    {
     "name": "stdout",
     "output_type": "stream",
     "text": [
      "149\n"
     ]
    }
   ],
   "source": [
    "## Approach 1: Recursion (Exponential - Not Optimal)\n",
    "\n",
    "def tribonacci(n):\n",
    "    if n == 0:\n",
    "        return 0\n",
    "    if n == 1 or n == 2:\n",
    "        return 1\n",
    "    return tribonacci(n - 1) + tribonacci(n - 2) + tribonacci(n - 3)\n",
    "\n",
    "print(tribonacci(10))  # Output: 149\n",
    "#⏳ Time Complexity: O(3^n)\n",
    "#💾 Space Complexity:O(n) (Recursion Stack)"
   ]
  },
  {
   "cell_type": "code",
   "execution_count": 15,
   "id": "eb796b00-cc96-4dd5-b0f2-5922b3dc4fc1",
   "metadata": {},
   "outputs": [
    {
     "name": "stdout",
     "output_type": "stream",
     "text": [
      "149\n"
     ]
    }
   ],
   "source": [
    "## Approach 2: Memoization (Top-Down DP)\n",
    "\n",
    "def tribonacci(n, memo={}):\n",
    "    if n in memo:\n",
    "        return memo[n]\n",
    "    if n == 0:\n",
    "        return 0\n",
    "    if n == 1 or n == 2:\n",
    "        return 1\n",
    "    memo[n] = tribonacci(n - 1, memo) + tribonacci(n - 2, memo) + tribonacci(n - 3, memo)\n",
    "    return memo[n]\n",
    "\n",
    "print(tribonacci(10))  # Output: 149\n",
    "# ⏳ Time Complexity: O(n)\n",
    "# 💾 Space Complexity: O(n)"
   ]
  },
  {
   "cell_type": "code",
   "execution_count": 16,
   "id": "99e5e76d-ddce-4d94-8f75-d43a102e23ef",
   "metadata": {},
   "outputs": [
    {
     "name": "stdout",
     "output_type": "stream",
     "text": [
      "149\n"
     ]
    }
   ],
   "source": [
    "## Approach 3: Bottom-Up DP (Tabulation)\n",
    "\n",
    "def tribonacci(n):\n",
    "    if n == 0:\n",
    "        return 0\n",
    "    if n == 1 or n == 2:\n",
    "        return 1\n",
    "    dp = [0] * (n + 1)\n",
    "    dp[1], dp[2] = 1, 1\n",
    "    for i in range(3, n + 1):\n",
    "        dp[i] = dp[i - 1] + dp[i - 2] + dp[i - 3]\n",
    "    return dp[n]\n",
    "\n",
    "print(tribonacci(10))  # Output: 149\n",
    "#⏳ Time Complexity:O(n)\n",
    "#💾 Space Complexity: O(n)"
   ]
  },
  {
   "cell_type": "code",
   "execution_count": 17,
   "id": "63f27fde-0287-45af-8778-40ee77bdbdd0",
   "metadata": {},
   "outputs": [
    {
     "name": "stdout",
     "output_type": "stream",
     "text": [
      "149\n"
     ]
    }
   ],
   "source": [
    "## Approach 4: Space-Optimized DP\n",
    "\n",
    "def tribonacci(n):\n",
    "    if n == 0:\n",
    "        return 0\n",
    "    if n == 1 or n == 2:\n",
    "        return 1\n",
    "    prev3, prev2, prev1 = 0, 1, 1\n",
    "    for _ in range(3, n + 1):\n",
    "        curr = prev1 + prev2 + prev3\n",
    "        prev3, prev2, prev1 = prev2, prev1, curr\n",
    "    return prev1\n",
    "\n",
    "print(tribonacci(10))  # Output: 149\n",
    "# ⏳ Time Complexity: O(n)\n",
    "# 💾 Space Complexity: O(1)"
   ]
  },
  {
   "cell_type": "code",
   "execution_count": null,
   "id": "2e767ee5-3023-4781-850b-ec4a1d503cbd",
   "metadata": {},
   "outputs": [],
   "source": []
  }
 ],
 "metadata": {
  "kernelspec": {
   "display_name": "Python 3 (ipykernel)",
   "language": "python",
   "name": "python3"
  },
  "language_info": {
   "codemirror_mode": {
    "name": "ipython",
    "version": 3
   },
   "file_extension": ".py",
   "mimetype": "text/x-python",
   "name": "python",
   "nbconvert_exporter": "python",
   "pygments_lexer": "ipython3",
   "version": "3.12.7"
  }
 },
 "nbformat": 4,
 "nbformat_minor": 5
}
