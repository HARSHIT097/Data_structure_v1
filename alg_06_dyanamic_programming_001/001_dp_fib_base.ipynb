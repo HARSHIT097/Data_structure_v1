{
 "cells": [
  {
   "cell_type": "code",
   "execution_count": 1,
   "id": "9366b121-6f01-4681-ade2-9855dca12c2a",
   "metadata": {},
   "outputs": [],
   "source": [
    "# 1. 1D DP (Fibonacci, Climbing Stairs, House Robber, max sum Subarray)\n",
    "\n",
    "def fib(n):\n",
    "    if n <= 1:\n",
    "        return n\n",
    "\n",
    "    dp = [0] * (n + 1)\n",
    "    dp[1] = 1\n",
    "\n",
    "    for i in range(2, n + 1):\n",
    "        dp[i] = dp[i - 1] + dp[i - 2]\n",
    "\n",
    "    return dp[n]"
   ]
  },
  {
   "cell_type": "raw",
   "id": "540b35bd-0e81-4e6c-83e0-1b89078fff9a",
   "metadata": {},
   "source": [
    "Climbing Stairs → Given n steps, you can climb 1 or 2 at a time. How many ways?\n",
    "Solution: Use *1D DP (Fibonacci variant)."
   ]
  },
  {
   "cell_type": "raw",
   "id": "48d2a637-6b3b-4691-96e0-d5824c1127b7",
   "metadata": {},
   "source": [
    "    1D DP Problems\n",
    "    Climbing Stairs → Find the number of ways to reach the top of n steps, where you can take 1 or 2 steps at a time.\n",
    "    Solution: Use 1D DP template.\n",
    "    \n",
    "    House Robber → Given a list of non-adjacent houses with money, find the maximum amount that can be robbed.\n",
    "    Solution: Use 1D DP with max-robbery transition."
   ]
  },
  {
   "cell_type": "markdown",
   "id": "4415782f-78bc-44af-bf33-1eb5522d2233",
   "metadata": {},
   "source": [
    "## Climbing Stairs -- LC 70 -- E"
   ]
  },
  {
   "cell_type": "markdown",
   "id": "5cb79f2e-32d3-404f-b63f-b855459a6c6c",
   "metadata": {},
   "source": [
    "You are climbing a staircase. It takes n steps to reach the top.\n",
    "\n",
    "Each time you can either climb 1 or 2 steps. In how many distinct ways can you climb to the top?\n",
    "\n",
    "            Example 1:\n",
    "            \n",
    "            Input: n = 2\n",
    "            Output: 2\n",
    "            Explanation: There are two ways to climb to the top.\n",
    "            1. 1 step + 1 step\n",
    "            2. 2 steps\n",
    "            Example 2:\n",
    "            \n",
    "            Input: n = 3\n",
    "            Output: 3\n",
    "            Explanation: There are three ways to climb to the top.\n",
    "            1. 1 step + 1 step + 1 step\n",
    "            2. 1 step + 2 steps\n",
    "            3. 2 steps + 1 step\n",
    "             \n",
    "            \n",
    "            Constraints:\n",
    "            \n",
    "            1 <= n <= 45"
   ]
  },
  {
   "cell_type": "raw",
   "id": "60c2a5d9-e6fb-423a-9aa7-138f3f59f04c",
   "metadata": {},
   "source": [
    "1. Base Template - Recursion (Top-Down)\n",
    "This follows recursive DP (memoization).\n",
    "\n",
    "Recurrence Relation:\n",
    "Since you can take either 1 step or 2 steps:\n",
    "\n",
    "            f(n)=f(n−1)+f(n−2)\n",
    "            where:\n",
    "            \n",
    "            f(n-1): Ways to reach the top if you take 1 step.\n",
    "            f(n-2): Ways to reach the top if you take 2 steps.\n",
    "This is similar to the Fibonacci sequence."
   ]
  },
  {
   "cell_type": "code",
   "execution_count": 2,
   "id": "8ea93075-9c20-4c4d-b434-7ae03b21be00",
   "metadata": {},
   "outputs": [
    {
     "name": "stdout",
     "output_type": "stream",
     "text": [
      "8\n"
     ]
    }
   ],
   "source": [
    "def climbStairs(n):\n",
    "    if n <= 2:\n",
    "        return n\n",
    "    return climbStairs(n - 1) + climbStairs(n - 2)\n",
    "\n",
    "print(climbStairs(5))  # Output: 8"
   ]
  },
  {
   "cell_type": "raw",
   "id": "fc52faf4-1736-4d1b-8649-1c2671d8d6d0",
   "metadata": {},
   "source": [
    "⏳ Time Complexity: O(2 ^n ) (Exponential)\n",
    "💾 Space Complexity: O(n) (Recursion Stack)"
   ]
  },
  {
   "cell_type": "markdown",
   "id": "45e7f88c-0747-4d42-82dd-56d6283860ac",
   "metadata": {},
   "source": [
    "###### 2. Optimized DP (Top-Down - Memoization)\n",
    "Instead of recomputing the same values, we store them in a cache (dictionary or list).\n",
    "\n",
    "- ⏳ Time Complexity: O(n)\n",
    "\n",
    "- 💾 Space Complexity: O(n) (Recursion Stack + Memo Table)"
   ]
  },
  {
   "cell_type": "code",
   "execution_count": 3,
   "id": "c8fd5e0a-baaf-4a28-ada4-b2e16dfcb36d",
   "metadata": {},
   "outputs": [
    {
     "name": "stdout",
     "output_type": "stream",
     "text": [
      "8\n"
     ]
    }
   ],
   "source": [
    "def climbStairs(n, memo={}):\n",
    "    if n in memo:\n",
    "        return memo[n]\n",
    "    if n <= 2:\n",
    "        return n\n",
    "    memo[n] = climbStairs(n - 1, memo) + climbStairs(n - 2, memo)\n",
    "    return memo[n]\n",
    "\n",
    "print(climbStairs(5))  # Output: 8"
   ]
  },
  {
   "cell_type": "markdown",
   "id": "cd3be6bd-8b79-4e6a-90de-164756b99e5b",
   "metadata": {},
   "source": [
    "###### 3. DP (Bottom-Up) - Tabulation\n",
    "Using a DP array, we calculate values iteratively.\n",
    "\n",
    "- ⏳ Time Complexity: O(n)\n",
    "- 💾 Space Complexity: O(n) "
   ]
  },
  {
   "cell_type": "code",
   "execution_count": 4,
   "id": "9118e40f-5919-43b3-ba32-e88f357eb41d",
   "metadata": {},
   "outputs": [
    {
     "name": "stdout",
     "output_type": "stream",
     "text": [
      "8\n"
     ]
    }
   ],
   "source": [
    "def climbStairs(n):\n",
    "    if n <= 2:\n",
    "        return n\n",
    "    dp = [0] * (n + 1)\n",
    "    dp[1], dp[2] = 1, 2\n",
    "    for i in range(3, n + 1):\n",
    "        dp[i] = dp[i - 1] + dp[i - 2]\n",
    "    return dp[n]\n",
    "\n",
    "print(climbStairs(5))  # Output: 8"
   ]
  },
  {
   "cell_type": "markdown",
   "id": "2b267750-aefb-4ad1-8bd7-461d58ee6734",
   "metadata": {},
   "source": [
    "##### 4. Space Optimized DP (Only 2 Variables)\n",
    "Since we only need previous two values, we can eliminate the DP array.\n",
    "\n",
    "- ⏳ Time Complexity: O(n)\n",
    "- 💾 Space Complexity: O(1) (Constant Space)"
   ]
  },
  {
   "cell_type": "code",
   "execution_count": 5,
   "id": "e5c612c7-5df5-40b9-887e-9aad4b1ca18b",
   "metadata": {},
   "outputs": [
    {
     "name": "stdout",
     "output_type": "stream",
     "text": [
      "8\n"
     ]
    }
   ],
   "source": [
    "def climbStairs(n):\n",
    "    if n <= 2:\n",
    "        return n\n",
    "    prev2, prev1 = 1, 2\n",
    "    for _ in range(3, n + 1):\n",
    "        curr = prev1 + prev2\n",
    "        prev2, prev1 = prev1, curr\n",
    "    return prev1\n",
    "\n",
    "print(climbStairs(5))  # Output: 8"
   ]
  },
  {
   "cell_type": "raw",
   "id": "4450e359-5003-4c2e-ab09-3c2047713a6e",
   "metadata": {},
   "source": [
    "5. Mathematical Approach (Fibonacci Formula)\n",
    "We can use Binet’s Formula for Fibonacci numbers.\n",
    "\n",
    "⏳ Time Complexity: O(1)\n",
    "💾 Space Complexity: O(1)"
   ]
  },
  {
   "cell_type": "code",
   "execution_count": 6,
   "id": "12976276-ec2c-4577-91fe-43e484f5463b",
   "metadata": {},
   "outputs": [
    {
     "name": "stdout",
     "output_type": "stream",
     "text": [
      "8\n"
     ]
    }
   ],
   "source": [
    "import math\n",
    "\n",
    "def climbStairs(n):\n",
    "    sqrt5 = math.sqrt(5)\n",
    "    phi = (1 + sqrt5) / 2\n",
    "    return round((phi**(n+1)) / sqrt5)\n",
    "\n",
    "print(climbStairs(5))  # Output: 8"
   ]
  },
  {
   "cell_type": "markdown",
   "id": "d776bbd5-c7a5-4578-9607-c7409d7f1453",
   "metadata": {
    "jp-MarkdownHeadingCollapsed": true
   },
   "source": [
    "## 509. Fibonacci Number -- LC 509 -- E"
   ]
  },
  {
   "cell_type": "markdown",
   "id": "8d4ce43c-2c73-4178-af84-1847f7da79a6",
   "metadata": {},
   "source": [
    "The Fibonacci numbers, commonly denoted F(n) form a sequence, called the Fibonacci sequence, such that each number is the sum of the two preceding ones, starting from 0 and 1. That is,\n",
    "\n",
    "            F(0) = 0, F(1) = 1\n",
    "            F(n) = F(n - 1) + F(n - 2), for n > 1.\n",
    "            Given n, calculate F(n).\n",
    "\n",
    " \n",
    "\n",
    "            Example 1:\n",
    "            \n",
    "            Input: n = 2\n",
    "            Output: 1\n",
    "            Explanation: F(2) = F(1) + F(0) = 1 + 0 = 1.\n",
    "            Example 2:\n",
    "            \n",
    "            Input: n = 3\n",
    "            Output: 2\n",
    "            Explanation: F(3) = F(2) + F(1) = 1 + 1 = 2.\n",
    "            Example 3:\n",
    "            \n",
    "            Input: n = 4\n",
    "            Output: 3\n",
    "            Explanation: F(4) = F(3) + F(2) = 2 + 1 = 3.\n",
    "             \n",
    "            \n",
    "            Constraints:\n",
    "            \n",
    "            0 <= n <= 30"
   ]
  },
  {
   "cell_type": "code",
   "execution_count": 9,
   "id": "8155a02d-d14d-4f4f-99dd-3ff3de17dd12",
   "metadata": {},
   "outputs": [
    {
     "name": "stdout",
     "output_type": "stream",
     "text": [
      "55\n"
     ]
    }
   ],
   "source": [
    "## Approach 1: Recursion (Exponential Time - Not Optimal)\n",
    "\n",
    "def fib(n):\n",
    "    if n <= 1:\n",
    "        return n\n",
    "    return fib(n - 1) + fib(n - 2)\n",
    "\n",
    "print(fib(10))  # Output: 55\n",
    "\n",
    "# ⏳ Time Complexity: O(2 ^n ) 💾 Space Complexity: O(n) (Recursion Stack)"
   ]
  },
  {
   "cell_type": "code",
   "execution_count": 10,
   "id": "2be756e8-ee8c-4821-b82d-cae043e69205",
   "metadata": {},
   "outputs": [
    {
     "name": "stdout",
     "output_type": "stream",
     "text": [
      "55\n"
     ]
    }
   ],
   "source": [
    "## Approach 2: Memoization (Top-Down DP)\n",
    "\n",
    "def fib(n, memo={}):\n",
    "    if n in memo:\n",
    "        return memo[n]\n",
    "    if n <= 1:\n",
    "        return n\n",
    "    memo[n] = fib(n - 1, memo) + fib(n - 2, memo)\n",
    "    return memo[n]\n",
    "\n",
    "print(fib(10))  # Output: 55\n",
    "#⏳ Time Complexity: O(n)\n",
    "# 💾 Space Complexity: O(n)"
   ]
  },
  {
   "cell_type": "code",
   "execution_count": 11,
   "id": "8f902531-c37e-4743-b48e-4111d07aabd6",
   "metadata": {},
   "outputs": [
    {
     "name": "stdout",
     "output_type": "stream",
     "text": [
      "55\n"
     ]
    }
   ],
   "source": [
    "## Approach 3: Bottom-Up DP (Tabulation)\n",
    "\n",
    "def fib(n):\n",
    "    if n <= 1:\n",
    "        return n\n",
    "    dp = [0] * (n + 1)\n",
    "    dp[1] = 1\n",
    "    for i in range(2, n + 1):\n",
    "        dp[i] = dp[i - 1] + dp[i - 2]\n",
    "    return dp[n]\n",
    "\n",
    "print(fib(10))  # Output: 55\n",
    "\n",
    "#⏳ Time Complexity: O(n)\n",
    "# 💾 Space Complexity: O(n)"
   ]
  },
  {
   "cell_type": "code",
   "execution_count": 12,
   "id": "6ee25759-ed17-444d-b882-1580ff8cd742",
   "metadata": {},
   "outputs": [
    {
     "name": "stdout",
     "output_type": "stream",
     "text": [
      "55\n"
     ]
    }
   ],
   "source": [
    "## Approach 4: Space-Optimized DP\n",
    "\n",
    "def fib(n):\n",
    "    if n <= 1:\n",
    "        return n\n",
    "    prev2, prev1 = 0, 1\n",
    "    for _ in range(2, n + 1):\n",
    "        curr = prev1 + prev2\n",
    "        prev2, prev1 = prev1, curr\n",
    "    return prev1\n",
    "\n",
    "print(fib(10))  # Output: 55\n",
    "#⏳ Time Complexity: O(n)\n",
    "#💾 Space Complexity: O(1)"
   ]
  },
  {
   "cell_type": "code",
   "execution_count": 13,
   "id": "accb1d1f-a3b3-4a41-8c96-0aaa95c14a00",
   "metadata": {},
   "outputs": [
    {
     "name": "stdout",
     "output_type": "stream",
     "text": [
      "55\n"
     ]
    }
   ],
   "source": [
    "## Approach 5: Fibonacci Formula (Binet's Formula)\n",
    "import math\n",
    "\n",
    "def fib(n):\n",
    "    sqrt5 = math.sqrt(5)\n",
    "    phi = (1 + sqrt5) / 2\n",
    "    return round((phi**n) / sqrt5)\n",
    "\n",
    "print(fib(10))  # Output: 55\n",
    "\n",
    "# ⏳ Time Complexity: O(1)\n",
    "# 💾 Space Complexity: O(1)"
   ]
  },
  {
   "cell_type": "markdown",
   "id": "79101fa2-fd3c-41b3-8f89-3d8b81d12bbb",
   "metadata": {
    "jp-MarkdownHeadingCollapsed": true
   },
   "source": [
    "## N-th Tribonacci Number -- LC 1137 -- Easy"
   ]
  },
  {
   "cell_type": "markdown",
   "id": "9ae2fd15-ede0-4f42-bc35-1757bba5f2c0",
   "metadata": {},
   "source": [
    "The Tribonacci sequence Tn is defined as follows: \n",
    "\n",
    "T0 = 0, T1 = 1, T2 = 1, and Tn+3 = Tn + Tn+1 + Tn+2 for n >= 0.\n",
    "\n",
    "Given n, return the value of Tn.\n",
    "            \n",
    "            Example 1:\n",
    "            \n",
    "            Input: n = 4\n",
    "            Output: 4\n",
    "            Explanation:\n",
    "            T_3 = 0 + 1 + 1 = 2\n",
    "            T_4 = 1 + 1 + 2 = 4\n",
    "            Example 2:\n",
    "            \n",
    "            Input: n = 25\n",
    "            Output: 1389537\n",
    "             \n",
    "            \n",
    "            Constraints:\n",
    "            \n",
    "            0 <= n <= 37\n",
    "            The answer is guaranteed to fit within a 32-bit integer, ie. answer <= 2^31 - 1"
   ]
  },
  {
   "cell_type": "code",
   "execution_count": 14,
   "id": "3a9ba187-d35a-4160-957b-daa98d0b7aea",
   "metadata": {},
   "outputs": [
    {
     "name": "stdout",
     "output_type": "stream",
     "text": [
      "149\n"
     ]
    }
   ],
   "source": [
    "## Approach 1: Recursion (Exponential - Not Optimal)\n",
    "\n",
    "def tribonacci(n):\n",
    "    if n == 0:\n",
    "        return 0\n",
    "    if n == 1 or n == 2:\n",
    "        return 1\n",
    "    return tribonacci(n - 1) + tribonacci(n - 2) + tribonacci(n - 3)\n",
    "\n",
    "print(tribonacci(10))  # Output: 149\n",
    "#⏳ Time Complexity: O(3^n)\n",
    "#💾 Space Complexity:O(n) (Recursion Stack)"
   ]
  },
  {
   "cell_type": "code",
   "execution_count": 15,
   "id": "eb796b00-cc96-4dd5-b0f2-5922b3dc4fc1",
   "metadata": {},
   "outputs": [
    {
     "name": "stdout",
     "output_type": "stream",
     "text": [
      "149\n"
     ]
    }
   ],
   "source": [
    "## Approach 2: Memoization (Top-Down DP)\n",
    "\n",
    "def tribonacci(n, memo={}):\n",
    "    if n in memo:\n",
    "        return memo[n]\n",
    "    if n == 0:\n",
    "        return 0\n",
    "    if n == 1 or n == 2:\n",
    "        return 1\n",
    "    memo[n] = tribonacci(n - 1, memo) + tribonacci(n - 2, memo) + tribonacci(n - 3, memo)\n",
    "    return memo[n]\n",
    "\n",
    "print(tribonacci(10))  # Output: 149\n",
    "# ⏳ Time Complexity: O(n)\n",
    "# 💾 Space Complexity: O(n)"
   ]
  },
  {
   "cell_type": "code",
   "execution_count": 16,
   "id": "99e5e76d-ddce-4d94-8f75-d43a102e23ef",
   "metadata": {},
   "outputs": [
    {
     "name": "stdout",
     "output_type": "stream",
     "text": [
      "149\n"
     ]
    }
   ],
   "source": [
    "## Approach 3: Bottom-Up DP (Tabulation)\n",
    "\n",
    "def tribonacci(n):\n",
    "    if n == 0:\n",
    "        return 0\n",
    "    if n == 1 or n == 2:\n",
    "        return 1\n",
    "    dp = [0] * (n + 1)\n",
    "    dp[1], dp[2] = 1, 1\n",
    "    for i in range(3, n + 1):\n",
    "        dp[i] = dp[i - 1] + dp[i - 2] + dp[i - 3]\n",
    "    return dp[n]\n",
    "\n",
    "print(tribonacci(10))  # Output: 149\n",
    "#⏳ Time Complexity:O(n)\n",
    "#💾 Space Complexity: O(n)"
   ]
  },
  {
   "cell_type": "code",
   "execution_count": 17,
   "id": "63f27fde-0287-45af-8778-40ee77bdbdd0",
   "metadata": {},
   "outputs": [
    {
     "name": "stdout",
     "output_type": "stream",
     "text": [
      "149\n"
     ]
    }
   ],
   "source": [
    "## Approach 4: Space-Optimized DP\n",
    "\n",
    "def tribonacci(n):\n",
    "    if n == 0:\n",
    "        return 0\n",
    "    if n == 1 or n == 2:\n",
    "        return 1\n",
    "    prev3, prev2, prev1 = 0, 1, 1\n",
    "    for _ in range(3, n + 1):\n",
    "        curr = prev1 + prev2 + prev3\n",
    "        prev3, prev2, prev1 = prev2, prev1, curr\n",
    "    return prev1\n",
    "\n",
    "print(tribonacci(10))  # Output: 149\n",
    "# ⏳ Time Complexity: O(n)\n",
    "# 💾 Space Complexity: O(1)"
   ]
  },
  {
   "cell_type": "markdown",
   "id": "eaed4731-b883-49a6-8534-ea3f4a5214d4",
   "metadata": {
    "jp-MarkdownHeadingCollapsed": true
   },
   "source": [
    "## Min Cost Climbing Stairs -- LC 746 -- E"
   ]
  },
  {
   "cell_type": "markdown",
   "id": "6daa4dc6-1b37-4657-b3a3-eb5d80ff2c1e",
   "metadata": {},
   "source": [
    "You are given an integer array cost where cost[i] is the cost of ith step on a staircase. Once you pay the cost, you can either climb one or two steps.\n",
    "\n",
    "You can either start from the step with index 0, or the step with index 1.\n",
    "\n",
    "Return the minimum cost to reach the top of the floor.\n",
    "\n",
    " \n",
    "\n",
    "                    Example 1:\n",
    "                    \n",
    "                    Input: cost = [10,15,20]\n",
    "                    Output: 15\n",
    "                    Explanation: You will start at index 1.\n",
    "                    - Pay 15 and climb two steps to reach the top.\n",
    "                    The total cost is 15.\n",
    "                    Example 2:\n",
    "                    \n",
    "                    Input: cost = [1,100,1,1,1,100,1,1,100,1]\n",
    "                    Output: 6\n",
    "                    Explanation: You will start at index 0.\n",
    "                    - Pay 1 and climb two steps to reach index 2.\n",
    "                    - Pay 1 and climb two steps to reach index 4.\n",
    "                    - Pay 1 and climb two steps to reach index 6.\n",
    "                    - Pay 1 and climb one step to reach index 7.\n",
    "                    - Pay 1 and climb two steps to reach index 9.\n",
    "                    - Pay 1 and climb one step to reach the top.\n",
    "                    The total cost is 6.\n",
    "                     \n",
    "                    \n",
    "                    Constraints:\n",
    "                    \n",
    "                    2 <= cost.length <= 1000\n",
    "                    0 <= cost[i] <= 999\n",
    "\n",
    "You are given an array cost where cost[i] is the cost to step on the i-th stair. You can start at cost[0] or cost[1], and you can move one step or two steps at a time. Return the minimum cost to reach the top."
   ]
  },
  {
   "cell_type": "code",
   "execution_count": 18,
   "id": "645ca2fe-f739-44c4-ab15-145707e1fd62",
   "metadata": {},
   "outputs": [
    {
     "name": "stdout",
     "output_type": "stream",
     "text": [
      "15\n"
     ]
    }
   ],
   "source": [
    "#Approach 1: Recursive DP (Top-Down)\n",
    "#We define:\n",
    "\n",
    "# dp[i]=min(dp[i−1],dp[i−2])+cost[i]\n",
    "\n",
    "def minCostClimbingStairs(cost, i=None):\n",
    "    if i is None:\n",
    "        i = len(cost)\n",
    "    if i <= 1:\n",
    "        return 0\n",
    "    return min(minCostClimbingStairs(cost, i - 1) + cost[i - 1], \n",
    "               minCostClimbingStairs(cost, i - 2) + cost[i - 2])\n",
    "\n",
    "cost = [10, 15, 20]\n",
    "print(minCostClimbingStairs(cost))  # Output: 15\n",
    "\n",
    "\n",
    "#⏳ Time Complexity: O(2^n)\n",
    "#💾 Space Complexity: O(n)"
   ]
  },
  {
   "cell_type": "code",
   "execution_count": 19,
   "id": "646d9bde-227e-4bd4-9abd-bb4a521db8f8",
   "metadata": {},
   "outputs": [
    {
     "name": "stdout",
     "output_type": "stream",
     "text": [
      "15\n"
     ]
    }
   ],
   "source": [
    "## Approach 2: Memoization (Top-Down DP)\n",
    "\n",
    "def minCostClimbingStairs(cost, i=None, memo={}):\n",
    "    if i is None:\n",
    "        i = len(cost)\n",
    "    if i <= 1:\n",
    "        return 0\n",
    "    if i in memo:\n",
    "        return memo[i]\n",
    "    \n",
    "    memo[i] = min(minCostClimbingStairs(cost, i - 1, memo) + cost[i - 1], \n",
    "                  minCostClimbingStairs(cost, i - 2, memo) + cost[i - 2])\n",
    "    return memo[i]\n",
    "\n",
    "cost = [10, 15, 20]\n",
    "print(minCostClimbingStairs(cost))  # Output: 15\n",
    "#⏳ Time Complexity: O(n)\n",
    "# 💾 Space Complexity: O(n)"
   ]
  },
  {
   "cell_type": "code",
   "execution_count": 20,
   "id": "0e38dae6-f453-43a9-b77a-d717e87d8f52",
   "metadata": {},
   "outputs": [
    {
     "name": "stdout",
     "output_type": "stream",
     "text": [
      "15\n"
     ]
    }
   ],
   "source": [
    "## Approach 2: Memoization (Top-Down DP)\n",
    "\n",
    "def minCostClimbingStairs(cost, i=None, memo={}):\n",
    "    if i is None:\n",
    "        i = len(cost)\n",
    "    if i <= 1:\n",
    "        return 0\n",
    "    if i in memo:\n",
    "        return memo[i]\n",
    "    \n",
    "    memo[i] = min(minCostClimbingStairs(cost, i - 1, memo) + cost[i - 1], \n",
    "                  minCostClimbingStairs(cost, i - 2, memo) + cost[i - 2])\n",
    "    return memo[i]\n",
    "\n",
    "cost = [10, 15, 20]\n",
    "print(minCostClimbingStairs(cost))  # Output: 15\n",
    "#⏳ Time Complexity: O(n)\n",
    "# 💾 Space Complexity: O(n)"
   ]
  },
  {
   "cell_type": "code",
   "execution_count": 21,
   "id": "6c6c9510-4ae2-477b-ac5e-416d221d46de",
   "metadata": {},
   "outputs": [
    {
     "name": "stdout",
     "output_type": "stream",
     "text": [
      "15\n"
     ]
    }
   ],
   "source": [
    "## Approach 4: Space-Optimized DP\n",
    "\n",
    "def minCostClimbingStairs(cost):\n",
    "    n = len(cost)\n",
    "    prev2, prev1 = 0, 0\n",
    "    \n",
    "    for i in range(2, n + 1):\n",
    "        curr = min(prev1 + cost[i - 1], prev2 + cost[i - 2])\n",
    "        prev2, prev1 = prev1, curr\n",
    "    \n",
    "    return prev1\n",
    "\n",
    "cost = [10, 15, 20]\n",
    "print(minCostClimbingStairs(cost))  # Output: 15\n",
    "# ⏳ Time Complexity: O(n)\n",
    "# 💾 Space Complexity: O(1)"
   ]
  },
  {
   "cell_type": "markdown",
   "id": "26526e01-b64b-4fca-98f2-cdb99909ff24",
   "metadata": {},
   "source": [
    "## House Robber -- LC 198 -- -- Tree_dp"
   ]
  },
  {
   "cell_type": "raw",
   "id": "c72f0392-bb05-42c3-bf44-2847922c4c73",
   "metadata": {},
   "source": [
    "🏠 Problem: House Robber (Leetcode 198)\n",
    "Statement: Given an integer array nums representing the amount of money of each house, return the maximum amount of money you can rob without robbing two adjacent houses."
   ]
  },
  {
   "cell_type": "raw",
   "id": "a85deb61-e82f-4e80-b953-aaa26fed4ef2",
   "metadata": {},
   "source": [
    "🧠 Problem: House Robber\n",
    "Given an array arr[], where each element represents the money in a house, find the maximum sum you can rob, without robbing adjacent houses."
   ]
  },
  {
   "cell_type": "code",
   "execution_count": 22,
   "id": "1afa73a2-06a5-4c9c-83b6-e18e666d4d9c",
   "metadata": {},
   "outputs": [],
   "source": [
    "# ✅ Approach 1: Brute Force (Recursion)\n",
    "# Try all combinations: rob or skip\n",
    "\n",
    "# Time: O(2^n) — exponential\n",
    "# Space: O(n) — recursion stack\n",
    "\n",
    "def rob(nums):\n",
    "    def dfs(i):\n",
    "        if i >= len(nums):\n",
    "            return 0\n",
    "        # Either rob this house and skip next, or skip this one\n",
    "        return max(nums[i] + dfs(i + 2), dfs(i + 1))\n",
    "    return dfs(0)"
   ]
  },
  {
   "cell_type": "code",
   "execution_count": 23,
   "id": "dad368fd-85dc-4645-9022-7c2a328774c1",
   "metadata": {},
   "outputs": [],
   "source": [
    "# ✅ Approach 2: Memoization (Top-down DP)\n",
    "\n",
    "def rob(nums):\n",
    "    memo = {}\n",
    "    def dfs(i):\n",
    "        if i >= len(nums):\n",
    "            return 0\n",
    "        if i in memo:\n",
    "            return memo[i]\n",
    "        memo[i] = max(nums[i] + dfs(i + 2), dfs(i + 1))\n",
    "        return memo[i]\n",
    "    return dfs(0)\n",
    "\n",
    "# Time: O(n)\n",
    "# Space: O(n)"
   ]
  },
  {
   "cell_type": "code",
   "execution_count": 24,
   "id": "086aea55-f589-4b93-a423-4324e366b5e2",
   "metadata": {},
   "outputs": [],
   "source": [
    "# ✅ Approach 3: Tabulation (Bottom-up DP)\n",
    "def rob(nums):\n",
    "    if not nums:\n",
    "        return 0\n",
    "    if len(nums) == 1:\n",
    "        return nums[0]\n",
    "    \n",
    "    dp = [0] * len(nums)\n",
    "    dp[0] = nums[0]\n",
    "    dp[1] = max(nums[0], nums[1])\n",
    "    \n",
    "    for i in range(2, len(nums)):\n",
    "        dp[i] = max(dp[i-1], dp[i-2] + nums[i])\n",
    "        \n",
    "    return dp[-1]\n",
    "\n",
    "# Time: O(n)\n",
    "# Space: O(n)"
   ]
  },
  {
   "cell_type": "code",
   "execution_count": 25,
   "id": "c1afcc80-5fb3-41c7-b03d-64976d9a5b72",
   "metadata": {},
   "outputs": [],
   "source": [
    "#✅ Approach 4: Space Optimized DP (Two variables)\n",
    "#We only need prev1 and prev2 (like Fibonacci)\n",
    "\n",
    "def rob(nums):\n",
    "    prev1 = 0  # dp[i-1]\n",
    "    prev2 = 0  # dp[i-2]\n",
    "    for num in nums:\n",
    "        temp = max(prev1, prev2 + num)\n",
    "        prev2 = prev1\n",
    "        prev1 = temp\n",
    "    return prev1\n",
    "\n",
    "# Time: O(n)\n",
    "# Space: O(1)"
   ]
  },
  {
   "cell_type": "code",
   "execution_count": null,
   "id": "e46dc445-efa6-4588-ab74-fab49f08e7b7",
   "metadata": {},
   "outputs": [],
   "source": [
    "###other approach\n",
    "# ✅ Method 1: Top-Down (Recursion + Memoization)\n",
    "\n",
    "def rob_top_down(arr, n=None, dp=None):\n",
    "    if n is None:\n",
    "        n = len(arr)\n",
    "        dp = [-1] * (n + 1)\n",
    "\n",
    "    if n == 0:\n",
    "        return 0\n",
    "    if n == 1:\n",
    "        return arr[0]\n",
    "\n",
    "    if dp[n] != -1:\n",
    "        return dp[n]\n",
    "\n",
    "    dp[n] = max(rob_top_down(arr, n - 1, dp),\n",
    "                rob_top_down(arr, n - 2, dp) + arr[n - 1])\n",
    "    return dp[n]\n",
    "\n",
    "\n"
   ]
  },
  {
   "cell_type": "code",
   "execution_count": null,
   "id": "1c98bff9-5563-4aa3-a4a8-99f95101ef10",
   "metadata": {},
   "outputs": [],
   "source": [
    "# ✅ Method 2: Bottom-Up Tabulation\n",
    "def rob_bottom_up(arr):\n",
    "    n = len(arr)\n",
    "    if n == 0:\n",
    "        return 0\n",
    "    if n == 1:\n",
    "        return arr[0]\n",
    "\n",
    "    dp = [0] * (n + 1)\n",
    "    dp[0] = 0\n",
    "    dp[1] = arr[0]\n",
    "\n",
    "    for i in range(2, n + 1):\n",
    "        dp[i] = max(dp[i - 1], dp[i - 2] + arr[i - 1])\n",
    "\n",
    "    return dp[n]\n"
   ]
  },
  {
   "cell_type": "code",
   "execution_count": null,
   "id": "8303470d-0743-4604-8aaf-d6f317eec445",
   "metadata": {},
   "outputs": [],
   "source": [
    "# ✅ Method 3: Space-Optimized (Only Two Variables)\n",
    "\n",
    "def rob_optimized(arr):\n",
    "    n = len(arr)\n",
    "    if n == 0:\n",
    "        return 0\n",
    "    if n == 1:\n",
    "        return arr[0]\n",
    "\n",
    "    prev2 = 0       # dp[i-2]\n",
    "    prev1 = arr[0]  # dp[i-1]\n",
    "\n",
    "    for i in range(1, n):\n",
    "        curr = max(prev1, prev2 + arr[i])\n",
    "        prev2, prev1 = prev1, curr\n",
    "\n",
    "    return prev1"
   ]
  },
  {
   "cell_type": "code",
   "execution_count": null,
   "id": "887d66ac-9556-4fe8-a63d-12570c74ae19",
   "metadata": {},
   "outputs": [],
   "source": [
    "arr = [2, 7, 9, 3, 1]\n",
    "\n",
    "print(\"Top-Down:\", rob_top_down(arr))\n",
    "print(\"Bottom-Up:\", rob_bottom_up(arr))\n",
    "print(\"Optimized:\", rob_optimized(arr))"
   ]
  },
  {
   "cell_type": "code",
   "execution_count": null,
   "id": "14f7b8dd-4bc0-4a98-8a88-7d1c12a25285",
   "metadata": {},
   "outputs": [],
   "source": [
    "🔁 Recurrence Relation (Key Insight)\n",
    "It follows:\n",
    "\n",
    "dp[i] = max(dp[i-1], dp[i-2] + arr[i])\n",
    "\n",
    "This is the same recurrence as:\n",
    "\n",
    "Fibonacci number\n",
    "\n",
    "Climbing stairs\n",
    "\n",
    "Maximum sum without adjacent\n",
    "\n",
    "Minimum cost climb"
   ]
  },
  {
   "cell_type": "markdown",
   "id": "e60d671b-3610-4cd3-97ad-d52880ebe3e5",
   "metadata": {},
   "source": [
    "🧩 Similar Problems (Same DP Recurrence)\n",
    "\n",
    "| Problem                                           | Approach                                                              |\n",
    "| ------------------------------------------------- | --------------------------------------------------------------------- |\n",
    "| ✅ **Fibonacci Number**                            | `f(n) = f(n-1) + f(n-2)`                                              |\n",
    "| ✅ **Climbing Stairs**                             | # of ways to reach step `n`                                           |\n",
    "| ✅ **Min Jumps to Reach End**                      | Greedy/DP with constraints                                            |\n",
    "| ✅ **Friends Pairing Problem**                     | `dp[n] = dp[n-1] + (n-1)*dp[n-2]`                                     |\n",
    "| ✅ **Domino & Tromino Tiling**                     | Complex version of tiling with recurrence                             |\n",
    "| ✅ **Intersecting Chords in Circle**               | Catalan-like                                                          |\n",
    "| ✅ **Max Subsequence Sum w/ No Three Consecutive** | `dp[i] = max(dp[i-1], dp[i-2] + arr[i], dp[i-3] + arr[i-1] + arr[i])` |\n"
   ]
  },
  {
   "cell_type": "raw",
   "id": "3fd32df5-42cd-425b-b6c6-f91bb1695f62",
   "metadata": {},
   "source": [
    "🚨 Follow-up: House Robber II (Leetcode 213)\n",
    "Circular Houses — First and last houses are adjacent.\n",
    "\n",
    "Trick: Call the regular rob function twice:\n",
    "\n",
    "nums[0:n-1] (exclude last)\n",
    "\n",
    "nums[1:n] (exclude first)\n",
    "\n",
    "\"House Robber III\" (tree version), or move to \"Paint House / DP Patterns\""
   ]
  },
  {
   "cell_type": "code",
   "execution_count": 27,
   "id": "5f20fd47-f10a-4d04-8303-5c8310b09cd0",
   "metadata": {},
   "outputs": [],
   "source": [
    "def rob(nums):\n",
    "    if len(nums) == 1:\n",
    "        return nums[0]\n",
    "\n",
    "    def rob_line(houses):\n",
    "        prev1 = prev2 = 0\n",
    "        for h in houses:\n",
    "            temp = max(prev1, prev2 + h)\n",
    "            prev2 = prev1\n",
    "            prev1 = temp\n",
    "        return prev1\n",
    "\n",
    "    return max(rob_line(nums[1:]), rob_line(nums[:-1]))"
   ]
  },
  {
   "cell_type": "markdown",
   "id": "1745bca3-bc99-4b53-ab18-0c18c267688b",
   "metadata": {},
   "source": [
    "| Approach        | Time   | Space | Notes                     |\n",
    "| --------------- | ------ | ----- | ------------------------- |\n",
    "| Brute Force     | O(2^n) | O(n)  | Try all paths             |\n",
    "| Memoization     | O(n)   | O(n)  | Top-down with cache       |\n",
    "| Tabulation      | O(n)   | O(n)  | Bottom-up DP              |\n",
    "| Space Optimized | O(n)   | O(1)  | Best space                |\n",
    "| Circular Robber | O(n)   | O(1)  | Split into 2 linear calls |"
   ]
  },
  {
   "cell_type": "markdown",
   "id": "fcfbba8d-e1ec-4374-aad1-6f320c719c3d",
   "metadata": {},
   "source": [
    "## next"
   ]
  },
  {
   "cell_type": "markdown",
   "id": "a0bb6271-64b6-4489-aa9a-779c9ab32fa3",
   "metadata": {},
   "source": [
    "- Dice Combination\n",
    "- Range sum Query"
   ]
  },
  {
   "cell_type": "code",
   "execution_count": null,
   "id": "7feeacee-f363-4ae3-a4e7-36320e6d4903",
   "metadata": {},
   "outputs": [],
   "source": []
  }
 ],
 "metadata": {
  "kernelspec": {
   "display_name": "Python 3 (ipykernel)",
   "language": "python",
   "name": "python3"
  },
  "language_info": {
   "codemirror_mode": {
    "name": "ipython",
    "version": 3
   },
   "file_extension": ".py",
   "mimetype": "text/x-python",
   "name": "python",
   "nbconvert_exporter": "python",
   "pygments_lexer": "ipython3",
   "version": "3.12.7"
  }
 },
 "nbformat": 4,
 "nbformat_minor": 5
}
