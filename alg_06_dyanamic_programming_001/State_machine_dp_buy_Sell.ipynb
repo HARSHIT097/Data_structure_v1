{
 "cells": [
  {
   "cell_type": "markdown",
   "id": "03d9d189-c2be-4a44-ad48-28bf3e14e57d",
   "metadata": {},
   "source": [
    "# Buy& Sell -- State Machine DP"
   ]
  },
  {
   "cell_type": "markdown",
   "id": "e6dc7c88-29b6-44ad-a273-e58cce1f6dac",
   "metadata": {
    "jp-MarkdownHeadingCollapsed": true
   },
   "source": [
    "## Best Time to Buy and Sell Stock with Cooldown -- LC 309 -- "
   ]
  },
  {
   "cell_type": "markdown",
   "id": "6bb8df0e-0f17-4783-8eac-77cc285f4376",
   "metadata": {},
   "source": [
    "You are given an array prices where prices[i] is the price of a given stock on the ith day.\n",
    "\n",
    "Find the maximum profit you can achieve. You may complete as many transactions as you like (i.e., buy one and sell one share of the stock multiple times) with the following restrictions:\n",
    "\n",
    "After you sell your stock, you cannot buy stock on the next day (i.e., cooldown one day).\n",
    "Note: You may not engage in multiple transactions simultaneously (i.e., you must sell the stock before you buy again).\n",
    "\n",
    " \n",
    "\n",
    "        Example 1:\n",
    "        \n",
    "        Input: prices = [1,2,3,0,2]\n",
    "        Output: 3\n",
    "        Explanation: transactions = [buy, sell, cooldown, buy, sell]\n",
    "        Example 2:\n",
    "        \n",
    "        Input: prices = [1]\n",
    "        Output: 0\n",
    "         \n",
    "        \n",
    "        Constraints:\n",
    "        \n",
    "        1 <= prices.length <= 5000\n",
    "        0 <= prices[i] <= 1000"
   ]
  },
  {
   "cell_type": "raw",
   "id": "c51a7b11-74dd-4984-bbc8-ed6dc17188bc",
   "metadata": {},
   "source": [
    "Approach: Dynamic Programming (O(n))\n",
    "State Definition:\n",
    "\n",
    "        dp[i][0]: Maximum profit on day i, if we do NOT own a stock.\n",
    "        dp[i][1]: Maximum profit on day i, if we own a stock.\n",
    "    \n",
    "Transition:\n",
    "\n",
    "        If we do not own a stock at i:\n",
    "        \n",
    "                    dp[i][0]=max(dp[i−1][0],dp[i−1][1]+prices[i])\n",
    "        If we own a stock at i:\n",
    "        \n",
    "                    dp[i][1]=max(dp[i−1][1],dp[i−2][0]−prices[i])\n",
    "\n",
    "⏳ Time Complexity: O(n)\n",
    "💾 Space Complexity: O(1)\n",
    "                    "
   ]
  },
  {
   "cell_type": "code",
   "execution_count": 1,
   "id": "345f2e16-fa5b-4364-82c3-ab9b1faaf07e",
   "metadata": {},
   "outputs": [
    {
     "name": "stdout",
     "output_type": "stream",
     "text": [
      "3\n"
     ]
    }
   ],
   "source": [
    "def maxProfit(prices):\n",
    "    if not prices: return 0\n",
    "    n = len(prices)\n",
    "    sell, buy, prev_sell = 0, -prices[0], 0\n",
    "\n",
    "    for i in range(1, n):\n",
    "        temp = sell\n",
    "        sell = max(sell, buy + prices[i])  # Sell stock\n",
    "        buy = max(buy, prev_sell - prices[i])  # Buy stock after cooldown\n",
    "        prev_sell = temp  # Store previous sell value\n",
    "\n",
    "    return sell\n",
    "\n",
    "prices = [1,2,3,0,2]\n",
    "print(maxProfit(prices))  # Output: 3"
   ]
  },
  {
   "cell_type": "markdown",
   "id": "a4d044f8-0c90-4fd6-b437-8ce3e90c8daa",
   "metadata": {
    "jp-MarkdownHeadingCollapsed": true
   },
   "source": [
    "## Best Time to Buy and Sell Stock with Transaction Fee --715=4 -- M"
   ]
  },
  {
   "cell_type": "markdown",
   "id": "198e3bd4-35cb-446f-99fb-c1900e28801a",
   "metadata": {},
   "source": [
    "You are given an array prices where prices[i] is the price of a given stock on the ith day, and an integer fee representing a transaction fee.\n",
    "\n",
    "Find the maximum profit you can achieve. You may complete as many transactions as you like, but you need to pay the transaction fee for each transaction.\n",
    "\n",
    "Note:\n",
    "\n",
    "You may not engage in multiple transactions simultaneously (i.e., you must sell the stock before you buy again).\n",
    "The transaction fee is only charged once for each stock purchase and sale.\n",
    " \n",
    "\n",
    "            Example 1:\n",
    "            \n",
    "            Input: prices = [1,3,2,8,4,9], fee = 2\n",
    "            Output: 8\n",
    "            Explanation: The maximum profit can be achieved by:\n",
    "            - Buying at prices[0] = 1\n",
    "            - Selling at prices[3] = 8\n",
    "            - Buying at prices[4] = 4\n",
    "            - Selling at prices[5] = 9\n",
    "            The total profit is ((8 - 1) - 2) + ((9 - 4) - 2) = 8.\n",
    "            Example 2:\n",
    "            \n",
    "            Input: prices = [1,3,7,5,10,3], fee = 3\n",
    "            Output: 6\n",
    "             \n",
    "            \n",
    "            Constraints:\n",
    "            \n",
    "            1 <= prices.length <= 5 * 104\n",
    "            1 <= prices[i] < 5 * 104\n",
    "            0 <= fee < 5 * 104"
   ]
  },
  {
   "cell_type": "raw",
   "id": "d70c98ab-4d53-476e-a645-111125209a86",
   "metadata": {},
   "source": [
    "2. Best Time to Buy and Sell Stock with Transaction Fee\n",
    "🔹 Given prices[] and a transaction fee, find the maximum profit.\n",
    "🔹 Each time you sell a stock, you pay a fee.\n",
    "\n",
    "Approach: Dynamic Programming (O(n))\n",
    "            State Definition:\n",
    "            \n",
    "            dp[i][0]: Maximum profit on day i, if we do NOT own a stock.\n",
    "            dp[i][1]: Maximum profit on day i, if we own a stock.\n",
    "\n",
    "            Transition:\n",
    "            \n",
    "            If we do not own a stock at i:\n",
    "            dp[i][0]=max(dp[i−1][0],dp[i−1][1]+prices[i]−fee)\n",
    "            If we own a stock at i:\n",
    "            \n",
    "            dp[i][1]=max(dp[i−1][1],dp[i−1][0]−prices[i])\n",
    "\n",
    "⏳ Time Complexity:O(n)\n",
    "💾 Space Complexity: O(1)"
   ]
  },
  {
   "cell_type": "code",
   "execution_count": 2,
   "id": "8b8b5ce3-d198-4e60-87c5-f2e8e20c0ebb",
   "metadata": {},
   "outputs": [
    {
     "name": "stdout",
     "output_type": "stream",
     "text": [
      "8\n"
     ]
    }
   ],
   "source": [
    "def maxProfit(prices, fee):\n",
    "    sell, buy = 0, -prices[0]  # Base case\n",
    "\n",
    "    for price in prices[1:]:\n",
    "        sell = max(sell, buy + price - fee)  # Sell with fee\n",
    "        buy = max(buy, sell - price)  # Buy stock\n",
    "\n",
    "    return sell\n",
    "\n",
    "prices = [1,3,2,8,4,9]\n",
    "fee = 2\n",
    "print(maxProfit(prices, fee))  # Output: 8"
   ]
  },
  {
   "cell_type": "markdown",
   "id": "57cc453b-c43b-4da5-975e-31044ceb0626",
   "metadata": {
    "jp-MarkdownHeadingCollapsed": true
   },
   "source": [
    "## Best Time to Buy and Sell Stock III --LC 123 -- H"
   ]
  },
  {
   "cell_type": "markdown",
   "id": "c1498e29-cdee-4d77-8695-5a447a6424ee",
   "metadata": {},
   "source": [
    "You are given an array prices where prices[i] is the price of a given stock on the ith day.\n",
    "\n",
    "Find the maximum profit you can achieve. You may complete at most two transactions.\n",
    "\n",
    "Note: You may not engage in multiple transactions simultaneously (i.e., you must sell the stock before you buy again).\n",
    "\n",
    " \n",
    "\n",
    "            Example 1:\n",
    "            \n",
    "            Input: prices = [3,3,5,0,0,3,1,4]\n",
    "            Output: 6\n",
    "            Explanation: Buy on day 4 (price = 0) and sell on day 6 (price = 3), profit = 3-0 = 3.\n",
    "            Then buy on day 7 (price = 1) and sell on day 8 (price = 4), profit = 4-1 = 3.\n",
    "            Example 2:\n",
    "            \n",
    "            Input: prices = [1,2,3,4,5]\n",
    "            Output: 4\n",
    "            Explanation: Buy on day 1 (price = 1) and sell on day 5 (price = 5), profit = 5-1 = 4.\n",
    "            Note that you cannot buy on day 1, buy on day 2 and sell them later, as you are engaging multiple transactions at the same time. You must sell before buying again.\n",
    "            Example 3:\n",
    "            \n",
    "            Input: prices = [7,6,4,3,1]\n",
    "            Output: 0\n",
    "            Explanation: In this case, no transaction is done, i.e. max profit = 0.\n",
    "             \n",
    "            \n",
    "            Constraints:\n",
    "            \n",
    "            1 <= prices.length <= 105\n",
    "            0 <= prices[i] <= 105"
   ]
  },
  {
   "cell_type": "raw",
   "id": "2c1f3ba1-6b3c-4df5-a7bb-b8ca2dcdcebd",
   "metadata": {},
   "source": [
    "1. Best Time to Buy and Sell Stock III\n",
    "🔹 You are allowed at most two transactions (buy-sell pairs). Find the maximum profit.\n",
    "\n",
    "Approach: Dynamic Programming (O(n))\n",
    "- State Definition:\n",
    "\n",
    "        buy1: Maximum profit after 1st buy (minimize cost).\n",
    "        sell1: Maximum profit after 1st sell.\n",
    "        buy2: Maximum profit after 2nd buy.\n",
    "        sell2: Maximum profit after 2nd sell.\n",
    "\n",
    "- Transitions:\n",
    "\n",
    "            buy1=max(buy1,−prices[i])\n",
    "            \n",
    "            sell1=max(sell1,buy1+prices[i])\n",
    "            \n",
    "            buy2=max(buy2,sell1−prices[i])\n",
    "            \n",
    "            sell2=max(sell2,buy2+prices[i])\n",
    "\n",
    "\n",
    "⏳ Time Complexity: O(n)\n",
    "💾 Space Complexity: O(1) "
   ]
  },
  {
   "cell_type": "code",
   "execution_count": 3,
   "id": "fb470270-3007-413e-bfb3-172b28c6576d",
   "metadata": {},
   "outputs": [
    {
     "name": "stdout",
     "output_type": "stream",
     "text": [
      "6\n"
     ]
    }
   ],
   "source": [
    "def maxProfit(prices):\n",
    "    buy1, sell1 = float('-inf'), 0\n",
    "    buy2, sell2 = float('-inf'), 0\n",
    "\n",
    "    for price in prices:\n",
    "        buy1 = max(buy1, -price)      # First buy\n",
    "        sell1 = max(sell1, buy1 + price)  # First sell\n",
    "        buy2 = max(buy2, sell1 - price)   # Second buy\n",
    "        sell2 = max(sell2, buy2 + price)  # Second sell\n",
    "\n",
    "    return sell2\n",
    "\n",
    "prices = [3,3,5,0,0,3,1,4]\n",
    "print(maxProfit(prices))  # Output: 6"
   ]
  },
  {
   "cell_type": "markdown",
   "id": "ec45294b-fe63-4d95-b4f2-fe0530602a93",
   "metadata": {
    "jp-MarkdownHeadingCollapsed": true
   },
   "source": [
    "## Best Time to Buy and Sell Stock IV -- 188 -- H"
   ]
  },
  {
   "cell_type": "raw",
   "id": "a64c2164-adb6-44ba-9078-a05e0426db45",
   "metadata": {},
   "source": [
    "2. Best Time to Buy and Sell Stock IV\n",
    "🔹 You are allowed at most k transactions (buy-sell pairs).\n",
    "🔹 Find the maximum profit.\n",
    "\n",
    "Approach 1: DP with 2D Array (O(n*k))\n",
    "- State Definition:\n",
    "\n",
    "        dp[i][j] → Max profit until day i with at most j transactions.\n",
    "- Transition:\n",
    "            \n",
    "            dp[i][j]=max(dp[i−1][j],prices[i]+max m<i ​ (dp[m][j−1]−prices[m]))\n",
    "            We precompute max_prev to optimize.\n",
    "\n",
    "⏳ Time Complexity:O(n×k)\n",
    "💾 Space Complexity:O(n×k)\n"
   ]
  },
  {
   "cell_type": "code",
   "execution_count": 4,
   "id": "91f8c856-9c9a-4326-b348-656f1fe42dee",
   "metadata": {},
   "outputs": [
    {
     "name": "stdout",
     "output_type": "stream",
     "text": [
      "7\n"
     ]
    }
   ],
   "source": [
    "def maxProfit(k, prices):\n",
    "    if not prices: return 0\n",
    "    n = len(prices)\n",
    "\n",
    "    # If k is large enough, we can perform unlimited transactions\n",
    "    if k >= n // 2:\n",
    "        return sum(max(prices[i + 1] - prices[i], 0) for i in range(n - 1))\n",
    "\n",
    "    dp = [[0] * (k + 1) for _ in range(n)]\n",
    "\n",
    "    for j in range(1, k + 1):\n",
    "        max_prev = -prices[0]\n",
    "        for i in range(1, n):\n",
    "            dp[i][j] = max(dp[i-1][j], prices[i] + max_prev)\n",
    "            max_prev = max(max_prev, dp[i-1][j-1] - prices[i])\n",
    "\n",
    "    return dp[-1][-1]\n",
    "\n",
    "prices = [3,2,6,5,0,3]\n",
    "k = 2\n",
    "print(maxProfit(k, prices))  # Output: 7"
   ]
  },
  {
   "cell_type": "markdown",
   "id": "0ffaea95-ed8b-46c9-9dc9-1f24f8a2ef0b",
   "metadata": {},
   "source": [
    "## Next"
   ]
  },
  {
   "cell_type": "code",
   "execution_count": null,
   "id": "b8afb3e3-9191-427f-aea6-eca601879fb0",
   "metadata": {},
   "outputs": [],
   "source": []
  }
 ],
 "metadata": {
  "kernelspec": {
   "display_name": "Python 3 (ipykernel)",
   "language": "python",
   "name": "python3"
  },
  "language_info": {
   "codemirror_mode": {
    "name": "ipython",
    "version": 3
   },
   "file_extension": ".py",
   "mimetype": "text/x-python",
   "name": "python",
   "nbconvert_exporter": "python",
   "pygments_lexer": "ipython3",
   "version": "3.12.7"
  }
 },
 "nbformat": 4,
 "nbformat_minor": 5
}
