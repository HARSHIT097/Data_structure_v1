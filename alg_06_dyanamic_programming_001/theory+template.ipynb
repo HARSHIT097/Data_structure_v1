{
 "cells": [
  {
   "cell_type": "markdown",
   "id": "9f80546c-caf1-4d8c-869f-747739d3b8be",
   "metadata": {},
   "source": [
    "### Dyanamic Programming\n",
    "\n",
    "- used for optimization problems by breaking them into overlapping subproblems and,\n",
    "- solving each subproblem once using **Memoization**(top-down) and **Tabulation**(bottom-up)"
   ]
  },
  {
   "cell_type": "code",
   "execution_count": 1,
   "id": "ad42937e-1137-4cba-a74d-96981f1d9bed",
   "metadata": {},
   "outputs": [],
   "source": [
    "# General DP Template (Memoization - Top-Down Approach)\n",
    "from functools import lru_cache\n",
    "\n",
    "def dp_function(parameters):\n",
    "    @lru_cache(None)  # Memoization\n",
    "    def dp(state):\n",
    "        if base_case(state):  \n",
    "            return base_case_value  \n",
    "        \n",
    "        result = optimal_value_initial  # Initialize result\n",
    "        \n",
    "        for choice in choices:  \n",
    "            result = best_option(result, dp(new_state(choice)))  # Recursively solve smaller problems\n",
    "            \n",
    "        return result\n",
    "\n",
    "    return dp(initial_state)"
   ]
  },
  {
   "cell_type": "code",
   "execution_count": 2,
   "id": "88ac59bd-5856-4de8-a512-c22e0bcc8af8",
   "metadata": {},
   "outputs": [],
   "source": [
    "# Template for 1D DP (Memoization - Top-Down)\n",
    "# Used when solving problems recursively and storing intermediate results.\n",
    "\n",
    "def dp_recursive(n, memo={}):\n",
    "    if n in memo:\n",
    "        return memo[n]  # Return precomputed result\n",
    "    if n == 0 or n == 1:\n",
    "        return n  # Base case\n",
    "    \n",
    "    memo[n] = dp_recursive(n-1, memo) + dp_recursive(n-2, memo)  # Store result\n",
    "    return memo[n]"
   ]
  },
  {
   "cell_type": "code",
   "execution_count": 3,
   "id": "83c801c0-6bb9-4851-b6f2-1e05620f3f51",
   "metadata": {},
   "outputs": [],
   "source": [
    "# General DP Template (Tabulation - Bottom-Up Approach)\n",
    "def dp_function(parameters):\n",
    "    dp = [initial_values] * size  # Define DP table\n",
    "    \n",
    "    for i in range(size):\n",
    "        dp[i] = best_option(dp[i-1], dp[i-2], ...)  # Transition relation\n",
    "\n",
    "    return dp[target_index]"
   ]
  },
  {
   "cell_type": "code",
   "execution_count": 4,
   "id": "5556176c-f12a-4f20-986b-5204d42fc891",
   "metadata": {},
   "outputs": [],
   "source": [
    "# Template for 1D DP (Tabulation - Bottom-Up)\n",
    "# Used when solving problems iteratively, avoiding recursion overhead.\n",
    "\n",
    "def dp_iterative(n):\n",
    "    if n == 0 or n == 1:\n",
    "        return n\n",
    "    \n",
    "    dp = [0] * (n+1)\n",
    "    dp[1] = 1  # Base case\n",
    "    \n",
    "    for i in range(2, n+1):\n",
    "        dp[i] = dp[i-1] + dp[i-2]  # State transition\n",
    "    \n",
    "    return dp[n]\n"
   ]
  },
  {
   "cell_type": "raw",
   "id": "5412a89d-2348-4b2f-acf5-968bd5b6650f",
   "metadata": {},
   "source": [
    "Interview Insights\n",
    "\n",
    "        Start with recursion to show brute force understanding.\n",
    "        Memoization improves recursion but still uses stack space.Good for top-Down Dp.\n",
    "        Tabulation (Bottom-Up DP) is preferred for iterative solutions.Standard for Interview use\n",
    "        Space Optimization is the best approach for coding interviews.\n",
    "        Mathematical formula is useful for large n."
   ]
  },
  {
   "cell_type": "code",
   "execution_count": null,
   "id": "bd79bb52-5c1e-454a-bb65-bbbdb90fd41f",
   "metadata": {},
   "outputs": [],
   "source": []
  }
 ],
 "metadata": {
  "kernelspec": {
   "display_name": "Python 3 (ipykernel)",
   "language": "python",
   "name": "python3"
  },
  "language_info": {
   "codemirror_mode": {
    "name": "ipython",
    "version": 3
   },
   "file_extension": ".py",
   "mimetype": "text/x-python",
   "name": "python",
   "nbconvert_exporter": "python",
   "pygments_lexer": "ipython3",
   "version": "3.12.7"
  }
 },
 "nbformat": 4,
 "nbformat_minor": 5
}
