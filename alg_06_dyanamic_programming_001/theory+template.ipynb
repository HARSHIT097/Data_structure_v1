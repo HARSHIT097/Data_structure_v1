{
 "cells": [
  {
   "cell_type": "markdown",
   "id": "9f80546c-caf1-4d8c-869f-747739d3b8be",
   "metadata": {},
   "source": [
    "### Dyanamic Programming\n",
    "\n",
    "- used for optimization problems by breaking them into overlapping subproblems and,\n",
    "- solving each subproblem once using **Memoization**(top-down) and **Tabulation**(bottom-up)"
   ]
  },
  {
   "cell_type": "code",
   "execution_count": 1,
   "id": "ad42937e-1137-4cba-a74d-96981f1d9bed",
   "metadata": {},
   "outputs": [],
   "source": [
    "# General DP Template (Memoization - Top-Down Approach)\n",
    "from functools import lru_cache\n",
    "\n",
    "def dp_function(parameters):\n",
    "    @lru_cache(None)  # Memoization\n",
    "    def dp(state):\n",
    "        if base_case(state):  \n",
    "            return base_case_value  \n",
    "        \n",
    "        result = optimal_value_initial  # Initialize result\n",
    "        \n",
    "        for choice in choices:  \n",
    "            result = best_option(result, dp(new_state(choice)))  # Recursively solve smaller problems\n",
    "            \n",
    "        return result\n",
    "\n",
    "    return dp(initial_state)"
   ]
  },
  {
   "cell_type": "code",
   "execution_count": 2,
   "id": "88ac59bd-5856-4de8-a512-c22e0bcc8af8",
   "metadata": {},
   "outputs": [],
   "source": [
    "# Template for 1D DP (Memoization - Top-Down)\n",
    "# Used when solving problems recursively and storing intermediate results.\n",
    "\n",
    "def dp_recursive(n, memo={}):\n",
    "    if n in memo:\n",
    "        return memo[n]  # Return precomputed result\n",
    "    if n == 0 or n == 1:\n",
    "        return n  # Base case\n",
    "    \n",
    "    memo[n] = dp_recursive(n-1, memo) + dp_recursive(n-2, memo)  # Store result\n",
    "    return memo[n]"
   ]
  },
  {
   "cell_type": "code",
   "execution_count": 3,
   "id": "83c801c0-6bb9-4851-b6f2-1e05620f3f51",
   "metadata": {},
   "outputs": [],
   "source": [
    "# General DP Template (Tabulation - Bottom-Up Approach)\n",
    "def dp_function(parameters):\n",
    "    dp = [initial_values] * size  # Define DP table\n",
    "    \n",
    "    for i in range(size):\n",
    "        dp[i] = best_option(dp[i-1], dp[i-2], ...)  # Transition relation\n",
    "\n",
    "    return dp[target_index]"
   ]
  },
  {
   "cell_type": "code",
   "execution_count": 4,
   "id": "5556176c-f12a-4f20-986b-5204d42fc891",
   "metadata": {},
   "outputs": [],
   "source": [
    "# Template for 1D DP (Tabulation - Bottom-Up)\n",
    "# Used when solving problems iteratively, avoiding recursion overhead.\n",
    "\n",
    "def dp_iterative(n):\n",
    "    if n == 0 or n == 1:\n",
    "        return n\n",
    "    \n",
    "    dp = [0] * (n+1)\n",
    "    dp[1] = 1  # Base case\n",
    "    \n",
    "    for i in range(2, n+1):\n",
    "        dp[i] = dp[i-1] + dp[i-2]  # State transition\n",
    "    \n",
    "    return dp[n]\n"
   ]
  },
  {
   "cell_type": "raw",
   "id": "5412a89d-2348-4b2f-acf5-968bd5b6650f",
   "metadata": {},
   "source": [
    "Interview Insights\n",
    "\n",
    "        Start with recursion to show brute force understanding.\n",
    "        Memoization improves recursion but still uses stack space.Good for top-Down Dp.\n",
    "        Tabulation (Bottom-Up DP) is preferred for iterative solutions.Standard for Interview use\n",
    "        Space Optimization is the best approach for coding interviews.\n",
    "        Mathematical formula is useful for large n."
   ]
  },
  {
   "cell_type": "markdown",
   "id": "cb60a4a0-422c-4ba7-9f28-ed614ed35916",
   "metadata": {},
   "source": [
    "✅ Dynamic Programming Pattern Mapping Table\n",
    "\n",
    "| **#** | **Pattern**                      | **Problem Statement**                                                               | **Core Recurrence / Idea**                                                                                                        | **Typical Complexity** | **Representative Problems**                                                                                                                                |\n",
    "| ----: | -------------------------------- | ----------------------------------------------------------------------------------- | --------------------------------------------------------------------------------------------------------------------------------- | ---------------------- | ---------------------------------------------------------------------------------------------------------------------------------------------------------- |\n",
    "| **1** | Minimum / Maximum Path to Target | Min/max cost, path, or steps to reach target                                        | `dp[i] = min(dp[i-x₁], ..., dp[i-xₖ]) + cost[i]`                                                                                  | `O(n * k)`             | 746. Min Cost Climbing Stairs<br>64. Minimum Path Sum<br>322. Coin Change<br>983. Min Cost for Tickets<br>120. Triangle                                    |\n",
    "| **2** | Distinct Ways to Reach a Target  | Count number of distinct ways to reach a target using allowed steps                 | `dp[i] = dp[i - x₁] + ... + dp[i - xₖ]`                                                                                           | `O(n * k)`             | 70. Climbing Stairs<br>62. Unique Paths<br>494. Target Sum<br>377. Combination Sum IV<br>935. Knight Dialer                                                |\n",
    "| **3** | Merging Intervals                | Find best value (min/max) from partitioned/merged subintervals                      | `dp[i][j] = min(dp[i][k] + merge[k] + dp[k+1][j])`                                                                                | `O(n³)`                | 1130. Min Cost Tree from Leaf Values<br>312. Burst Balloons<br>1039. Min Triangulation<br>1000. Merge Stones<br>546. Remove Boxes                          |\n",
    "| **4** | DP on Strings                    | Align, compare, transform or partition one or two strings                           | `dp[i][j] = dp[i-1][j-1] + 1` or `max(dp[i-1][j], dp[i][j-1])` (for 2 strings)<br>`dp[i][j]` based on `s[i] == s[j]` for 1 string | `O(n²)`                | 1143. Longest Common Subsequence<br>72. Edit Distance<br>647. Palindromic Substrings<br>516. Longest Palindromic Subsequence<br>115. Distinct Subsequences |\n",
    "| **5** | Decision Making                  | At each step, choose to include or exclude current item to maximize/minimize result | `dp[i][state] = max(skip, take)`<br>`state` may include `holding`, `cooldown`, `transactions`                                     | `O(n * state)`         | 198. House Robber<br>121. Best Time to Buy/Sell Stock<br>714. With Fee<br>309. With Cooldown<br>123. Buy/Sell Stock III<br>188. Buy/Sell Stock IV          |\n",
    "\n",
    "\n",
    "\n",
    "🧩 Explanation Key\n",
    "    \n",
    "x₁, x₂, ..., xₖ → allowed steps, coins, etc.\n",
    "\n",
    "merge[k] → cost/value/score to merge at partition k\n",
    "\n",
    "state → Boolean flags or counters (e.g., holding stock, number of transactions left)\n",
    "\n",
    "dp[i][j] → often used for 2D problems involving substrings or intervals   "
   ]
  },
  {
   "cell_type": "code",
   "execution_count": null,
   "id": "27613ac0-aa4b-41b1-a6d0-3b2bee41c9e2",
   "metadata": {},
   "outputs": [],
   "source": []
  }
 ],
 "metadata": {
  "kernelspec": {
   "display_name": "Python 3 (ipykernel)",
   "language": "python",
   "name": "python3"
  },
  "language_info": {
   "codemirror_mode": {
    "name": "ipython",
    "version": 3
   },
   "file_extension": ".py",
   "mimetype": "text/x-python",
   "name": "python",
   "nbconvert_exporter": "python",
   "pygments_lexer": "ipython3",
   "version": "3.12.7"
  }
 },
 "nbformat": 4,
 "nbformat_minor": 5
}
