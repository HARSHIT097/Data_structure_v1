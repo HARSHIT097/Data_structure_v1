{
 "cells": [
  {
   "cell_type": "raw",
   "id": "f2d9482d-47f9-41db-bb66-c95ce1b42182",
   "metadata": {},
   "source": [
    "Partition Equal Subset Sum → Can we split an array into two subsets of equal sum?\n",
    "Solution: Use *Subset Sum DP."
   ]
  },
  {
   "cell_type": "raw",
   "id": "c30cc324-bdb7-4559-a4e3-9a60a9d6acd3",
   "metadata": {},
   "source": [
    "0/1 Knapsack Problem → Given weights and values, maximize value without exceeding weight.\n",
    "Solution: Use *Knapsack DP."
   ]
  },
  {
   "cell_type": "raw",
   "id": "8d0d3c81-fcdc-4285-a53e-9d12040ff206",
   "metadata": {},
   "source": [
    "Palindrome Partitioning → Given a string, find the minimum cuts needed to partition it into palindromic substrings.\n",
    "    Solution: Use 2D DP with palindrome checking."
   ]
  },
  {
   "cell_type": "code",
   "execution_count": null,
   "id": "d7b70214-10a9-48fb-b423-cc9da4e322ef",
   "metadata": {},
   "outputs": [],
   "source": [
    "    Coin Change Problem → Find the minimum number of coins needed to make a given amount.\n",
    "    Solution: Use 1D DP (similar to unbounded knapsack)."
   ]
  }
 ],
 "metadata": {
  "kernelspec": {
   "display_name": "Python 3 (ipykernel)",
   "language": "python",
   "name": "python3"
  },
  "language_info": {
   "codemirror_mode": {
    "name": "ipython",
    "version": 3
   },
   "file_extension": ".py",
   "mimetype": "text/x-python",
   "name": "python",
   "nbconvert_exporter": "python",
   "pygments_lexer": "ipython3",
   "version": "3.12.7"
  }
 },
 "nbformat": 4,
 "nbformat_minor": 5
}
