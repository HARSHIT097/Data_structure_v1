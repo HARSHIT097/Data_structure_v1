{
 "cells": [
  {
   "cell_type": "raw",
   "id": "05df966d-11cb-4676-9ebc-c3d8dcf1bfaa",
   "metadata": {},
   "source": [
    "        Day\t    Topics\t                        Problems to Solve\n",
    "        Day 1\t0/1 Knapsack\t                Basic DP problems\n",
    "        Day 2\tSubset Sum, Partition Sum\t    Medium DP problems\n",
    "        Day 3\tUnbounded Knapsack\t            Coin Change, Rod Cutting\n",
    "        Day 4\tMin Optimization\t            Min Coins, Min Ways to Form Sum\n",
    "        Day 5\tKnapsack-style Fibonacci\t    Staircase DP, Integer Break\n",
    "        Day 6\tOrdered Unbounded Knapsack\t    Permutation-based DP\n",
    "        Day 7\tBounded Knapsack\t            Limited supply, Binary Splitting\n",
    "        Day 8\tMulti-Choice Knapsack\t        Select 1 from each category\n",
    "        Day 9\tGraph + Knapsack\t            Constraints, Steiner Tree\n",
    "        Day 10\tMixed Practice\t                Solve random problems"
   ]
  },
  {
   "cell_type": "raw",
   "id": "63a7fbc4-21f0-499a-89f2-b5e156b6fb64",
   "metadata": {},
   "source": [
    "        🔹 Step 1: Foundations (0/1 Knapsack & Subset Sum)\n",
    "        0/1 Knapsack – Knapsack Problem\n",
    "        Subset Sum Problem – LeetCode 416. Partition Equal Subset Sum\n",
    "        Partition Equal Subset Sum – LeetCode 416\n",
    "        Count of Subsets with Given Sum – LeetCode 494. Target Sum\n",
    "        Knapsack with Space Optimization – Implement using rolling DP array.\n",
    "        🔹 Step 2: Unbounded Knapsack & Variants\n",
    "        Unbounded Knapsack – Knapsack with Infinite Supply (GFG)\n",
    "        Coin Change (Number of Ways) – LeetCode 518. Coin Change 2\n",
    "        Coin Change (Fewest Coins - Min Optimization) – LeetCode 322. Coin Change\n",
    "        Rod Cutting Problem – Rod Cutting (GFG)\n",
    "        Integer Break (Max Product of Integers) – LeetCode 343. Integer Break\n",
    "        🔹 Step 3: Ordered & Constrained Knapsack\n",
    "        Unbounded Knapsack Where Order Matters – LeetCode 377. Combination Sum IV\n",
    "        Unbounded Knapsack with Min Optimization – LeetCode 322. Coin Change\n",
    "        Knapsack-style Fibonacci DP – LeetCode 70. Climbing Stairs\n",
    "        🔹 Step 4: Bounded Knapsack & Multi-Choice\n",
    "        Bounded Knapsack (Each Item At Most k Times) – Modify classic 0/1 knapsack with limited choices.\n",
    "        Multi-Choice Knapsack – LeetCode 198. House Robber\n",
    "        🔹 Step 5: Advanced Knapsack Problems\n",
    "        0/1 Knapsack with Constraints – LeetCode 1774. Closest Dessert Cost\n",
    "        Steiner Tree Problem (Graph + Knapsack) – Steiner Tree (GFG)"
   ]
  },
  {
   "cell_type": "code",
   "execution_count": null,
   "id": "0f8628d5-3edc-431a-b4f5-cbb6ddd221aa",
   "metadata": {},
   "outputs": [],
   "source": []
  },
  {
   "cell_type": "code",
   "execution_count": null,
   "id": "5e1dce7d-6b43-40e2-b603-515052f4ce1a",
   "metadata": {},
   "outputs": [],
   "source": []
  },
  {
   "cell_type": "markdown",
   "id": "380cbf88-5a5f-4147-8afe-fed13d640b86",
   "metadata": {},
   "source": [
    "# knapsack\n",
    "\n",
    "✅ Perfect Squares\n",
    "\n",
    "DP: Classic \"min steps to reach target\".\n",
    "BFS: Treat as shortest path problem.\n",
    "\n",
    "\n",
    "✅ Coin Change II\n",
    "\n",
    "Unbounded Knapsack DP (each coin can be used unlimited times).\n",
    "Order matters: Coins are picked one by one to avoid overcounting."
   ]
  },
  {
   "cell_type": "raw",
   "id": "f2d9482d-47f9-41db-bb66-c95ce1b42182",
   "metadata": {},
   "source": [
    "Partition Equal Subset Sum → Can we split an array into two subsets of equal sum?\n",
    "Solution: Use *Subset Sum DP."
   ]
  },
  {
   "cell_type": "raw",
   "id": "c30cc324-bdb7-4559-a4e3-9a60a9d6acd3",
   "metadata": {},
   "source": [
    "0/1 Knapsack Problem → Given weights and values, maximize value without exceeding weight.\n",
    "Solution: Use *Knapsack DP."
   ]
  },
  {
   "cell_type": "raw",
   "id": "8d0d3c81-fcdc-4285-a53e-9d12040ff206",
   "metadata": {},
   "source": [
    "Palindrome Partitioning → Given a string, find the minimum cuts needed to partition it into palindromic substrings.\n",
    "    Solution: Use 2D DP with palindrome checking."
   ]
  },
  {
   "cell_type": "code",
   "execution_count": null,
   "id": "d7b70214-10a9-48fb-b423-cc9da4e322ef",
   "metadata": {},
   "outputs": [],
   "source": [
    "    Coin Change Problem → Find the minimum number of coins needed to make a given amount.\n",
    "    Solution: Use 1D DP (similar to unbounded knapsack)."
   ]
  },
  {
   "cell_type": "markdown",
   "id": "6932332d-7c51-43fb-9256-c16251a3e70d",
   "metadata": {},
   "source": [
    "## 322. Coin Change"
   ]
  },
  {
   "cell_type": "raw",
   "id": "429dc1d0-56c1-4111-98dd-722a35d75f81",
   "metadata": {},
   "source": [
    "You are given an integer array coins representing coins of different denominations and an integer amount representing a total amount of money.\n",
    "\n",
    "Return the fewest number of coins that you need to make up that amount. If that amount of money cannot be made up by any combination of the coins, return -1.\n",
    "\n",
    "You may assume that you have an infinite number of each kind of coin.\n",
    "\n",
    " \n",
    "                \n",
    "                Example 1:\n",
    "                \n",
    "                Input: coins = [1,2,5], amount = 11\n",
    "                Output: 3\n",
    "                Explanation: 11 = 5 + 5 + 1\n",
    "                Example 2:\n",
    "                \n",
    "                Input: coins = [2], amount = 3\n",
    "                Output: -1\n",
    "                Example 3:\n",
    "                \n",
    "                Input: coins = [1], amount = 0\n",
    "                Output: 0\n",
    "                 \n",
    "                \n",
    "                Constraints:\n",
    "                \n",
    "                1 <= coins.length <= 12\n",
    "                1 <= coins[i] <= 231 - 1\n",
    "                0 <= amount <= 104"
   ]
  },
  {
   "cell_type": "raw",
   "id": "c523ebc4-5eb5-4c60-9c5c-e0d1dc2a542a",
   "metadata": {},
   "source": [
    "🔹 Problem: Given coins[] and amount, find minimum number of coins to make amount (or return -1 if impossible).\n",
    "\n",
    "Approach: Dynamic Programming (Bottom-Up)\n",
    "- State Definition:\n",
    "\n",
    "            dp[i] → Minimum coins required to make sum i.\n",
    "\n",
    "- Transition:\n",
    "\n",
    "            Try every coin:\n",
    "            dp[i]=min(dp[i],dp[i−coin]+1)\n",
    "            Base Case:\n",
    "            \n",
    "            dp[0] = 0 (No coins needed for amount 0)\n",
    "            dp[i] = ∞ (Impossible to form initially)\n",
    "\n",
    "⏳ Time Complexity: O(n×amount)\n",
    "💾 Space Complexity: O(amount)                       "
   ]
  },
  {
   "cell_type": "code",
   "execution_count": 1,
   "id": "1219d086-b782-4621-8381-c6daff690d2c",
   "metadata": {},
   "outputs": [
    {
     "name": "stdout",
     "output_type": "stream",
     "text": [
      "3\n"
     ]
    }
   ],
   "source": [
    "import math\n",
    "\n",
    "def coinChange(coins, amount):\n",
    "    dp = [math.inf] * (amount + 1)\n",
    "    dp[0] = 0  # Base case\n",
    "\n",
    "    for i in range(1, amount + 1):\n",
    "        for coin in coins:\n",
    "            if i >= coin:\n",
    "                dp[i] = min(dp[i], dp[i - coin] + 1)\n",
    "\n",
    "    return dp[amount] if dp[amount] != math.inf else -1\n",
    "\n",
    "print(coinChange([1,2,5], 11))  # Output: 3 (5+5+1)\n"
   ]
  },
  {
   "cell_type": "markdown",
   "id": "56367b4d-0d0e-46d7-a9f3-09525e54491f",
   "metadata": {},
   "source": [
    "## 2466. Count Ways To Build Good Strings"
   ]
  },
  {
   "cell_type": "raw",
   "id": "dd41588b-d436-43d8-b487-b48197a3cf8d",
   "metadata": {},
   "source": [
    "Given the integers zero, one, low, and high, we can construct a string by starting with an empty string, and then at each step perform either of the following:\n",
    "\n",
    "Append the character '0' zero times.\n",
    "Append the character '1' one times.\n",
    "This can be performed any number of times.\n",
    "\n",
    "A good string is a string constructed by the above process having a length between low and high (inclusive).\n",
    "\n",
    "Return the number of different good strings that can be constructed satisfying these properties. Since the answer can be large, return it modulo 109 + 7.\n",
    "\n",
    " \n",
    "            \n",
    "            Example 1:\n",
    "            \n",
    "            Input: low = 3, high = 3, zero = 1, one = 1\n",
    "            Output: 8\n",
    "            Explanation: \n",
    "            One possible valid good string is \"011\". \n",
    "            It can be constructed as follows: \"\" -> \"0\" -> \"01\" -> \"011\". \n",
    "            All binary strings from \"000\" to \"111\" are good strings in this example.\n",
    "            Example 2:\n",
    "            \n",
    "            Input: low = 2, high = 3, zero = 1, one = 2\n",
    "            Output: 5\n",
    "            Explanation: The good strings are \"00\", \"11\", \"000\", \"110\", and \"011\".\n",
    "             \n",
    "            \n",
    "            Constraints:\n",
    "            \n",
    "            1 <= low <= high <= 105\n",
    "            1 <= zero, one <= low"
   ]
  },
  {
   "cell_type": "raw",
   "id": "767304da-b40b-420b-bbaf-7e631cac71f0",
   "metadata": {},
   "source": [
    "3. Count Ways to Build Good Strings (Bounded Knapsack + Fibonacci Style DP)\n",
    "🔹 Problem: Given low, high, zero, one, find how many valid strings of length in [low, high] can be formed using '0' repeated zero times or '1' repeated one times.\n",
    "\n",
    "Approach: Dynamic Programming (Bottom-Up)\n",
    "\n",
    "- State Definition:\n",
    "\n",
    "            dp[i] → Number of ways to form length i.\n",
    "\n",
    "- Transition:\n",
    "\n",
    "            dp[i]=dp[i−zero]+dp[i−one]\n",
    "            If i >= zero, add dp[i - zero]\n",
    "            If i >= one, add dp[i - one]\n",
    "            Base Case:\n",
    "            \n",
    "            dp[0] = 1 (Empty string is one valid way)\n",
    "\n",
    "\n",
    "⏳ Time Complexity: O(high)\n",
    "💾 Space Complexity: O(high)"
   ]
  },
  {
   "cell_type": "code",
   "execution_count": 2,
   "id": "70ab8983-e16a-489d-b935-804e7889c80e",
   "metadata": {},
   "outputs": [
    {
     "name": "stdout",
     "output_type": "stream",
     "text": [
      "5\n"
     ]
    }
   ],
   "source": [
    "def countGoodStrings(low, high, zero, one):\n",
    "    MOD = 10**9 + 7\n",
    "    dp = [0] * (high + 1)\n",
    "    dp[0] = 1  # Base case: Empty string\n",
    "\n",
    "    for i in range(1, high + 1):\n",
    "        if i >= zero:\n",
    "            dp[i] = (dp[i] + dp[i - zero]) % MOD\n",
    "        if i >= one:\n",
    "            dp[i] = (dp[i] + dp[i - one]) % MOD\n",
    "\n",
    "    return sum(dp[low:high + 1]) % MOD\n",
    "\n",
    "print(countGoodStrings(2, 3, 1, 2))  # Output: 5"
   ]
  },
  {
   "cell_type": "markdown",
   "id": "9da3e9bc-f86d-4888-b374-ea5b8bdb784e",
   "metadata": {},
   "source": [
    "            Solving Questions With Brainpower → Weighted Interval Scheduling DP.\n",
    "            Coin Change → Unbounded Knapsack with min optimization.\n",
    "            Good Strings → Knapsack-style Fibonacci DP."
   ]
  },
  {
   "cell_type": "markdown",
   "id": "d6c5c9c1-4674-4111-a6a1-f5e413a00b49",
   "metadata": {
    "jp-MarkdownHeadingCollapsed": true
   },
   "source": [
    "# 0/1 knapsack\n",
    "\n",
    "- three common implementations of the 0/1 Knapsack problem into Python with clear explanations."
   ]
  },
  {
   "cell_type": "raw",
   "id": "d0c31c9a-a4b7-4f33-82ad-fb3a2daadbe2",
   "metadata": {},
   "source": [
    "💡 Problem Summary\n",
    "Given:\n",
    "\n",
    "n items\n",
    "\n",
    "each item has a weight wt[i] and value val[i]\n",
    "\n",
    "a knapsack with a maximum capacity W\n",
    "\n",
    "Find the maximum total value you can get without exceeding the capacity W.\n",
    "\n",
    "🧠 Method 1: Top-Down (Recursion + Memoization)\n",
    "➕ Pros: Clear recursive logic\n",
    "➖ Cons: Can cause stack overflow for large n, w\n",
    "🔁 Recurrence Relation:"
   ]
  },
  {
   "cell_type": "raw",
   "id": "f2e47342-27a9-40a1-8887-019c795457fd",
   "metadata": {},
   "source": [
    "If wt[i-1] > w:\n",
    "   Exclude item: dp[n][w] = dp[n-1][w]\n",
    "Else:\n",
    "   Max of include or exclude:\n",
    "   dp[n][w] = max(val[n-1] + dp[n-1][w - wt[n-1]], dp[n-1][w])"
   ]
  },
  {
   "cell_type": "code",
   "execution_count": 3,
   "id": "2bf14039-a5be-44c9-ac44-5c3c686b50e6",
   "metadata": {},
   "outputs": [],
   "source": [
    "def knapsack_top_down(wt, val, n, w, dp=None):\n",
    "    if dp is None:\n",
    "        dp = [[-1] * (w + 1) for _ in range(n + 1)]\n",
    "\n",
    "    if n == 0 or w == 0:\n",
    "        return 0\n",
    "\n",
    "    if dp[n][w] != -1:\n",
    "        return dp[n][w]\n",
    "\n",
    "    if wt[n - 1] > w:\n",
    "        dp[n][w] = knapsack_top_down(wt, val, n - 1, w, dp)\n",
    "    else:\n",
    "        include = val[n - 1] + knapsack_top_down(wt, val, n - 1, w - wt[n - 1], dp)\n",
    "        exclude = knapsack_top_down(wt, val, n - 1, w, dp)\n",
    "        dp[n][w] = max(include, exclude)\n",
    "\n",
    "    return dp[n][w]"
   ]
  },
  {
   "cell_type": "raw",
   "id": "0e1447a7-8285-4241-bf77-db1c75d733f8",
   "metadata": {},
   "source": [
    "🧠 Method 2: Bottom-Up DP (Tabulation)\n",
    "➕ Pros: Avoids recursion\n",
    "➖ Cons: Uses O(n * w) space"
   ]
  },
  {
   "cell_type": "code",
   "execution_count": 4,
   "id": "d5b58816-4414-4028-8371-f07eb4105b11",
   "metadata": {},
   "outputs": [],
   "source": [
    "def knapsack_bottom_up(wt, val, n, w):\n",
    "    dp = [[0] * (w + 1) for _ in range(n + 1)]\n",
    "\n",
    "    for i in range(1, n + 1):\n",
    "        for j in range(1, w + 1):\n",
    "            if wt[i - 1] > j:\n",
    "                dp[i][j] = dp[i - 1][j]\n",
    "            else:\n",
    "                include = val[i - 1] + dp[i - 1][j - wt[i - 1]]\n",
    "                exclude = dp[i - 1][j]\n",
    "                dp[i][j] = max(include, exclude)\n",
    "\n",
    "    return dp[n][w]"
   ]
  },
  {
   "cell_type": "raw",
   "id": "cb11eabb-0184-40bd-adfa-b43799ef1974",
   "metadata": {},
   "source": [
    "🧠 Method 3: Space-Optimized Bottom-Up (1D Array)\n",
    "➕ Pros: Only O(w) space\n",
    "➖ Cons: Must iterate j from high to low to avoid overwriting"
   ]
  },
  {
   "cell_type": "code",
   "execution_count": 5,
   "id": "67df87c9-b506-4004-b271-78e958e2d710",
   "metadata": {},
   "outputs": [],
   "source": [
    "def knapsack_optimized(wt, val, n, w):\n",
    "    dp = [0] * (w + 1)\n",
    "\n",
    "    for i in range(n):\n",
    "        for j in range(w, wt[i] - 1, -1):  # Go backward\n",
    "            dp[j] = max(dp[j], dp[j - wt[i]] + val[i])\n",
    "\n",
    "    return dp[w]"
   ]
  },
  {
   "cell_type": "code",
   "execution_count": 6,
   "id": "751dd297-3d97-4cbc-ab0a-b80900ab042e",
   "metadata": {},
   "outputs": [
    {
     "name": "stdout",
     "output_type": "stream",
     "text": [
      "Top-Down: 9\n",
      "Bottom-Up: 9\n",
      "Optimized: 9\n"
     ]
    }
   ],
   "source": [
    "wt = [1, 3, 4, 5]\n",
    "val = [1, 4, 5, 7]\n",
    "W = 7\n",
    "n = len(wt)\n",
    "\n",
    "print(\"Top-Down:\", knapsack_top_down(wt, val, n, W))\n",
    "print(\"Bottom-Up:\", knapsack_bottom_up(wt, val, n, W))\n",
    "print(\"Optimized:\", knapsack_optimized(wt, val, n, W))"
   ]
  },
  {
   "cell_type": "markdown",
   "id": "01558dc5-f8c4-4d11-8f87-668b4fb4106f",
   "metadata": {},
   "source": [
    " 🧩 Related Problems Using Similar Pattern:\n",
    "\n",
    "| Problem                         | Variation                                              |\n",
    "| ------------------------------- | ------------------------------------------------------ |\n",
    "| Subset Sum                      | Boolean DP: can we form sum `S`?                       |\n",
    "| Equal Sum Partition             | Check if total sum can be split into two equal subsets |\n",
    "| Count of Subsets with Given Sum | Count ways to form sum using items                     |\n",
    "| Minimum Subset Sum Difference   | Minimize `abs(sum1 - sum2)`                            |\n",
    "| Count Subsets with Given Diff   | Convert to subset sum using `(sum + diff) / 2`         |\n",
    "| Target Sum (Leetcode)           | Same as above                                          |\n"
   ]
  },
  {
   "cell_type": "markdown",
   "id": "40fab289-e85b-4908-bc31-899334150670",
   "metadata": {},
   "source": [
    "# unbound Knapsack problem"
   ]
  },
  {
   "cell_type": "markdown",
   "id": "d4820979-8c16-468c-9256-30d6317aa495",
   "metadata": {},
   "source": [
    "## 🧠 Problem Statement (Rod Cutting / Unbounded Knapsack)"
   ]
  },
  {
   "cell_type": "raw",
   "id": "4101801f-8141-4b70-a6b9-99fa750e1b8e",
   "metadata": {},
   "source": [
    " the Unbounded Knapsack problem (Rod Cutting Variant) into Python and explain all three standard approaches (Recursive + Memoization, Bottom-Up DP, Space-Optimized DP)\n",
    "\n",
    "Given:\n",
    "\n",
    "A rod of length w\n",
    "\n",
    "Arrays wt[] and val[] of size n, where:\n",
    "\n",
    "wt[i] is the size of the piece\n",
    "\n",
    "val[i] is the value you get from that piece\n",
    "\n",
    "You can use each item multiple times.\n",
    "\n",
    "Goal: Maximize total value without exceeding the rod length.\n",
    "\n",
    "🛠️ Key Difference from 0/1 Knapsack:\n",
    "In 0/1 Knapsack:\n",
    "✅ Use item once: knapsack(wt, val, n-1, w-wt[n-1])\n",
    "In Unbounded Knapsack:\n",
    "🔁 Use item multiple times: knapsack(wt, val, n, w-wt[n-1])"
   ]
  },
  {
   "cell_type": "code",
   "execution_count": 7,
   "id": "48a4961b-3a7a-48a9-9286-0c915168f492",
   "metadata": {},
   "outputs": [],
   "source": [
    "# ✅ Method 1: Top-Down (Recursion + Memoization)\n",
    "\n",
    "def unbounded_knapsack_top_down(wt, val, n, w, dp=None):\n",
    "    if dp is None:\n",
    "        dp = [[-1] * (w + 1) for _ in range(n + 1)]\n",
    "    \n",
    "    if n == 0 or w == 0:\n",
    "        return 0\n",
    "\n",
    "    if dp[n][w] != -1:\n",
    "        return dp[n][w]\n",
    "\n",
    "    if wt[n - 1] > w:\n",
    "        dp[n][w] = unbounded_knapsack_top_down(wt, val, n - 1, w, dp)\n",
    "    else:\n",
    "        include = val[n - 1] + unbounded_knapsack_top_down(wt, val, n, w - wt[n - 1], dp)\n",
    "        exclude = unbounded_knapsack_top_down(wt, val, n - 1, w, dp)\n",
    "        dp[n][w] = max(include, exclude)\n",
    "\n",
    "    return dp[n][w]\n"
   ]
  },
  {
   "cell_type": "code",
   "execution_count": 8,
   "id": "f7977ec6-58e6-43f9-8be7-80bf23799cdb",
   "metadata": {},
   "outputs": [],
   "source": [
    "# ✅ Method 2: Bottom-Up Tabulation\n",
    "\n",
    "def unbounded_knapsack_bottom_up(wt, val, n, w):\n",
    "    dp = [[0] * (w + 1) for _ in range(n + 1)]\n",
    "\n",
    "    for i in range(1, n + 1):\n",
    "        for j in range(1, w + 1):\n",
    "            if wt[i - 1] > j:\n",
    "                dp[i][j] = dp[i - 1][j]\n",
    "            else:\n",
    "                include = val[i - 1] + dp[i][j - wt[i - 1]]\n",
    "                exclude = dp[i - 1][j]\n",
    "                dp[i][j] = max(include, exclude)\n",
    "\n",
    "    return dp[n][w]"
   ]
  },
  {
   "cell_type": "code",
   "execution_count": 9,
   "id": "86ce9ecf-cfe6-46f9-8d5a-84a929e1ba88",
   "metadata": {},
   "outputs": [],
   "source": [
    "# ✅ Method 3: Space-Optimized (1D DP)\n",
    "\n",
    "def unbounded_knapsack_optimized(wt, val, n, w):\n",
    "    dp = [0] * (w + 1)\n",
    "\n",
    "    for i in range(n):\n",
    "        for j in range(wt[i], w + 1):\n",
    "            dp[j] = max(dp[j], dp[j - wt[i]] + val[i])\n",
    "\n",
    "    return dp[w]"
   ]
  },
  {
   "cell_type": "code",
   "execution_count": 10,
   "id": "a652f8b9-8232-4d9a-ad54-bd611cd9d629",
   "metadata": {},
   "outputs": [
    {
     "name": "stdout",
     "output_type": "stream",
     "text": [
      "Top-Down: 80\n",
      "Bottom-Up: 80\n",
      "Optimized: 80\n"
     ]
    }
   ],
   "source": [
    "wt = [1, 2, 3]\n",
    "val = [10, 15, 40]\n",
    "W = 6\n",
    "n = len(wt)\n",
    "\n",
    "print(\"Top-Down:\", unbounded_knapsack_top_down(wt, val, n, W))\n",
    "print(\"Bottom-Up:\", unbounded_knapsack_bottom_up(wt, val, n, W))\n",
    "print(\"Optimized:\", unbounded_knapsack_optimized(wt, val, n, W))"
   ]
  },
  {
   "cell_type": "raw",
   "id": "640acd1f-d284-4cbe-9bed-2da99746efb7",
   "metadata": {},
   "source": [
    "Expected Output: 90\n",
    "Explanation: Take item with weight 3 and value 40 twice → 40 + 40 = 80, or 3×1 weight-2 items (15×3) = 45, or 6×1-weight items = 60 → Best is 2×40 = 80\n"
   ]
  },
  {
   "cell_type": "markdown",
   "id": "244f0a70-e458-4d11-a0ca-93dc2b04c293",
   "metadata": {},
   "source": [
    "🧩 Similar Problems (Same Pattern)\n",
    "\n",
    "| Problem                        | Notes                                                     |\n",
    "| ------------------------------ | --------------------------------------------------------- |\n",
    "| **Integer Break**              | Like unbounded knapsack with values = weights             |\n",
    "| **Coin Change (Min)**          | Minimum coins → similar logic with min() instead of max() |\n",
    "| **Coin Change 2 (Count Ways)** | Count number of ways → count instead of value             |\n",
    "| **Combination Sum IV**         | Count permutations of combinations                        |\n",
    "| **Perfect Squares**            | Count minimum number of perfect squares that sum to `n`   |\n"
   ]
  },
  {
   "cell_type": "code",
   "execution_count": null,
   "id": "bf0cdbd9-0684-49cd-8240-0086204ffcc6",
   "metadata": {},
   "outputs": [],
   "source": []
  }
 ],
 "metadata": {
  "kernelspec": {
   "display_name": "Python 3 (ipykernel)",
   "language": "python",
   "name": "python3"
  },
  "language_info": {
   "codemirror_mode": {
    "name": "ipython",
    "version": 3
   },
   "file_extension": ".py",
   "mimetype": "text/x-python",
   "name": "python",
   "nbconvert_exporter": "python",
   "pygments_lexer": "ipython3",
   "version": "3.12.7"
  }
 },
 "nbformat": 4,
 "nbformat_minor": 5
}
